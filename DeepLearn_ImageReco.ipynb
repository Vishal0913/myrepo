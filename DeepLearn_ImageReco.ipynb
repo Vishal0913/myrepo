{
  "nbformat": 4,
  "nbformat_minor": 0,
  "metadata": {
    "colab": {
      "provenance": []
    },
    "kernelspec": {
      "name": "python3",
      "display_name": "Python 3"
    },
    "language_info": {
      "name": "python"
    },
    "accelerator": "GPU",
    "gpuClass": "standard"
  },
  "cells": [
    {
      "cell_type": "code",
      "execution_count": 4,
      "metadata": {
        "id": "9xxcwDYbnptV"
      },
      "outputs": [],
      "source": [
        "import tensorflow as tf\n",
        "from tensorflow import keras\n",
        "import matplotlib.pyplot as plt\n",
        "import numpy as np"
      ]
    },
    {
      "cell_type": "code",
      "source": [
        "tf.test.is_built_with_cuda()"
      ],
      "metadata": {
        "colab": {
          "base_uri": "https://localhost:8080/"
        },
        "id": "c3oHiFAwn8mz",
        "outputId": "fec08492-e42a-44f1-d28f-43d874fcf221"
      },
      "execution_count": 5,
      "outputs": [
        {
          "output_type": "execute_result",
          "data": {
            "text/plain": [
              "True"
            ]
          },
          "metadata": {},
          "execution_count": 5
        }
      ]
    },
    {
      "cell_type": "code",
      "source": [
        "#LoadData Set\n",
        "\n",
        "(X_train, y_train), (X_test,y_test) = tf.keras.datasets.cifar10.load_data()"
      ],
      "metadata": {
        "id": "JyiAOWbcoBC3"
      },
      "execution_count": 6,
      "outputs": []
    },
    {
      "cell_type": "markdown",
      "source": [],
      "metadata": {
        "id": "SLFqO1qxpNg-"
      }
    },
    {
      "cell_type": "code",
      "source": [
        "len(X_train)\n",
        "X_train.shape"
      ],
      "metadata": {
        "colab": {
          "base_uri": "https://localhost:8080/"
        },
        "id": "KbskUUYooR3h",
        "outputId": "68d78319-f8b1-469f-9407-711d0356b6fd"
      },
      "execution_count": 4,
      "outputs": [
        {
          "output_type": "execute_result",
          "data": {
            "text/plain": [
              "(50000, 32, 32, 3)"
            ]
          },
          "metadata": {},
          "execution_count": 4
        }
      ]
    },
    {
      "cell_type": "code",
      "source": [
        "y_train\n",
        "y_train[:5]"
      ],
      "metadata": {
        "colab": {
          "base_uri": "https://localhost:8080/"
        },
        "id": "SrYAQDskoih4",
        "outputId": "00c5f32a-b9fb-4070-9d5c-4e3833f00754"
      },
      "execution_count": 7,
      "outputs": [
        {
          "output_type": "execute_result",
          "data": {
            "text/plain": [
              "array([[6],\n",
              "       [9],\n",
              "       [9],\n",
              "       [4],\n",
              "       [1]], dtype=uint8)"
            ]
          },
          "metadata": {},
          "execution_count": 7
        }
      ]
    },
    {
      "cell_type": "code",
      "source": [
        "def plot_sample(index):\n",
        "    plt.figure(figsize = (15,2))\n",
        "    plt.imshow(X_train[index])"
      ],
      "metadata": {
        "id": "Ugs17dp_qNGd"
      },
      "execution_count": 8,
      "outputs": []
    },
    {
      "cell_type": "code",
      "source": [
        "plot_sample(0)"
      ],
      "metadata": {
        "colab": {
          "base_uri": "https://localhost:8080/",
          "height": 159
        },
        "id": "a3sDc-Eoqoql",
        "outputId": "d424a25f-e46d-4dfb-9b1d-7a1e279b9fa0"
      },
      "execution_count": 9,
      "outputs": [
        {
          "output_type": "display_data",
          "data": {
            "text/plain": [
              "<Figure size 1080x144 with 1 Axes>"
            ],
            "image/png": "[encoded data removed]"
          },
          "metadata": {
            "needs_background": "light"
          }
        }
      ]
    },
    {
      "cell_type": "code",
      "source": [
        "classes = [\"airplane\",\"automobile\",\"bird\",\"cat\",\"deer\",\"dog\",\"frog\",\"horse\",\"ship\",\"truck\"]"
      ],
      "metadata": {
        "id": "xZQMWLJUq1p_"
      },
      "execution_count": 10,
      "outputs": []
    },
    {
      "cell_type": "code",
      "source": [
        "# Preprocessing the data since it has 255 RGB pixcels\n",
        "X_train_scaled = X_train / 255\n",
        "X_test_scaled = X_test / 255"
      ],
      "metadata": {
        "id": "HijpZKAn8EWM"
      },
      "execution_count": 11,
      "outputs": []
    },
    {
      "cell_type": "code",
      "source": [
        "#one hot encoding for output varibles\n",
        "y_train_categorical = keras.utils.to_categorical(\n",
        "    y_train, num_classes=10, dtype='float32'\n",
        ")\n",
        "y_test_categorical = keras.utils.to_categorical(\n",
        "    y_test, num_classes=10, dtype='float32'\n",
        ")"
      ],
      "metadata": {
        "id": "luULFDS18UNz"
      },
      "execution_count": 12,
      "outputs": []
    },
    {
      "cell_type": "code",
      "source": [
        "y_train_categorical "
      ],
      "metadata": {
        "colab": {
          "base_uri": "https://localhost:8080/"
        },
        "id": "9WzupC9z8btX",
        "outputId": "78e7bd05-3af4-4585-f2b9-20173c60ee65"
      },
      "execution_count": 13,
      "outputs": [
        {
          "output_type": "execute_result",
          "data": {
            "text/plain": [
              "array([[0., 0., 0., ..., 0., 0., 0.],\n",
              "       [0., 0., 0., ..., 0., 0., 1.],\n",
              "       [0., 0., 0., ..., 0., 0., 1.],\n",
              "       ...,\n",
              "       [0., 0., 0., ..., 0., 0., 1.],\n",
              "       [0., 1., 0., ..., 0., 0., 0.],\n",
              "       [0., 1., 0., ..., 0., 0., 0.]], dtype=float32)"
            ]
          },
          "metadata": {},
          "execution_count": 13
        }
      ]
    },
    {
      "cell_type": "code",
      "source": [
        "y_train.shape"
      ],
      "metadata": {
        "colab": {
          "base_uri": "https://localhost:8080/"
        },
        "id": "TFZ1mHrA8k_0",
        "outputId": "bd250c01-1683-4b34-a086-8e4a789335cc"
      },
      "execution_count": 15,
      "outputs": [
        {
          "output_type": "execute_result",
          "data": {
            "text/plain": [
              "(50000, 1)"
            ]
          },
          "metadata": {},
          "execution_count": 15
        }
      ]
    },
    {
      "cell_type": "code",
      "source": [
        "y_train_categorical [0:5]"
      ],
      "metadata": {
        "colab": {
          "base_uri": "https://localhost:8080/"
        },
        "id": "tQjOqWCZ8o-K",
        "outputId": "bc4a83f0-846d-4d79-fef8-866842ee66f9"
      },
      "execution_count": 14,
      "outputs": [
        {
          "output_type": "execute_result",
          "data": {
            "text/plain": [
              "array([[0., 0., 0., 0., 0., 0., 1., 0., 0., 0.],\n",
              "       [0., 0., 0., 0., 0., 0., 0., 0., 0., 1.],\n",
              "       [0., 0., 0., 0., 0., 0., 0., 0., 0., 1.],\n",
              "       [0., 0., 0., 0., 1., 0., 0., 0., 0., 0.],\n",
              "       [0., 1., 0., 0., 0., 0., 0., 0., 0., 0.]], dtype=float32)"
            ]
          },
          "metadata": {},
          "execution_count": 14
        }
      ]
    },
    {
      "cell_type": "code",
      "source": [
        "# since we have ten clases so output layer has 10 nueros and input layers can process 32*32\n",
        "model = keras.Sequential([\n",
        "        keras.layers.Flatten(input_shape=(32,32,3)),\n",
        "        keras.layers.Dense(3000, activation='relu'),\n",
        "        keras.layers.Dense(1000, activation='relu'),\n",
        "        keras.layers.Dense(10, activation='sigmoid')    \n",
        "    ])\n",
        "\n",
        "model.compile(optimizer='SGD',\n",
        "              loss='categorical_crossentropy',\n",
        "              metrics=['accuracy'])\n",
        "model.fit(X_train_scaled, y_train_categorical, epochs=50)"
      ],
      "metadata": {
        "colab": {
          "base_uri": "https://localhost:8080/"
        },
        "id": "M3MzKfGu8xVN",
        "outputId": "2bd65be7-a4d7-410b-a633-e52be37582cd"
      },
      "execution_count": 14,
      "outputs": [
        {
          "output_type": "stream",
          "name": "stdout",
          "text": [
            "Epoch 1/50\n",
            "1563/1563 [==============================] - 8s 4ms/step - loss: 1.8082 - accuracy: 0.3564\n",
            "Epoch 2/50\n",
            "1563/1563 [==============================] - 6s 4ms/step - loss: 1.6211 - accuracy: 0.4278\n",
            "Epoch 3/50\n",
            "1563/1563 [==============================] - 5s 4ms/step - loss: 1.5407 - accuracy: 0.4573\n",
            "Epoch 4/50\n",
            "1563/1563 [==============================] - 6s 4ms/step - loss: 1.4807 - accuracy: 0.4802\n",
            "Epoch 5/50\n",
            "1563/1563 [==============================] - 5s 4ms/step - loss: 1.4304 - accuracy: 0.4959\n",
            "Epoch 6/50\n",
            "1563/1563 [==============================] - 6s 4ms/step - loss: 1.3883 - accuracy: 0.5128\n",
            "Epoch 7/50\n",
            "1563/1563 [==============================] - 5s 3ms/step - loss: 1.3474 - accuracy: 0.5271\n",
            "Epoch 8/50\n",
            "1563/1563 [==============================] - 6s 4ms/step - loss: 1.3141 - accuracy: 0.5372\n",
            "Epoch 9/50\n",
            "1563/1563 [==============================] - 6s 4ms/step - loss: 1.2804 - accuracy: 0.5532\n",
            "Epoch 10/50\n",
            "1563/1563 [==============================] - 6s 4ms/step - loss: 1.2494 - accuracy: 0.5602\n",
            "Epoch 11/50\n",
            "1563/1563 [==============================] - 5s 4ms/step - loss: 1.2215 - accuracy: 0.5722\n",
            "Epoch 12/50\n",
            "1563/1563 [==============================] - 5s 4ms/step - loss: 1.1930 - accuracy: 0.5833\n",
            "Epoch 13/50\n",
            "1563/1563 [==============================] - 8s 5ms/step - loss: 1.1640 - accuracy: 0.5899\n",
            "Epoch 14/50\n",
            "1563/1563 [==============================] - 7s 5ms/step - loss: 1.1347 - accuracy: 0.6040\n",
            "Epoch 15/50\n",
            "1563/1563 [==============================] - 6s 4ms/step - loss: 1.1096 - accuracy: 0.6124\n",
            "Epoch 16/50\n",
            "1563/1563 [==============================] - 5s 4ms/step - loss: 1.0851 - accuracy: 0.6246\n",
            "Epoch 17/50\n",
            "1563/1563 [==============================] - 5s 4ms/step - loss: 1.0598 - accuracy: 0.6307\n",
            "Epoch 18/50\n",
            "1563/1563 [==============================] - 5s 3ms/step - loss: 1.0331 - accuracy: 0.6429\n",
            "Epoch 19/50\n",
            "1563/1563 [==============================] - 5s 4ms/step - loss: 1.0052 - accuracy: 0.6488\n",
            "Epoch 20/50\n",
            "1563/1563 [==============================] - 6s 4ms/step - loss: 0.9795 - accuracy: 0.6600\n",
            "Epoch 21/50\n",
            "1563/1563 [==============================] - 6s 4ms/step - loss: 0.9556 - accuracy: 0.6703\n",
            "Epoch 22/50\n",
            "1563/1563 [==============================] - 6s 4ms/step - loss: 0.9320 - accuracy: 0.6776\n",
            "Epoch 23/50\n",
            "1563/1563 [==============================] - 5s 4ms/step - loss: 0.9037 - accuracy: 0.6863\n",
            "Epoch 24/50\n",
            "1563/1563 [==============================] - 6s 4ms/step - loss: 0.8799 - accuracy: 0.6968\n",
            "Epoch 25/50\n",
            "1563/1563 [==============================] - 5s 4ms/step - loss: 0.8532 - accuracy: 0.7052\n",
            "Epoch 26/50\n",
            "1563/1563 [==============================] - 5s 4ms/step - loss: 0.8276 - accuracy: 0.7126\n",
            "Epoch 27/50\n",
            "1563/1563 [==============================] - 6s 4ms/step - loss: 0.8018 - accuracy: 0.7258\n",
            "Epoch 28/50\n",
            "1563/1563 [==============================] - 6s 4ms/step - loss: 0.7801 - accuracy: 0.7317\n",
            "Epoch 29/50\n",
            "1563/1563 [==============================] - 6s 4ms/step - loss: 0.7502 - accuracy: 0.7450\n",
            "Epoch 30/50\n",
            "1563/1563 [==============================] - 5s 4ms/step - loss: 0.7253 - accuracy: 0.7525\n",
            "Epoch 31/50\n",
            "1563/1563 [==============================] - 5s 4ms/step - loss: 0.7027 - accuracy: 0.7599\n",
            "Epoch 32/50\n",
            "1563/1563 [==============================] - 5s 3ms/step - loss: 0.6752 - accuracy: 0.7715\n",
            "Epoch 33/50\n",
            "1563/1563 [==============================] - 6s 4ms/step - loss: 0.6502 - accuracy: 0.7804\n",
            "Epoch 34/50\n",
            "1563/1563 [==============================] - 6s 4ms/step - loss: 0.6273 - accuracy: 0.7899\n",
            "Epoch 35/50\n",
            "1563/1563 [==============================] - 6s 4ms/step - loss: 0.6020 - accuracy: 0.7998\n",
            "Epoch 36/50\n",
            "1563/1563 [==============================] - 6s 4ms/step - loss: 0.5813 - accuracy: 0.8066\n",
            "Epoch 37/50\n",
            "1563/1563 [==============================] - 6s 4ms/step - loss: 0.5531 - accuracy: 0.8158\n",
            "Epoch 38/50\n",
            "1563/1563 [==============================] - 5s 4ms/step - loss: 0.5314 - accuracy: 0.8249\n",
            "Epoch 39/50\n",
            "1563/1563 [==============================] - 5s 3ms/step - loss: 0.5098 - accuracy: 0.8321\n",
            "Epoch 40/50\n",
            "1563/1563 [==============================] - 6s 4ms/step - loss: 0.4840 - accuracy: 0.8407\n",
            "Epoch 41/50\n",
            "1563/1563 [==============================] - 5s 4ms/step - loss: 0.4638 - accuracy: 0.8489\n",
            "Epoch 42/50\n",
            "1563/1563 [==============================] - 6s 4ms/step - loss: 0.4415 - accuracy: 0.8585\n",
            "Epoch 43/50\n",
            "1563/1563 [==============================] - 6s 4ms/step - loss: 0.4206 - accuracy: 0.8651\n",
            "Epoch 44/50\n",
            "1563/1563 [==============================] - 6s 4ms/step - loss: 0.4039 - accuracy: 0.8711\n",
            "Epoch 45/50\n",
            "1563/1563 [==============================] - 6s 4ms/step - loss: 0.3823 - accuracy: 0.8791\n",
            "Epoch 46/50\n",
            "1563/1563 [==============================] - 6s 4ms/step - loss: 0.3657 - accuracy: 0.8847\n",
            "Epoch 47/50\n",
            "1563/1563 [==============================] - 6s 4ms/step - loss: 0.3443 - accuracy: 0.8940\n",
            "Epoch 48/50\n",
            "1563/1563 [==============================] - 6s 4ms/step - loss: 0.3263 - accuracy: 0.9001\n",
            "Epoch 49/50\n",
            "1563/1563 [==============================] - 6s 4ms/step - loss: 0.3100 - accuracy: 0.9062\n",
            "Epoch 50/50\n",
            "1563/1563 [==============================] - 6s 4ms/step - loss: 0.2908 - accuracy: 0.9121\n"
          ]
        },
        {
          "output_type": "execute_result",
          "data": {
            "text/plain": [
              "<keras.callbacks.History at 0x7f67d67a1490>"
            ]
          },
          "metadata": {},
          "execution_count": 14
        }
      ]
    },
    {
      "cell_type": "code",
      "source": [
        "model.evaluate(X_test_scaled,y_test_categorical)"
      ],
      "metadata": {
        "colab": {
          "base_uri": "https://localhost:8080/"
        },
        "id": "d5nrPIhQDIWr",
        "outputId": "c805f42a-ddc8-4f47-8b69-d1545f71e187"
      },
      "execution_count": 15,
      "outputs": [
        {
          "output_type": "stream",
          "name": "stdout",
          "text": [
            "313/313 [==============================] - 1s 3ms/step - loss: 1.7326 - accuracy: 0.5260\n"
          ]
        },
        {
          "output_type": "execute_result",
          "data": {
            "text/plain": [
              "[1.7326171398162842, 0.5260000228881836]"
            ]
          },
          "metadata": {},
          "execution_count": 15
        }
      ]
    },
    {
      "cell_type": "code",
      "source": [
        "np.argmax(model.predict(X_test_scaled)[1])"
      ],
      "metadata": {
        "colab": {
          "base_uri": "https://localhost:8080/"
        },
        "id": "tpv36420DUYz",
        "outputId": "b36281a9-4193-4282-d898-73d1bfe10a56"
      },
      "execution_count": 16,
      "outputs": [
        {
          "output_type": "execute_result",
          "data": {
            "text/plain": [
              "9"
            ]
          },
          "metadata": {},
          "execution_count": 16
        }
      ]
    },
    {
      "cell_type": "code",
      "source": [
        "pred_result=model.predict(X_test_scaled)"
      ],
      "metadata": {
        "id": "HNlc1frtOYAB"
      },
      "execution_count": 17,
      "outputs": []
    },
    {
      "cell_type": "code",
      "source": [
        "y_test_categorical[0:3]"
      ],
      "metadata": {
        "colab": {
          "base_uri": "https://localhost:8080/"
        },
        "id": "BLcCRo7NDZzw",
        "outputId": "17b772f6-c911-4ec1-e08b-dd785ad043aa"
      },
      "execution_count": 18,
      "outputs": [
        {
          "output_type": "execute_result",
          "data": {
            "text/plain": [
              "array([[0., 0., 0., 1., 0., 0., 0., 0., 0., 0.],\n",
              "       [0., 0., 0., 0., 0., 0., 0., 0., 1., 0.],\n",
              "       [0., 0., 0., 0., 0., 0., 0., 0., 1., 0.]], dtype=float32)"
            ]
          },
          "metadata": {},
          "execution_count": 18
        }
      ]
    },
    {
      "cell_type": "markdown",
      "source": [
        "![Capture.JPG](data:image/jpeg;base64,/9j/4AAQSkZJRgABAQEAkACQAAD/4RD0RXhpZgAATU0AKgAAAAgABAE7AAIAAAAOAAAISodpAAQAAAABAAAIWJydAAEAAAAcAAAQ0OocAAcAAAgMAAAAPgAAAAAc6gAAAAgAAAAAAAAAAAAAAAAAAAAAAAAAAAAAAAAAAAAAAAAAAAAAAAAAAAAAAAAAAAAAAAAAAAAAAAAAAAAAAAAAAAAAAAAAAAAAAAAAAAAAAAAAAAAAAAAAAAAAAAAAAAAAAAAAAAAAAAAAAAAAAAAAAAAAAAAAAAAAAAAAAAAAAAAAAAAAAAAAAAAAAAAAAAAAAAAAAAAAAAAAAAAAAAAAAAAAAAAAAAAAAAAAAAAAAAAAAAAAAAAAAAAAAAAAAAAAAAAAAAAAAAAAAAAAAAAAAAAAAAAAAAAAAAAAAAAAAAAAAAAAAAAAAAAAAAAAAAAAAAAAAAAAAAAAAAAAAAAAAAAAAAAAAAAAAAAAAAAAAAAAAAAAAAAAAAAAAAAAAAAAAAAAAAAAAAAAAAAAAAAAAAAAAAAAAAAAAAAAAAAAAAAAAAAAAAAAAAAAAAAAAAAAAAAAAAAAAAAAAAAAAAAAAAAAAAAAAAAAAAAAAAAAAAAAAAAAAAAAAAAAAAAAAAAAAAAAAAAAAAAAAAAAAAAAAAAAAAAAAAAAAAAAAAAAAAAAAAAAAAAAAAAAAAAAAAAAAAAAAAAAAAAAAAAAAAAAAAAAAAAAAAAAAAAAAAAAAAAAAAAAAAAAAAAAAAAAAAAAAAAAAAAAAAAAAAAAAAAAAAAAAAAAAAAAAAAAAAAAAAAAAAAAAAAAAAAAAAAAAAAAAAAAAAAAAAAAAAAAAAAAAAAAAAAAAAAAAAAAAAAAAAAAAAAAAAAAAAAAAAAAAAAAAAAAAAAAAAAAAAAAAAAAAAAAAAAAAAAAAAAAAAAAAAAAAAAAAAAAAAAAAAAAAAAAAAAAAAAAAAAAAAAAAAAAAAAAAAAAAAAAAAAAAAAAAAAAAAAAAAAAAAAAAAAAAAAAAAAAAAAAAAAAAAAAAAAAAAAAAAAAAAAAAAAAAAAAAAAAAAAAAAAAAAAAAAAAAAAAAAAAAAAAAAAAAAAAAAAAAAAAAAAAAAAAAAAAAAAAAAAAAAAAAAAAAAAAAAAAAAAAAAAAAAAAAAAAAAAAAAAAAAAAAAAAAAAAAAAAAAAAAAAAAAAAAAAAAAAAAAAAAAAAAAAAAAAAAAAAAAAAAAAAAAAAAAAAAAAAAAAAAAAAAAAAAAAAAAAAAAAAAAAAAAAAAAAAAAAAAAAAAAAAAAAAAAAAAAAAAAAAAAAAAAAAAAAAAAAAAAAAAAAAAAAAAAAAAAAAAAAAAAAAAAAAAAAAAAAAAAAAAAAAAAAAAAAAAAAAAAAAAAAAAAAAAAAAAAAAAAAAAAAAAAAAAAAAAAAAAAAAAAAAAAAAAAAAAAAAAAAAAAAAAAAAAAAAAAAAAAAAAAAAAAAAAAAAAAAAAAAAAAAAAAAAAAAAAAAAAAAAAAAAAAAAAAAAAAAAAAAAAAAAAAAAAAAAAAAAAAAAAAAAAAAAAAAAAAAAAAAAAAAAAAAAAAAAAAAAAAAAAAAAAAAAAAAAAAAAAAAAAAAAAAAAAAAAAAAAAAAAAAAAAAAAAAAAAAAAAAAAAAAAAAAAAAAAAAAAAAAAAAAAAAAAAAAAAAAAAAAAAAAAAAAAAAAAAAAAAAAAAAAAAAAAAAAAAAAAAAAAAAAAAAAAAAAAAAAAAAAAAAAAAAAAAAAAAAAAAAAAAAAAAAAAAAAAAAAAAAAAAAAAAAAAAAAAAAAAAAAAAAAAAAAAAAAAAAAAAAAAAAAAAAAAAAAAAAAAAAAAAAAAAAAAAAAAAAAAAAAAAAAAAAAAAAAAAAAAAAAAAAAAAAAAAAAAAAAAAAAAAAAAAAAAAAAAAAAAAAAAAAAAAAAAAAAAAAAAAAAAAAAAAAAAAAAAAAAAAAAAAAAAAAAAAAAAAAAAAAAAAAAAAAAAAAAAAAAAAAAAAAAAAAAAAAAAAAAAAAAAAAAAAAAAAAAAAAAAAAAAAAAAAAAAAAAAAAAAAAAAAAAAAAAAAAAAAAAAAAAAAAAAAAAAAAAAAAAAAAAAAAAAAAAAAAAAAAAAAAAAAAAAAAAAAAAAAAAAAAAAAAAAAAAAAAAAAAAAAAAAAAAAAAAAAAAAAAAAAAAAAAAAAAAAAAAAAAAAAAAAAAAAAAAAAAAAAAAAAAAAAAAAAAAAAAAAAAAAAAAAAAAAAAAAAAAAAAAAAAAAAAAAAAAAAAAAAAAAAAAAAAAAAAAAAAAAAAAAAAAAAAAAAAAAAAAAAAAAAAAAAAAAAAAAAAAAAAAAAAAAAAAAAAAAAAAAAAAAAAAAAAAAAAAAAAAAAAAAAAAAAAAAAAAAAAAAAAAAAAAAAAAAAAAAAAAAAAAAAAAAAAAAAAAAAAAAAAAAAAAAAAAAAAAAAAAAAAAAAAAAAAAAAAAAAAAAAAAAAAAAAAAAAAAAAAAAAAAAAAAAAAAAAAAAAAAAAAAAAAAAAAAAAAAAAAAAAAAAAAAAAAAAAAAAAAAAAAAAAAAAAAAAAAAAAAAAAAAAAAAAAAAAAAAAAAAAAAAAAAAAAAAAAAAAAAAAAAAAAAAAAAAAAAAAAAAAAAAAAAAAAAAAAAAAAAAAAAAAAAAAAAAAAAAAAAAAAAAAAAAAAAAAAAAAAAAAAAAAAAAAAAAAAAAAAAAAAAAAAAAAAAAAAAAAAAAAAAAAAAAAAAAAAAAAAAAAAAAAAAAAAAAAAAAAAAAAAAAAAAAAAAAAAAAAAAAAAAAAAAAAAAAAAAAAAAAAAAAAAAAAAAAAAAAAAAAAAAAAAAAAAAAAAAAAAAAAAAAAAFZpc2hhbCBHYXJnIEIAAAWQAwACAAAAFAAAEKaQBAACAAAAFAAAELqSkQACAAAAAzYxAACSkgACAAAAAzYxAADqHAAHAAAIDAAACJoAAAAAHOoAAAAIAAAAAAAAAAAAAAAAAAAAAAAAAAAAAAAAAAAAAAAAAAAAAAAAAAAAAAAAAAAAAAAAAAAAAAAAAAAAAAAAAAAAAAAAAAAAAAAAAAAAAAAAAAAAAAAAAAAAAAAAAAAAAAAAAAAAAAAAAAAAAAAAAAAAAAAAAAAAAAAAAAAAAAAAAAAAAAAAAAAAAAAAAAAAAAAAAAAAAAAAAAAAAAAAAAAAAAAAAAAAAAAAAAAAAAAAAAAAAAAAAAAAAAAAAAAAAAAAAAAAAAAAAAAAAAAAAAAAAAAAAAAAAAAAAAAAAAAAAAAAAAAAAAAAAAAAAAAAAAAAAAAAAAAAAAAAAAAAAAAAAAAAAAAAAAAAAAAAAAAAAAAAAAAAAAAAAAAAAAAAAAAAAAAAAAAAAAAAAAAAAAAAAAAAAAAAAAAAAAAAAAAAAAAAAAAAAAAAAAAAAAAAAAAAAAAAAAAAAAAAAAAAAAAAAAAAAAAAAAAAAAAAAAAAAAAAAAAAAAAAAAAAAAAAAAAAAAAAAAAAAAAAAAAAAAAAAAAAAAAAAAAAAAAAAAAAAAAAAAAAAAAAAAAAAAAAAAAAAAAAAAAAAAAAAAAAAAAAAAAAAAAAAAAAAAAAAAAAAAAAAAAAAAAAAAAAAAAAAAAAAAAAAAAAAAAAAAAAAAAAAAAAAAAAAAAAAAAAAAAAAAAAAAAAAAAAAAAAAAAAAAAAAAAAAAAAAAAAAAAAAAAAAAAAAAAAAAAAAAAAAAAAAAAAAAAAAAAAAAAAAAAAAAAAAAAAAAAAAAAAAAAAAAAAAAAAAAAAAAAAAAAAAAAAAAAAAAAAAAAAAAAAAAAAAAAAAAAAAAAAAAAAAAAAAAAAAAAAAAAAAAAAAAAAAAAAAAAAAAAAAAAAAAAAAAAAAAAAAAAAAAAAAAAAAAAAAAAAAAAAAAAAAAAAAAAAAAAAAAAAAAAAAAAAAAAAAAAAAAAAAAAAAAAAAAAAAAAAAAAAAAAAAAAAAAAAAAAAAAAAAAAAAAAAAAAAAAAAAAAAAAAAAAAAAAAAAAAAAAAAAAAAAAAAAAAAAAAAAAAAAAAAAAAAAAAAAAAAAAAAAAAAAAAAAAAAAAAAAAAAAAAAAAAAAAAAAAAAAAAAAAAAAAAAAAAAAAAAAAAAAAAAAAAAAAAAAAAAAAAAAAAAAAAAAAAAAAAAAAAAAAAAAAAAAAAAAAAAAAAAAAAAAAAAAAAAAAAAAAAAAAAAAAAAAAAAAAAAAAAAAAAAAAAAAAAAAAAAAAAAAAAAAAAAAAAAAAAAAAAAAAAAAAAAAAAAAAAAAAAAAAAAAAAAAAAAAAAAAAAAAAAAAAAAAAAAAAAAAAAAAAAAAAAAAAAAAAAAAAAAAAAAAAAAAAAAAAAAAAAAAAAAAAAAAAAAAAAAAAAAAAAAAAAAAAAAAAAAAAAAAAAAAAAAAAAAAAAAAAAAAAAAAAAAAAAAAAAAAAAAAAAAAAAAAAAAAAAAAAAAAAAAAAAAAAAAAAAAAAAAAAAAAAAAAAAAAAAAAAAAAAAAAAAAAAAAAAAAAAAAAAAAAAAAAAAAAAAAAAAAAAAAAAAAAAAAAAAAAAAAAAAAAAAAAAAAAAAAAAAAAAAAAAAAAAAAAAAAAAAAAAAAAAAAAAAAAAAAAAAAAAAAAAAAAAAAAAAAAAAAAAAAAAAAAAAAAAAAAAAAAAAAAAAAAAAAAAAAAAAAAAAAAAAAAAAAAAAAAAAAAAAAAAAAAAAAAAAAAAAAAAAAAAAAAAAAAAAAAAAAAAAAAAAAAAAAAAAAAAAAAAAAAAAAAAAAAAAAAAAAAAAAAAAAAAAAAAAAAAAAAAAAAAAAAAAAAAAAAAAAAAAAAAAAAAAAAAAAAAAAAAAAAAAAAAAAAAAAAAAAAAAAAAAAAAAAAAAAAAAAAAAAAAAAAAAAAAAAAAAAAAAAAAAAAAAAAAAAAAAAAAAAAAAAAAAAAAAAAAAAAAAAAAAAAAAAAAAAAAAAAAAAAAAAAAAAAAAAAAAAAAAAAAAAAAAAAAAAAAAAAAAAAAAAAAAAAAAAAAAAAAAAAAAAAAAAAAAAAAAAAAAAAAAAAAAAAAAAAAAAAAAAAAAAAAAAAAAAAAAAAAAAAAAAAAAAAAAAAAAAAAAAAAAAAAAAAAAAAAAAAAAAAAAAAAAAAAAAAAAAAAAAAAAAAAAAAAAAAAAAAAAAAAAAAAAAAAAAAAAAAAAAAAAAAAAAAAAAAAAAAAAAAAAAAAAAAAAAAAAAAAAAAAAAAAAAAAAAAAAAAAAAAAAAAAAAAAAAAAAAAAAAAAAAAAAAAAAAAAAAAAAAAAAAAAAAAAAAAAAAAAAAAAAAAAAAAAAAAAAAAAAAAAAAAAAAAAAAAAAAAAAAAAAAAAAAAAAAAAAAAAAAAAAAAAAAAAAAAAAAAAAAAAAAAAAAAAAAAAAAAAAAAAAAAAAAAAAAAAAAAAAAAAAAAAAAAAAAAAAAAAAAAAAAAAAAAAAAAAAAAAAAAAAAAAAAAAAAAAAAAAAAAAAAAAAAAAAAAAAAAAAAAAAAAAAAAAAAAAAAAAAAAAAAAAAAAAAAAAAAAAAAAAAAAAAAAAAAAAAAAAAAAAAAAAAAAAAAAAAAAAAAAAAAAAAAAAAAAAAAAAAAAAAAAAAAAAAAAAAAAAAAAAAAAAAAAAAAAAAAAAAAAAAAAAAAAAAAAAAAAAAAAAAAAAAAAAAAAAAAAAAAAAAAAAAAAAAAAAAAAAAAAAAAAAAAAAAAAAAyMDIyOjA5OjA5IDEzOjM5OjAxADIwMjI6MDk6MDkgMTM6Mzk6MDEAAABWAGkAcwBoAGEAbAAgAEcAYQByAGcAIABCAAAA/+ELIGh0dHA6Ly9ucy5hZG9iZS5jb20veGFwLzEuMC8APD94cGFja2V0IGJlZ2luPSfvu78nIGlkPSdXNU0wTXBDZWhpSHpyZVN6TlRjemtjOWQnPz4NCjx4OnhtcG1ldGEgeG1sbnM6eD0iYWRvYmU6bnM6bWV0YS8iPjxyZGY6UkRGIHhtbG5zOnJkZj0iaHR0cDovL3d3dy53My5vcmcvMTk5OS8wMi8yMi1yZGYtc3ludGF4LW5zIyI+PHJkZjpEZXNjcmlwdGlvbiByZGY6YWJvdXQ9InV1aWQ6ZmFmNWJkZDUtYmEzZC0xMWRhLWFkMzEtZDMzZDc1MTgyZjFiIiB4bWxuczpkYz0iaHR0cDovL3B1cmwub3JnL2RjL2VsZW1lbnRzLzEuMS8iLz48cmRmOkRlc2NyaXB0aW9uIHJkZjphYm91dD0idXVpZDpmYWY1YmRkNS1iYTNkLTExZGEtYWQzMS1kMzNkNzUxODJmMWIiIHhtbG5zOnhtcD0iaHR0cDovL25zLmFkb2JlLmNvbS94YXAvMS4wLyI+PHhtcDpDcmVhdGVEYXRlPjIwMjItMDktMDlUMTM6Mzk6MDEuNjA4PC94bXA6Q3JlYXRlRGF0ZT48L3JkZjpEZXNjcmlwdGlvbj48cmRmOkRlc2NyaXB0aW9uIHJkZjphYm91dD0idXVpZDpmYWY1YmRkNS1iYTNkLTExZGEtYWQzMS1kMzNkNzUxODJmMWIiIHhtbG5zOmRjPSJodHRwOi8vcHVybC5vcmcvZGMvZWxlbWVudHMvMS4xLyI+PGRjOmNyZWF0b3I+PHJkZjpTZXEgeG1sbnM6cmRmPSJodHRwOi8vd3d3LnczLm9yZy8xOTk5LzAyLzIyLXJkZi1zeW50YXgtbnMjIj48cmRmOmxpPlZpc2hhbCBHYXJnIEI8L3JkZjpsaT48L3JkZjpTZXE+DQoJCQk8L2RjOmNyZWF0b3I+PC9yZGY6RGVzY3JpcHRpb24+PC9yZGY6UkRGPjwveDp4bXBtZXRhPg0KICAgICAgICAgICAgICAgICAgICAgICAgICAgICAgICAgICAgICAgICAgICAgICAgICAgICAgICAgICAgICAgICAgICAgICAgICAgICAgICAgICAgICAgICAgICAgICAgICAgIAogICAgICAgICAgICAgICAgICAgICAgICAgICAgICAgICAgICAgICAgICAgICAgICAgICAgICAgICAgICAgICAgICAgICAgICAgICAgICAgICAgICAgICAgICAgICAgICAgICAgCiAgICAgICAgICAgICAgICAgICAgICAgICAgICAgICAgICAgICAgICAgICAgICAgICAgICAgICAgICAgICAgICAgICAgICAgICAgICAgICAgICAgICAgICAgICAgICAgICAgICAKICAgICAgICAgICAgICAgICAgICAgICAgICAgICAgICAgICAgICAgICAgICAgICAgICAgICAgICAgICAgICAgICAgICAgICAgICAgICAgICAgICAgICAgICAgICAgICAgICAgIAogICAgICAgICAgICAgICAgICAgICAgICAgICAgICAgICAgICAgICAgICAgICAgICAgICAgICAgICAgICAgICAgICAgICAgICAgICAgICAgICAgICAgICAgICAgICAgICAgICAgCiAgICAgICAgICAgICAgICAgICAgICAgICAgICAgICAgICAgICAgICAgICAgICAgICAgICAgICAgICAgICAgICAgICAgICAgICAgICAgICAgICAgICAgICAgICAgICAgICAgICAKICAgICAgICAgICAgICAgICAgICAgICAgICAgICAgICAgICAgICAgICAgICAgICAgICAgICAgICAgICAgICAgICAgICAgICAgICAgICAgICAgICAgICAgICAgICAgICAgICAgIAogICAgICAgICAgICAgICAgICAgICAgICAgICAgICAgICAgICAgICAgICAgICAgICAgICAgICAgICAgICAgICAgICAgICAgICAgICAgICAgICAgICAgICAgICAgICAgICAgICAgCiAgICAgICAgICAgICAgICAgICAgICAgICAgICAgICAgICAgICAgICAgICAgICAgICAgICAgICAgICAgICAgICAgICAgICAgICAgICAgICAgICAgICAgICAgICAgICAgICAgICAKICAgICAgICAgICAgICAgICAgICAgICAgICAgICAgICAgICAgICAgICAgICAgICAgICAgICAgICAgICAgICAgICAgICAgICAgICAgICAgICAgICAgICAgICAgICAgICAgICAgIAogICAgICAgICAgICAgICAgICAgICAgICAgICAgICAgICAgICAgICAgICAgICAgICAgICAgICAgICAgICAgICAgICAgICAgICAgICAgICAgICAgICAgICAgICAgICAgICAgICAgCiAgICAgICAgICAgICAgICAgICAgICAgICAgICAgICAgICAgICAgICAgICAgICAgICAgICAgICAgICAgICAgICAgICAgICAgICAgICAgICAgICAgICAgICAgICAgICAgICAgICAKICAgICAgICAgICAgICAgICAgICAgICAgICAgICAgICAgICAgICAgICAgICAgICAgICAgICAgICAgICAgICAgICAgICAgICAgICAgICAgICAgICAgICAgICAgICAgICAgICAgIAogICAgICAgICAgICAgICAgICAgICAgICAgICAgICAgICAgICAgICAgICAgICAgICAgICAgICAgICAgICAgICAgICAgICAgICAgICAgICAgICAgICAgICAgICAgICAgICAgICAgCiAgICAgICAgICAgICAgICAgICAgICAgICAgICAgICAgICAgICAgICAgICAgICAgICAgICAgICAgICAgICAgICAgICAgICAgICAgICAgICAgICAgICAgICAgICAgICAgICAgICAKICAgICAgICAgICAgICAgICAgICAgICAgICAgICAgICAgICAgICAgICAgICAgICAgICAgICAgICAgICAgICAgICAgICAgICAgICAgICAgICAgICAgICAgICAgICAgICAgICAgIAogICAgICAgICAgICAgICAgICAgICAgICAgICAgICAgICAgICAgICAgICAgICAgICAgICAgICAgICAgICAgICAgICAgICAgICAgICAgICAgICAgICAgICAgICAgICAgICAgICAgCiAgICAgICAgICAgICAgICAgICAgICAgICAgICAgICAgICAgICAgICAgICAgICAgICAgICAgICAgICAgICAgICAgICAgICAgICAgICAgICAgICAgICAgICAgICAgICAgICAgICAKICAgICAgICAgICAgICAgICAgICAgICAgICAgICAgICAgICAgICAgICAgICAgICAgICAgICAgICAgICAgICAgICAgICAgICAgICAgICAgICAgICAgICAgICAgICAgICAgICAgIAogICAgICAgICAgICAgICAgICAgICAgICAgICAgICAgICAgICAgICAgICAgICAgICAgICAgICAgICAgICAgICAgICAgICAgICAgICAgICAgICAgICAgICAgICAgICAgICAgICAgCiAgICAgICAgICAgICAgICAgICAgICAgICAgICA8P3hwYWNrZXQgZW5kPSd3Jz8+/9sAQwAHBQUGBQQHBgUGCAcHCAoRCwoJCQoVDxAMERgVGhkYFRgXGx4nIRsdJR0XGCIuIiUoKSssKxogLzMvKjInKisq/9sAQwEHCAgKCQoUCwsUKhwYHCoqKioqKioqKioqKioqKioqKioqKioqKioqKioqKioqKioqKioqKioqKioqKioqKioq/8AAEQgCdQR0AwEiAAIRAQMRAf/EAB8AAAEFAQEBAQEBAAAAAAAAAAABAgMEBQYHCAkKC//EALUQAAIBAwMCBAMFBQQEAAABfQECAwAEEQUSITFBBhNRYQcicRQygZGhCCNCscEVUtHwJDNicoIJChYXGBkaJSYnKCkqNDU2Nzg5OkNERUZHSElKU1RVVldYWVpjZGVmZ2hpanN0dXZ3eHl6g4SFhoeIiYqSk5SVlpeYmZqio6Slpqeoqaqys7S1tre4ubrCw8TFxsfIycrS09TV1tfY2drh4uPk5ebn6Onq8fLz9PX29/j5+v/EAB8BAAMBAQEBAQEBAQEAAAAAAAABAgMEBQYHCAkKC//EALURAAIBAgQEAwQHBQQEAAECdwABAgMRBAUhMQYSQVEHYXETIjKBCBRCkaGxwQkjM1LwFWJy0QoWJDThJfEXGBkaJicoKSo1Njc4OTpDREVGR0hJSlNUVVZXWFlaY2RlZmdoaWpzdHV2d3h5eoKDhIWGh4iJipKTlJWWl5iZmqKjpKWmp6ipqrKztLW2t7i5usLDxMXGx8jJytLT1NXW19jZ2uLj5OXm5+jp6vLz9PX29/j5+v/aAAwDAQACEQMRAD8A96sRtvse1a9ZFkc6gfpWsRxQAtFJiloAKKKMUAFFJiloAKKKKACiiigAooooAKKKKACiiigAooooAKKKKACiiigAooooAKKKKACiiigAooooAKKKKACiiigAooooAKKKKACiiigAooooAKKKKACiiigAooooAKKKKACiiigAooooAKKKKACiiigAooooAKKKKACiiigAooooAKKKKACiiigAooooAKKKKACiiigAooooAKKKKACiiigAooooAKKKKACiiigAooooAKKKKACiiigAooooAKbICY2A7jvTqbIMxsOmRikwKmmwRW1uywHKFs9e9XM1R0izNlaNG0nmAsSCTV/NC2ATNGTS5ozTATJpaM0ZoAKKTNGT6UALRSZPpRk+lAC0UmTS0AFFFFABRRSc0ALRSZPpRk+lAC0UmT6UZNAC0UUUAFFFFABRSc0ZPpQAtFJk+lGT6UALRSZNLQAUUUUAFFFJzQAtFJk+lGT6UALRSZPpRk0ALRRRQAUUUUAYN23+lPx3opt4T9rk+tFAE9h/yED9K2TWNp//ACED9K2aACiiigAooooAKKKKACiiigAooooAKKKKACiiigAooooAKKKKACiiigAooooAKKKKACiiigAooooAKKKKACiiigAooooAKKKKACiiigAooooAKKKKACiiigAooooAKKKKACiiigAooooAKKKKACiiigAooooAKKKKACiiigAooooAKKKKACiiigAooooAKKKKACiiigAooooAKKKKACiiigAooooAKKKKACiiigAooooAKKKKACiiigAooooAKKKKACmy58tgvUjAp1MlOI2x1xxSYFTSrWS0t2jmk8xixOavVQ0mK4gtmW6bc5YnPtV+hbAFFJzRzTAWik5paADFFFFABRRRQAUUUUAFGRRRQAZFGRRRQAZooooAKKKKACiiigAyKMiiigAyKM0UUAFFFFABRRRQAUZFFFABkUZFFFABmiiigAooooAKKKKADIozRRQBz92f9Lk/3qKfd/8AH3J/vUUASaf/AMhA/StmsbT/APkIH6Vs0AFFFFABRRRQAUUUUAFFFFABRRRQAUUUUAFFFFABRRRQAUUUUAFFFFABRRRQAUUUUAFFFFABRRRQAUUUUAFFFFABRRRQAUUUUAFFFFABRRRQAUUUUAFFFFABRRRQAUUUUAFFFFABRRRQAUUUUAFFFFABRRRQAUUUUAFFFFABRRRQAUUUUAFFFFABRRRQAUUUUAFFFFABRRRQAUUUUAFFFFABRRRQAUUUUAFFFFABRRRQAUUUUAFFFFABRRRQAUUUUAFMlOI2I644p9Mk4jY9cCkwKWkG6a1b7aMNuOPpV8gEj2qlpNzNc2zNcIUYMQAR2q9R0AKKBxRTAKKKKACiiigAooooAKKKKACiiigAooooAKKKKACiiigAooooAKKKKACiiigAooooAKKKKACiiigAooooAKKKKACiiigAooooAKKKKAMK7/4+5P8Aeoou/wDj7k/3qKAJNP8A+QgfpWzWNp//ACED9K2aACiiigAooooAKKKKACiiigAooooAKKKKACiiigAooooAKKKKACiiigAooooAKKKKACiiigAooooAKKKKACiiigAooooAKKKKACiiigAooooAKKKKACiiigAooooAKKKKACiiigAooooAKKKKACiiigAooooAKKKKACiiigAooooAKKKKACiiigAooooAKKKKACiiigAooooAKKKKACiiigAooooAKKKKACiiigAooooAKKKKACiiigAooooAKKKKACmS/wCrY+gzT6ZL/q2z2GaTAqaXeNfWrOU2FWI6VdIJIwap6Xdx3luzxJsAYjGKu0dACiiimAUUUUAFFFFABRRRQAUUUUAFFFFABRRRQAUUUUAFFFFABRRRQAUUUUAFFFFABRRRQAUUUUAFFFFABRRRQAUUUUAFFFFABRRRQAUUUUAYV3/x9yf71FF3/wAfcn+9RQBJp/8AyED9K2axtP8A+QgfpWzQAUUUUAFFFFABRRRQAUUUUAFFFFABRRRQAUUUUAFFFFABRRRQAUUUUAFFFFABRRRQAUUUUAFFFFABRRRQAUUUUAFFFFABRRRQAUUUUAFFFFABRRRQAUUUUAFFFFABRRRQAUUUUAFFFFABRRRQAUUUUAFFFFABRRRQAUUUUAFFFFABRRRQAUUUUAFFFFABRRRQAUUUUAFFFFABRRRQAUUUUAFFFFABRRRQAUUUUAFFFFABRRRQAUUUUAFFFFABRRRQAUyX/Vt9OafTJf8AVt9OaTArabNbzW5a0UKobBA9atnIIxVTTUtUt2Fl93dz9at85o6ALRRRTAKKKKACiiigAooooAKKKKACiiigAooooAKKKKACiiigAooooAKKKKACiiigAooooAKKKKACiiigAooooAKKKKACiiigAooooAKKKKAMK7/4+5P96ii7/wCPuT/eooAk0/8A5CB+lbNY2n/8hA/StmgAooooAKKKKACiiigAooooAKKKKACiiigAooooAKKKKACiiigAooooAKKKKACiiigAooooAKKKKACiiigAooooAKKKKACiiigAooooAKKKKACiiigAooooAKKKKACiiigAooooAKKKKACiiigAooooAKKKKACiiigAooooAKKKKACiiigAooooAKKKKACiiigAooooAKKKKACiiigAooooAKKKKACiiigAooooAKKKKACiiigAooooAKKKKACiiigApkv+rbPTHNPpkvMbA9CMUmBU0y3t7W3ZLV96liSferxOKo6ZZLYWrIknmZYtmr3Bo6AFFFFMAooooAKKKKACiiigAooooAKKKKACiiigAooooAKKKKACiiigAooooAKKKKACiiigAooooAKKKKACiiigAooooAKKKKACiiigAooooAwrv/j7k/3qKLv/AI+5P96igCTT/wDkIH6Vs1jWH/IQP0rZoAKKKKACiiigAooooAKKKKACiiigAooooAKKKKACiiigAooooAKKKKACiiigAooooAKKKKACiiigAooooAKM0GkoAXNFFFABRRRQAUUUUAFFFFABRRRQAUUUUAFFFFABRRRQAUUUUAFFFFABRRRQAUUUUAFFFFABRRRQAUUUUAFFFFABRRRQAUUUUAFFFFABRRRQAUUUUAFFFFABRRRQAUUUUAFFFFABRRRQAUUUUAFFFFABRRRQAUUUUAFFFFABRRRQAUyXmNh0yMU+mSDMbD24pMCnpNrJZ2zJK28lic5q/jmqGkx3EVqwuzltxx9KvEAkUdAFooopgFFFFABRRRQAUUUUAFFFFABRRRQAUUUUAFFFFABRRRQAUUUUAFFFFABRRRQAUUUUAFFFFABRRRQAUUUUAFFFFABRRRQAUUUUAFFFFAGFd/8AH3J/vUUXf/H3J/vUUASWH/IRP0rZrGsP+QifpWzQAUUUUAFFFFABRRRQAUUUUAFFFFABRRRQAUUUUAFFFFABRRRQAUUUUAFFFFABRRRQAUUUUAFFFFABRRRQAGkpaQnFK4ASByTik82MnAdSfTNcN8Vb6ex8PQtBcS26vKA7RHnHFY/hya0iD32n3OoXVxaQebJHOCFbito0m43Jbsep0ZrkX8cxnwrb6pFCrXE7YFvnkc81i3HxSczGXT7OOe0gXN0xb5kP0qfZz6IXOj0iis/RdYt9d0eDULLPkzLkZGCPasLxb4xuPD+q2OnWNiby4vjiMZ6GkotuxVzraK4e0+ID2v2uHxJZ/Yri3OEA5D/4UyLx3qVvNDPrOjm1064P7ucHP581XspC50d3mjIrgbHx9qGt6tJFpGlr9jhk2vNMdpI9RzUOofEt01K5g0myS6gs/wDj4cnkeuKfsZ9ifaI9EorN0LWbfX9Hh1CzzskHQ9jWL4t8bReHLm20+CIXOoXIzHETxUKMm7IrmSVzrM0ZritL8eSalb3EEdpGNSt1y8O75fzqDw/8QZr3W5dK1iyW2uBE0qFDkECq9lU7C54neUV55afEy6udHvtWOjv9htZTEGXq5BxWt4U8T6nrsqyXthHa20ykxEN834jNDpySuyro62jNch4p8brouqRaVp8S3N/KN3lscACuW174l6nN4LkvdDttmo284jlj7H6U1Rm1cl1Ip6nrFFcNL44vtP0bTVvtP3axqCDybVf4jW14d1nVdQZ4ta0trCVRkc5BqXCS3GpJm/RSUtQUFFFFABRRRQAUUUUAFFFFABRRRQAUUUUAFFFFABRRRQAUUUUAFFFFABRRRQAUUUUAFFFFABRRRQAUUUUAFFFFABRRRQAUUUUAFFFFABRRRQAUUUUAFMlGY29ccU+myZEbY64OKTApaSblrVjeDD7jj6VfrP0iaea1ZrkEMGIGfSr5B4xxR0AWiiimAUUUUAFFFFABRRRQAUUUUAFFFFABRRRQAUUUUAFFFFABRRRQAUUUUAFFFFABRRRQAUUUUAFFFFABRRRQAUUUUAFFFFABRRRQAUUUUAYV3/x9yf71FF3/AMfcn+9RQBJYf8hE/Stmsaw/5CJ+lbNABRRRQAUUUUAFFFFABRRRQAUUUUAFFFFABRRRQAUUUUAFFFFABRRRQAUUUUAFFFFABRRRQAUUUUAFFFFAAaTAApaKAOW8c+H7zxDpMKaY6LPDIHXzBwf84qja3HirTvJbWYLNdPjTbcNEvzMuK7fGOlMkjSaNo5VDowwynoRWiqNKzE0eU+D9H/tj4i6hqkAcaLEpSCJh8pPqKlufhhcWWqXB0199pdyb3TPT616fbWsFnF5drCkSf3UGBUtP2sr6E8iONsLHWdL8RWNhZ7V0mNMzADgmrOt+HLzUfGGmapDIqxWbAsD1IrqcDOe9FRzO9yrHF+IfBEviDWpp5ZlW3ZBs9VYDrWd/wi3irU0t9O1i9hNhbNklVGXA6CvRaDVqrJC5UeY6l4H1vUb2OGK6NnFE4KyQ8Bk9DUE/wuubC+mm02dnW5wJBn8ya9VoqvbzJ9mjjNMsdV0bxJa6dYqF0lYgZCBxuqHxz4FPiLUbbU7KUx3dsuAB3ruMc5wM0dO1QqjTuVyq1jzRvh7fz+HpRHcG0v2OS69W9qi0b4d6pb6/FqE842pbGFt/3icda9Roq/bzFyRON0jwxqWkeB7nSUlikunmeRSRwQTmszwv4J1ez8Trq17eyJGgINsT8pPtXouOaKj2krWBwTdzzjxx4Tgv/EUWsW10Y7qNdroOpFQ2/hmym8HXVg1yIb2V/MjbuD716NJaQSSb3hVm9SKYdPtGbcbdCfXFL2tVKyZso4e3vR1POrrSNQ1G20y9k1FF1jShiNyBhxXSeFb/AFWZ3bXbuJ3bhYkUAiuh/s60z/x7J+VOSxtY5fMSBFf+8BU803uNqh9lFiiiikZhRRRQAUUUUAFFFFABRRRQAUUUUAFFFFABRRRQAUUUUAFFFFABRRRQAUUUUAFFFFABRRRQAUUUUAFFFFABRRRQAUUUUAFFFFABRRRQAUUUUAFFFFABTZDiNj1wCadTZDiNj6CkwKWk3b3lqzypsIYjGKvd6oaVdi9tGdYxHhiMVfxQtgFooFFMAooooAKKKKACiiigAooooAKKKKACiiigAooooAKKKKACiiigAooooAKKKKACiiigAooooAKKKKACiiigAooooAKKKKACiiigAooooAwrv/j7k/3qKLv/AI+5P96igCSw/wCQifpWzWNYf8hE/StmgAooooAKKKKACiiigAooooAKKKKACiiigAooooAKKKKACiiigAooooAKKKKACiiigAooooAKKKKACiiigAooooAKKKKACiiigAooooAKKKpazcSWmi3c8BxJHEWU+9AGH8QvE9x4S8MSanawmVkbG0DNeSR/H3WH66c3PT5P/rVhan8TvEOoSS2l9LHNCHI2suRWc/i65WTatra/9+646k3fRmUpa6HXr8fdYaXYNNb67P8A61OX4+6ubjZ/Z+Pmwdy4/pXGS+LruEbhb2v/AH7rd8eRWh8J+Hb/AMiOGa4lXzCi4z0ojN9xps+itIvG1DR7W7cYaaMOQO2auisrwyAPC+ngdPJXFatdSuaBRRRVAFFFFABRRRQAUUUUAFFFFABRRRQAUUUUAFFFFABRRRQAUUUUAFFFFABRRRQAUUUUAFFFFABRRRQAUUUUAFFFFABRRRQAUUUUAFFFFABRRRQAUUUUAFFFFABRRRQAUUUUAFNkOI2J6Yp1Nf8A1bZ6Y5oYFPS54bm2Z7VNihiCPerpzkYqlpn2f7OxtP8AV7jn61epLYAooopgFFFFABRRRQAUUUUAFFFFABRRRQAUUUUAFFFFABRRSfWgApaKT8aAFooooAKKKKACiiigAooooAKKKKACiiigAooooAKKKKACiiigAooooAwrv/j7k/3qKLv/AI+5P96igB9h/wAhI1tVi2H/ACEjW1QAUUUUAFFFFABRRRQAUUUUAFFFFABRRRQAUUUUAFFFFABRRRQAUUUUAFFFFABRRRQAUUUUAFFFFABRRRQAUUUUAFFFFABRRRQAUUUhoAOteY/EP4p2/hnUpdEmsGn82PBcdMGvQr3V9P01lF/eQ25boJHxmvCvifpMPiHxab/Tr6CWHYB97vWVSVo6ESehyp1LwvK7XB0513NkjJp39oeFTuf+znxj1qMeDpWiIF3Bz6NUkXgi8uI3jtZY55FGSiHJxXHvuZI0tH0rw54q03Vfslu8EllD5gyc5pfGrpJ8PfC5cA/6QFH4Gj4cqttH4nixh4bbbJnscV08PgCbx98OtD+zXS2/2WcyHPfBrWKNEeueG/8AkWdP/wCuK1qVS0mzfT9HtrSRgzQxhCR3xV2utbFhRRRTGFFFFABRRRQAUUUUAFFFFABRRRQAUUUUAFFFFABRRRQAUUVQutYtLTUYbKaTE8wyi+ooAv0Vn6hrVnplzbwXb7XuW2xj1NXvMQNgsAfQnmjUB1FNZ1X77BfqaUEEZyMetAC0VQutYtbTULeylf8AfXH3AO9XmYIjMeijJoAWis/S9atNXjla0fIifY2T3q/kBck4HqaHdOwC0UZzyOR61R1HV7XS/K+1uF81tq896FqBeopoYMoYHIIyDTgQelABRRRQAUUUUAFFFFABRRRQAUUUUAFFFFABRRRQAUUUUAFFFFABTZRmNhnHHNOpkv8Aqm+lJgVdNS3jtyLQ7k3c49auc59qo6TaxWtsywPvUtknPerx+8KFsAtFFFMAooooAKKKrS39vDKY5HAYUAWaKqf2paf89RS/2jbbgvmDLdKALVFAORkUUAFFFFABRRRQAUUhOKCcds0AA6+mKTIVSSeO+e1EkiRRNJKwVFGWYngCvnP4jfGt9W1+fw94YlK2sOVluEP3yOuDQ2krsmUrH0Qt1bu5VJ42b0DgmpRyMEV8c2+t6nbXCzw304kU5B8wmve/hR8RX8T27abqh/06AZV/+egqVJPYmM7npYwOBS0UVRoFFFFABRRRQAUUUUAFFFFABRRRQAUUUUAFFFFABRRRQAUUUUAYV3/x9yf71FF3/wAfcn+9RQBJYf8AIRP0rZrGsP8AkIn6Vs0AFFFFABRRRQAUUUUAFFFFABRRRQAUUUUAFFFFABRRRQAUUUUAFFFFABRRRQAUUUUAFFFFABRRRQAUUUUAFFFFABRRRQAUUUUAFFFcN46+I8Xgq5hiltGn830PSk2luJnn37QCyPqunhGZQF5wcV5ci3CwcSsOP71d/wCLvHGi+NHin1CymjaEYUI3/wBesCO68MbMfZrn/vr/AOvXDPWTMnqzn4ftKRH962fXdXVfCw3A8XyMZWZTEcgmrfhzSfDfiS+lsYY7iJhEzhi3cVH8MLRl+Ik1oGwilo196lCsbfwmsrbUvHHiuzn5jnJDj1r27RNFtdA0mPT7EEQxklQfeuH8AfDa58JeK9W1a4u1mW+bKov8Nej/AMQrspxsjVDu1FFFalBRRRQAUUUUAFFFFABRRRQAUUUUAFFFFABRRRQAUUUUAFFFFABXmHxHiurnxlpMOmSeVdbDhvzr0+s680OxvtQhvriLdcQjCNnpVwlyO4nseYeKrTXLXxdoM2sXIuY0BKKv94VjnxF4h1i91K4hmMV1bzbbeNiQDXs1/otnql3bXF5HvktTmM56Vm33gTRL/UhfPC0c2cny2wCfpW8a8GtUYuEm9DhdU1+6vLWytbu7aLVRCWlhOQOB1rKs/GesX/gSO3mumiMl55D3fPyrnpXqep+CdF1aaKa7tszRLtWRThsUkHgjQ4NFm0pbQG0lbcyH19ap1adthckzgbvTI9G+Knh8f2y98vlbijHOBzzwa9Ujvba+sp5LSVZkUMpK9MgcisG1+Huh2U32m1gb7UqFEldslRV/w94dh0DSZLGJ2cSOzu3uaxlKLszSKaPKPCeiJqFt4imbxC9kYpmIQNjb1OetXNN8Q6n4pex0m/vpLCBDt+0nj7QBXbz/AA08OzzvKbd1MjbpArY3n3rS1Dwjo+pabDY3FsFihGItnBX8a0dWF7k8sjzTVfEOq+GZLvR7DUHvoHbabsc/Zwfek8RaNHZ3Hh+WXxC12s5AKbs72ODnrXplh4Q0bTtLlsIbUNDN/rN/Jb8azY/hx4fgkWeK1dpoTuhLvkIR0xR7SD2Dlkcy/iS98N/afDmoSytf3x/0Fz0QGvQfD9rdWOhW0GoSma5C/vH9TXLW/hLVNX8ZR6z4m8ho7Pi2RByPrXd9axqNKyRpEWikpazKCiiigAooooAKKKKACiiigAooooAKKKKACiiigAooooAKbL/qmHqMU6my/wCrb3GBSYFLS7H7FbtGJN4Zic1eyBwao6VaTWlsyTvvJYkHNXsDvQtgFooopgFFFFABWFLHHNrUwlTcAtbtYuD/AG5Ngfw0AKLO22/6qoby2iCweUmPm61eAY44rzL4p6r4n0u8gbQQPLiwwj7yeuKAPXIxiNc+lKWVfvED6mvI/CfiuTxhYb766a3kh+WcA/6o+9dbaeGtMvvmGsy3YPZZAKAOpkvbWL/WTxr9WFU5vEWlQf6y7T8Oaop4J0kEFxMx95Ktw+GNKh6Wwb/eOaAKsnjbRIx/x8Mx9FQ1EfHGnMP3UcznsCuM1sDS9OhG77JAgHcoOKyNT8SaVp52W9st7MOkcCgmgCJvFV/KwFpossmejN0qre+K9XsVzdafHHnoFfcc1N5viTXIl8hE0y3fqHHzYq7p3g+yspRNPLNdTA53SNkZ+lAHzdc+N/iFcfEHVNMtDcS2s4YSWzg7ETHWuHtNI+w6nczNlZC5DKe3PNfWHxI1jR/COgzajdW0cclx8jyog3Y+teNx6SvxRs59a8GWJggsh5cqSfekbrkVFSDnGyMp3OGByTgYA6V1Pw41G703xrbXVrE0sS8Sgfwr61Xt/AHii5uFgTSpVYnGSDgV7r8PPhrb+FtHn+3BZb69TbKcZ2DHQVhRpyhLUmCdzvLeeO5t0nhYNG4ypFSVynhe6bTtSuvD8/yrbnNuzfxjPaurrqNwooooAKKKKACiiigAooooAKKKKACiiigAooooAKKKKACiiigDCu/+PuT/AHqKLv8A4+5P96igCSw/5CJ+lbNY1h/yET9K2aACiiigAooooAKKKKACiiigAooooAKKKKACiiigAooooAKKKKACiiigAooooAKKKKACiiigAooooAKKKKACiiigAooooAKKKKACvCvj55Y1Kx3HBxXuteFfHxVOp2G4c7axrK8SJbHlCCH7OfmoQQiNvnoCxC2bIojWFo26dK4NjG52PwrVD4ol8s73+zuAvrV34ZaZqcHxWmku7OaOEzMQzLx1qt8H0RfH1vs6kEV9J+UgfIRQfUCuqlHRM1irj8Y4FLQKK6jQKKKKYBRRRQAUUUUAFFFFABRRRQAUUUUAFFFFABRRRQAUUUUAFFFFABRRRQAUUUUAFFH1ryz4teLPEvh26tF8NxB1kHz1EpKKuwPU8e9FfNg+J/xCMLbrU/lQnxP+IjRvm25A44qPbRI5z6TpK+ePCvxQ8W3/AIttNP1WQJHI2GQivobHA5rVNMadx1FFFMoKKKKACiiigAooooAKKKKACiiigAooooAKKKKACiiigAooooAKKKKACmyf6tsdccU6myf6tsdccUmBR0iO5itWF4cuWJH0rQqhpElzLasbwYfcQPpV+hbAFFFFMAooooAK5m+eePWpfJOPlrpq5y+/5DUn+7QBEJL8jhq5/wAWwXKLY6tM5ZbOUbx1ypPSunT7vU1R1m1S70xraRwI5R/EcAGgDzXxHozeDfHlpr2lKZNJ1kBpbf8AhL4zz+ld5p1vpWvfLaGTRtRXnZGflb6djWXeatoV94DuNJ1W9jNzZ5WIKcsSOmK5zQ9V1HxDFb6Q22xkXi0vD94fWgD0S7ufEHhuAyzTQ3tpGMtvP7w/Ss1/irDMqR2WmXJmfjLr8oNVtJsX03VRaeO7iS6usjyLzcRFJ7GvQvsNm8OwW8WwjsooA5W10nUdcKT6trGyJ+Rawt+hro7HRNP03BtbZA4H3yMsfxrKn8F2SyNPpzyW85OQSxIBqv5vinRgTKianCOixr8wFAHWUVztn4xtJDs1GGWwk7iUcVB4h8URfY5bLQpY7m9liJXYchB60Acp4vsV+I3jqHw8mJNM08b70joc44rtPCPgzS/BVjLZaInl28j79mOhrK+GehLpehy3bndcXchaRz1NY/xH+K8fheY6ZpKrPf4+Y54SltqTKSjuemBQD0FHfJ618zwfGjxZDdLLJMsqbstGRxivb/Avjmy8aaZ50WIrqMYlizyKd09UxRkpD/GFlNGsGt2AP2qzIJUfxL3rd02/i1PT4buBgVkUZA7HuKsMgeNkcZVhg+4rktCc+HfEU+hy5+yzHzbeRuOT2oLOwooooAKKKKACiiigAooooAKKKKACiiigAooooAKKKKACiiigDCu/+PuT/eoou/8Aj7k/3qKAJLD/AJCJ+lbNY1h/yET9K2aACiiigAooooAKKKKACiiigAooooAKKKKACiiigAooooAKKKKACiiigAooooAKKKKACiiigAooooAKKKKACiiigAooooAKKKKAA1518RvhxdeNby3lgulhWEd+9ein2pKmUVJaiaueED4B6h5bKdQTn3pE+AN+sZH9oJk+9e8YoxWfsYEuCPJ/A/wkvPCviOLUpbxZVT+HNesHnpRg0c1oko6IpJIOaOe9HNHNVcYc0UDPelpAFFFFMAooooAKKKKACiiigAooooAKKKKACiiigAooooAKKKKACiiigAoooNAHEfFjULzTPBE1xp87QTKwwyn3r57Hi3XLucfbbt5yBxv5r3z4ykjwDNjruH86+cbZn8wt7GuKtdzMp3NGLxPqfnFS/wAv0q1pHiHUn8QWcbOCjTKGBHUZrFikkMhyKtaKzN4ksM/891/nWcdzO1judQWOL412CwQqqttJAFfRAGQM189anIo+NunqR2Wvoau2nsbRDFFJS1oWFFFFABRRRQAUUUUAFFFFABRRRQAUUUUAFFFFABRRRQAUUUUAFFFFABTJf9Ux9Bmn0yX/AFTH0GaTApaRdy3lq0k6bGViAK0KoaVeC+tmkVNgViMetX6FsAUUUUwCiiigArl7+dI9akLg4211Fc9dqh1qTeuRtoArfb4CvyhqyfFQXVfDd1ZWrvFO6Hy5AehrpBFAE4jFQ3MUaPBhF2seeKAPnf4dWZ0DxRNa6yi3zbyXac8n2Ga7/WNG8Oza9FFDfXGnyXgz83yrEfaofGnhGGDXhdncknmCRgpxtX1rq2TTfEGnwaRr8UbQzoPsOoxjGWHbPrQA3SvDFrrljJpOq6jcSXFqcJl85Xsw9arT6DrnhK5DNq9xc6MxC5yS8Z/wrNjs/FWnyy3FiyXOo6W21oB/HF7evH1rv/DvjLRvFVmVhkVZh8s1tKOVPcUAVrbTNUurdLiz1o3MTDKkN0qVbHxTA37m8hcf7fP86r3WhXvhu5e/8Nlnt3bdNY9c+61r2XifTrrSpb3zfLEA/fRt95D6UAc7r95rmn2Jl1DT7O9kb5IkxyzVw114U8U6To5v12QaheS8Ipz5YP8AD+tejaLaT+ItU/t7UfMS3HFpbMcbQP4qq+I9dtrXxjaR3DFxCm5Yl6u/agD5+m+MPi3wH48mtr/54Il2SWjdMkfeFZF/qza/qE2ryAh7tvMwT0zXo3xQ+EV74z1e21uGRbTU9Qk2fZm5wvYmue8S/C7XPB1jDvi+1wRoA8kQ4FY105R0MqkdDk1wFJJrs/hZr66D43gabcIJx5b4/ma46OGaQhFhkZmOAu017j8JPhtJbWU+p+IYObpNsULjlB6+xrGhCSepFOJ7EjrJGHjYMrDIIPWsDxhpjXmlrd25xcWTebHjqcdqoaHdz+HNX/4R/U2LQSEmymPcf3TXXsARgjIPUV2HQZ+haour6PDdcByuJFH8LVo1x9r/AMUx4se1IJtNSberHojc8V2FABRRRQAUUUUAFFFFABRRRQAUUUUAFFFFABRRRQAUUUUAYV3/AMfcn+9RRd/8fcn+9RQBLYA/2gT7VPPrljbXTW8shEi9RiorH/j/AD9K868c64LLxFNHtIOMZx1rlxFZ0Vc2pQU3ZnocvijSovv3AFU08e+H5L4Wn2wLKem4YBrx2bWbeSxleYt5oGVxnFcDrN9darsu7ceVNAeNlctPFzqFVIQg7I+p73xhpNheR21zMyvL93A4NTTeJtLt4jJJPhQMk4r548E6jqfiS/Qasxk8gYUkVqeN9bawge2TI4xmoWMm58h0U8NF0+eTsepzfFzwjBKY5L5gR1+X/wCvSR/F7wlM+yG9Z29Av/16+U5F+0uzt3Ndf8NdKtL3xEsM6BjjNd063LC5ywpqc+VH0BB8V/DM94tqlxL5znCrs6/rWxqPjLRtKKC9uNhcZAxXmni220HwcraiLRZL0J+7AXvXnVxrl3qtibjUs+dIfkVuwrmWIqNXKjSTnynv0vxQ8LQxl5L7Cj2/+vW3YeIbDUrCO8tXLQyDKnHUV8mDT31PWrC1fMaPMN4/vCvoxDbaNpC20a+VHFGAnvR9bkVUpQh1OqfW7ONCzFsD2rJuviD4eslLXV5sx1BFYVrdLqGku8pAVCcMP4q8w8XfD+e+ml1L7aywPz5ak/LQsW76mDStdHrB+Mfg9OHv2H/AR/jUM3xu8EwDL6i2P90f418z3WjW8EpjSbzcdzmsHWtPWFMlOtdtKrGaMr9j61tPjj4GvZPLg1Ml/QqP8a1o/iX4bmt3miu2ZE+8dvSvhew/0e/WQDhTXrnhy5S4tjEBlZEwRTquUNjanFS3PpGD4g6FcrG0M7MJPu/LU11420ezgMs0j4HUBea8j8M6Q8cG51xHHyuaz9e1WYXbwIhb0qYe0kDSR6nc/GHwhaY8+9Zc/wCz/wDXrR0r4ieH9YsHvLK5ZoEOCxWvmrXNDlvrUXC2hLD7yDvXUXsieHfAOnWlpDse4YeYBXPWr1KT2Ie6Poi21a1u7ZZ4H3I3Iqpc+KtLs/M+0TFPLGSCK4TwzqKPpUMn2nDxAAR1mfECRRpjXykcD58d6yWKm3sdE6cIxvc7J/iz4VjmET3jCRjgKVHP611Gm6ra6tbiayfenrivjG6v11G785IyrJ0yMYr6O+Bt3Nd+D5GuDuKvgH25rthKTepz2Tjc9NooorYQUUUUAFFFFABRRRQAUUUUAFFBOKwm8W2HmOsW6TYcHA70xNpGUx1C/wBavUF68SRPhFU9qkGmX4/5iM3/AH1WZZ60sWrX08tvIElkynHUVpnxHbY/1Mn5VL5r6GLYfYL/AP6CM3/fVH2C+/6CM3/fVMPiOD/nhJ+VJ/wkUH/PCT8qLVBcxL9gv/8AoIzf99Un2C//AOgjN/31Uf8AwkUH/PCT8qP+Eig/54SflR+97hck+wX/AP0EZv8Avqj+z77H/IRm/wC+qj/4SKH/AJ95Pyqaz1y1u7kW6hllPRSOtJyqLcVyFPtun6vbB7ySVJGAIY12VchqWf7YsR28wZFdeKpbG0QooooLCiiigAooooAKKKKADNGaMjOKKACijNGaACijNGaACik4oFAC0UUUAFFFFABQaKKAPPvjQ+z4fzsBn5h/Ovm22vMsV2849K+xtU0q01izNrqEQlhJyUPesMfDnwwpyNLi/WuapScpXRnKF3c+VorsNMRj9Ks6TdlfENj8vPnr296+oB8OPC4bI0yIH2p0fw88NRTJKmmRh0O5SPWpjQd73Fydyv8A8K/0a+1uz1+VG+2RopGDx0rr6aqhVCjoBgClFdSstDRKwuKKKKYwooooAKKKKACiiigAooooAKKKKACiiigAooooAKKKKACgnAooNABRRTQcE5oAXNNl/wBWx9ufenHnjHFJJkRnHp3pMCnpdxBc27PapsUNgjHer1U9NNq1uxswNu45x61cOO9C2AKKKKYBRRRQAVgTgtrUnHat+uX1FZjrMnlSbfloAv7SE6dqq3u5kgAz98VV23hX/X0wpdCa3Z5sru6UAJ43tEECagE3GSPyJB22n/8AXXL+EoIYreXwnqrFrJ286znzzC3XGa9L1KzjvdJkhlGRs3D6gV5xplt9rmk0+Rgl5Mx8lz1QCgCW81S78MeILeXVPlnU+UJf4Z4/f3q3rXh/TdN1Rdas4hDp9+QbmWHqrHvWl9itPGnh250bVF23lpmLefvKwGAwrO8FXU1ms/gzxSFaWHK28knSdfagDUjk1zQSsgmGpaTjcsh5dE965KeK1+ImufaPD1x/Zi2UmZonAUXbZq++pXVlr3/CEJM7Rzncbs8hFP8ABWx4j0vRtK06GG1hCamE/wBG8oYLt6mgB8nj6z0XT5Itbh+xX0K4jtj/AMtfTbWZ4F0BtW1C48Wa9EftU0hNvG/SNPp+Nczr/hvWLTRJL7xYBqd9cELBOvW29BWxonj2DRvC0NhqkhM+3y0nbgEngUAdVp2dW8Y3V2+Wt7VQsJ966WeCO4jMcyLIjDBVhkGszwvYtY6HEJCrSSfvCynrnkVS8W+OdJ8I227UJczMMpCv3jRsJtdTQi8M6JDKJI9MtlcHIPlitQDaBjAAHQV45bfH6xa8UXOnSJAxxvBOQPyr1PRdcsfEGnJe6ZMJYmHbtQmmSmuhHr+iRa3p5iJ8udfmilA5U/WqfhrWpLjdpeqfu9RtRhlP8ajo1dAOK5nxVo1zI8esaQdl9a/MwHWVR/DQWX/E2k/2to7pGdk0fzxtjkEUeGdVOq6MjyDbNEfLkXPOR3qbQtZi1vTUuI8LIOJYu6N6GsC8P/CMeK0u1B+yagQjgdEbjmgDsaKAQQCDkHoaKACiiigAooooAKKKKACiiigAooooAKKKKACiiigDCu/+PuT/AHqKLv8A4+5P96igCxY/8fx+leefEmzW4vmUvGkg5AJwWHtXodj/AMfx+led+NdLtvEXjCFVmMVxaPkjPUVx4yKlCxpB2IrHw/aL4X80RLmRcSBxyvvXC6/4Wt/ClvbXttObi2vJMMx5C16pNE0FjOrj9wybXb2rJuNDs73wK0Vw263jfepPUc9q8GmnGVilSc2cZ4MH9maxdmXAifmMisL4g30NxcNtYE59a6Xwzpza5r76dZFmiRf9Z/drz7xnp01rrVxBv3pG5G7PWvSo0HGSkzqqVoun7NdDIth5i4UZrrfh432TxlAznAbiuOt5vsq810mgX4XVLaVPvBxXTX1gY0bKR9EeI/DVtr1uPMTdsG7OK8f1DRxPqjxQqNsTYwK9vudRSy8IvfSNtJh4PvivIrSfbC123JkYnJ+tc0V7prFe/cq2GnxDWEnmT/UjIwOleqypbaj4ZR7k8FdqvnpXL+HtGNxo01/Oo2yNt3nsK1NVt5LDQbezjcvFK4yRXDLSdjCtPWxgXWoz6HbLYQpvLNkOemK6W30y5Hh95rjZKs65IxnFZ2o3mn2Wo2ei6kgcXCjy58fdNdJrEsmieEgIP3rR4Kk9xVys1ZGS2PJtR+F17rEjXmjxNHk/cIrmLTwlLdajNpmppiWJsNx0r3SLVLubRUubBhEzrz6A1k+HNHtQ15ea+6rO7fLJnrW1KryKwoOKdjzDUPhzZ2Fm0kcW7A6461m+Cytp4nFtd27+UTj7vSvaJktZJDE+2RM/LnvWX4hW10+wLW9lGs7Dh1HIrto4iVSVrFcycvdF1fUtOsrXyLBizY6iuEn1URXTOwBb/armNT8VzQ3U1vDzIDhs9q5STX7m8u8LIzEH5q9WyiiW9bHpv/CQs5/dleeKmtr0T3CLqQDw5yp9DXm8d7OlwNudh6rW2msOIgj8n+VTKEZqzBSaZ69o9nFHIJVbMbMDkHtXJfF26mlvkttLEi26oC5PRqzvDPii5t3eGVt6Y+QE11jzL4l8HXEmrxx2rQtmFh96SvLdN0qlnsaOPtU7nmWnWMmo6O8ItikmMeZivoD4JWH9neDWhJJbfyT+NeSyTS29uvlBUZVwFA617F8HppJvC0hmGG8z/Gumm/eIlTUEeg0UUV0EBRRRQAUUUUAFFFFABRQaQmgBHPyn6Vxvh9I2trg7E3ec2cinzyajqGtXscF9JBHC2Ao6VWh8O3FtuEepSgOcnA70pOK0ZjL3mbhSMgfu4/8Avmjy4R/yyTP0FZA0a8H/ADFJvypTpF5/0FJfyrP3O4WZq7I+0af980uyP/nnH/3zWQNHvP8AoKS/lS/2Rd/9BSX8qVo9wsa2xP8AnlH/AN8ijy0/55x/98isn+yLz/oKS/lS/wBjXpGRqkv5UWj3JNby04/dIf8AgNZE8ar4rtdqKvHVRiqk4v8AS9Qty1/JMkjBShFaF6Nvi21H+xmqcbILjtT/AOQ3Z/8AXUV1tcjqQ/4ndn/11FdbVr4UaxFopKMUyxaKBRQAUUUUAFIfalpCQBQBU1S9/s7TpLlV3FccVgx6zr0yeZBaxMh5BqpeRXmu317bf2ksEEUmNjN1pF8PXcaBU11Bj/aqnoZuRe/tTxH/AM+MX50f2p4j/wCfCL86qjQ73H/IfT/vql/sS9/6Dy/99Urk8zLP9qeI/wDnwi/OlGqeIs82MWKqf2JeZ/5D6/8AfVQ32kahBYySx6yzlefk5o5kHOzRh8QajBqEMOo26IJm2qFHNdMd24Y6d64aOR7hNKkmffIJQCx713OetNmqdxaKKKkYUUUUAJRRRQAuaKwNU8TfYNQ+xwWrXEgHzYPSoB4ovT00tv8AvqgXMjpqK5r/AISe9/6Bbf8AfVH/AAk97/0C2/76oDmR0tFcz/wk97/0C2/76pH8V3USs8mmsqLyxz0osHMjp6Kr2N0t7Zx3CDasi5x6VYoGFFFFABRRRQAUUUUAFFFFABRRRQAUUUUAFFFFABRRRQAVleJNVk0bw/dX0MRlkiTKqPWtWqGtWMmo6PcWsRCvIuAT25pq19RO/Q848O+JdbeeGW6Lok7bmR+wrq4fH+lz+IptHwwuY4zIAf4vaqt/4QvrqCJI7hY3SPaHHY1i2ngTVv8AhL7S/nCKlshR5geZM10qFG2rM7yLEHxNupdBvtQbR5v9Fm8sYHDVsyePbO10G2vNSgkgmuY9wtz94iq1v4a1hLHVNJeSMWkzGS3lA5z1waoa14Q1TVtPsb69CPf2EZiSJfuuPWpcaQXkX7Px3otroMV1ZpJIJnIESfezWt4d8XW/iGeWAW01rLGM7Jhgke1c3aeC7htP0sxRpBPbzeZOB9eldOmiyDxo2rBsRGHZt98VDVNL3S1c3hRRRWRQUUUUAFc7eca1Jj+7XRGuS1jVbPT9Zf7XMse5eM96TdhOUY/E7FtvucCq9wcSQD1aqQ8UaTtx9rjz9aBren3l1bx29wrvu6Ci9yfa0W7Rkdqg/dqOoxXmviOP+x/FgvQCp3AxY6V6Upwg+lct47003elLcoPmg+Y/SmWQ6yJbO4s/E2nJw6hbtF6bfWsL4sIl/wCH7HVNClJ1dWBsjGeTnrmtbw74gt4/BMlxqRDLkqsR5Z/YCuS0i9n8K695Gpwm5v8AV2xp1v1Fup7n0oAn0jVbS78MRabKS/iwplQPveZ7n0ro/AMDzGWTxG3ma9CxWRXP3B22isPTfBzaP4lmgup86pcDzre/I4L/ANytmS8lv3bUYI/s+v6SpN1bf89kHegDW1mQ6n4ntdMX5kgxLIvUH61heNvCWkeLNcttEdBCTGZHaJcYx9KveENWtNUtrvxZNKsMLgo4brGRjNZfhvxHd6lfald6XYm8lMpWOVxgbc9qAPHNb+I/iHwJ8SoNIF9JcaTpUmwxn+Ie5rN8UeJX8Xa9NrDs3lzYMaE8IPStv40fCbXm1pde05/tLXzfvLdDhlf+tcrN4e1Pw7YwW+r2rwSMoPzCsayk46Gc1oVyfmHAx6V6R8GvEx0rxSbC5uTHa3K9Hb5Q1eanEfLnj1r1L4N+DP7bvpdT1O3P2KNcRk8Fj61lQUk9TKL94+hFdWAKHcPUHNOFcjLa634alMmnM2o2JOTC55jHtWzpHiOx1qPFs+2ZeHicYZTXWdJh6tay+FNX/tvT1ZrKZgLyFff+IVu6naW/iLQGWBlYSpuik/untWjLGk8LxSqGRxhge4rkLKWTwfri6bcszaZdv/o0h/5ZseoNAGh4P1M3Ng9jc5F1ZN5bhjyfeujrj/EKnQNeg1+Ef6O+I51X+InvXXRyLLEkicq4BBoAdRRRQAUUUUAFFFFABRRRQAUUUUAFFFFABRRRQBhXf/H3J/vUUXf/AB9yf71FAE9j/wAfxrwzx34mOi/HW2i3FYpjtbFe6WH/AB/H6Gvm740QQ3HxMdiTHPD80bjuaxrW5bM0hqz1abxBA2p/YJEPkOmef4qhi0O6t7hprqfdYS8JEp4Wub8Oqb7w9barqLN50A2nA61uf27bqoh8xpI36/7NeHyLmbPQVNKJJpr2ngq21O8gKI0qkAE9fpXhuoak17fXLyNku5bB967T4hSXSyRFWZ7Yj92w/rXnUlpMsnmN9412UJStZnM0k9CGeEtHnFO0+dobiI5xtYfzq1uDwkD72KktNCuHVZlBxnjPeumWsbGcdJHuOua0tx4P0+wVshkDN71yt6PL05Ej4DEACqi3eLGC3c7pkUZOegqzpn/E21q3to/mVDkisGuWJ2dLnWT3t7D4VSzsgcGPLADpXP23j3+zNDaz1RhJIG+QmtnX9Y/4R1UMqjax2MvtXkHjKS2vNYS40yUvCzAsn9yueFP2ktThm7zPb49HXxDoVhqXWUMGBPat69s7m90srI+di7duaZ8PYd/g+0Rj0QEflWnORDI4mbA9PWuh4eLWhUopHBQG8sNF1K1v5QLUqTBInZq5XwZdavPfCy1lJJLQvkTHpjNeiNbxWqz5jN3HJz5Tdq5u9l1BvktrbyIxwEUVm2qcHFrU3hh1UsdFfpo1lqUZgu9xUDAz3rPvT9tMrSfdIO2uaPhzU72/gnj34U5K5rqnspra2/0kEcVpQrLl2saTwyg9DwTxNoUy6pcRYPnyPlGXpim2nhr7DHGJFBdvvN6V6FrBtlvvnAZ88NjpWJqrvcDFsmABzx1rujPQwlFGBdWMUVwoiQtgcv2qhNIqzYU85rbNvdW8P70fK3QUaZ4Ul1SfzyCkanLH1q1US3MZWWpBpUkcMwklPSuliu3vsGMsEX+A9KuRaDY2qj92GPqRUzQwRxuY1EZx1HeoqVIyVkZU6tnZ7GVd3B84rkHC17F8GZTL4ZmJ4/ef414jdW4gvjKz5DCvcfg5s/4ReXYQfn7fjWdF6l1E2+boeiUUUV1EBRRRQAUUUUAFFJTJZo4RmWRUH+0cUAJcTCCB5W5CDJrnI/GDXCs0GnzMobbnHWtXUb60bTJ8XEZ+Q8BqwtGvbVNJG6ZUO7oTVbRuZSZRt9RvbfVLy6bT5Ctw25RjpVs6/dH/AJhkn5Vom9tT/wAvSf8AfVH2yz73cf8A31WTd9bEamd/b11/0DZPypP7euv+gbJ+Vaf2yy/5+o/zo+2WX/P3H+dTp2HqZn9vXX/QNk/Kj+3rr/oGyflWn9ssv+fuP86UXdofu3MbH03UrLsGplHX7kc/2bL+VTaXrX9oXU1vJA0MkXUEVqKwOCORWJan/iqLzHoKPd7E6hr4/wBKsf8AroKm1Ljxnaj/AKZiodeP+kWP/XQVNqR/4rS1/wCuYrR/CIfqX/Ias/8ArqK62uR1E/8AE6s/+uorrqa+FG8dgopDUYuIjP5Pmp5uM7Nwz+VMslooFFABRSN0qrf38OnW32i5YqgOOBmhauwm7Bd6nZ2LKt1OsZboCetcl4g1O11DVYEF4y2yj5njOMVBq+r6fqOt2tw9q88MYxgg1ONU0MZxpDD221Wxm5FMaf4bjkZ4r+Xc5yx9acbPQD96/lq2NV0M9dKYf8Bpf7U0L/oFt/3zU2bMyj9j8Oj/AJfpaX7H4fGMXs3NXDqmiYz/AGSxH+7VnTrrRtTuDFbWAR0GSHWk0BTttB0m8Ja0uZJgOCd2MVHpSeVY6tBklIshcnNWPDsaRXF6sahV8w8CorL/AFetfU0kAy1P+jaX/wBdRXfVwFqP9F0v/rqK7+rZtDYM0ZpKwfFms6loOli+03Tvt6xnMyA8qvcihJt2RZv5A60Vl6Dr1l4k0mLUNNffG3DKeqN3BrTGe9D0dgFrC1PxKun6kLNLWSZ9u47a3a5Sc48bSZ5/ccUuhMnZGUdSvDrc16umyFJOgI5FXDr1yTk6bKPwrZJPHNHNZc5i0Y39vXH/AEDpfyo/t24/6B8v5Vs4NJzRzpCszGbXblBv/s2UgdeOlTNqI1PwzeXSx7MDaVNaZP7p+c/KeKwdMGfCupqf75rSLT2F1On8On/iQ2uf7ladZnh7/kBW3+7WkafU6I7C0UlH0oKFoqIXMHnGESx+aOTHuG78qlBoAKKKKACjNFU73VLPTyq3coQt0GM0LURbLAdSB9TSb0/vj864bXtasL7WrVFvZo4B/rNgIBphm0QEganc/maqxHtEjvNy/wB4fnRvQdXH51way6KTj+07kfiakhGk3MojttUn3k4G4nmlYPaHcLIp+6wb6GlzXIWFvLp/iuG3+0yOrISysa68YpFJi0UlFBQtIaMUYoADz0NJ9OlOpMUWAM0jjcjDpkUuKRwTGwHUjFJgU9NtPsduVExm3MSWJzV3NUdJtJrO2aOZ95LE5zV+khhmjNFFMQZozRRRqAhPFeHfFvnXoVDEfLXuJrw74ut/xUEPH8NRP4Tw86uqCsedtMizLEXO4j1ro/BLN/wllkMnHmDqa5SazMmoR3AbAQYxXU+CznxbZ+0grGnK8tT53Bf7xCzPpPjAqvqEMU+mzxXDBYmQ7iT0qz2FeZ+LvEd54l8QDwp4VbzChH22ZTwgzyM109T77ocNoetzXPjueCGIy7H8u3i6jP8AeNesN4KDaXLNPKJdZf5hdnqh/ur6CuO1bw7aeAtWsL+ORSODLM/B967JvGj6lGi+G7NrqRxy0nCrTAqXFymt+FjLdubS/wBKbILnlmUdce9cn4l8Vvr3hf8AtDwxbP8A23EPKkuFXAIHBB+taereFb7TdYi8UanO9z5jAXVmh+RQetM1JbXRPH2jWGmeXHo+qnfKifdDf0oA4mHS59K0WBtVuZEXVXHnWKnHlsf4iK950LT7bStDtbazCCJIx8yjG7jrXD+K/Dr+JvFofTwobT4wWUcCT2qtpPjZ7DT59MvywvJWMUEbHGztQB0lgx1/xnPcu7Na2HEIH3S1bOu+HNM8RWbW+p2yygjAbuv0NL4e0saRo8cB/wBY3zyH1JqxqerWWj2jXOpXCQRD+JjQJ26nCQfBPw1FdLLJ50qqc7C3BrvrKwttOtUtrKFYYkGFVRgCudsPiV4W1C8Frb6nGZScAMMV1QIZQVOQeQQaLCSj0EHHArD1jwpaajJ9pts2l6vKSx8c+4rexRigo5C11/VNCkFt4mhMsWcLeRD5QPety9trDxLo7RrIksci/JKhzsPYir89vFcwtFcRrJGwwVYZBrl7rw3eaRMbrwxKyjq1ozfI30oAi0qZp4bjwxrm37RGpW3Zx/rVxwas+D7x7fz9DvHLXVmT8x/iX2rMvbuLXmRJl/s3xFZDfEW4U+2ajub03Udt4jtF2Xdkwj1CNehHrQB39FQ2l1He2cVzAcxyqGU+1Y+t+NNB8Pv5epX8ccv9wckUCub1Gax9E8VaN4ii36VepN6r0P5VsUDCisTxffz6b4Yu7q0bZMi/Kfesiy8aIlrpFrNiW+u0BcHj8RVKLauhXSOyozWN4j1ibSfDN5qVpF5ssCEhDXC6z4x1O78E6NqzK1nNcTgMiH7/ALU1BsXMj1PI9aMg9DXITeLLLUNN1C1uPNs5reENJxyM+lMt/GFrZw6dYW7G4nmjDZkOCV9aOSQcyOyopkUgliVx3FPqCgooooAwrv8A4+5P96ii7/4+5P8AeooAnsf+P4/Q14j8VtCTUPGklxIduzoQOte3WP8Ax/n6V5741vNOn8Qy2d2uJIzuLDqRXBjb8qSNKd7mNoWoxSaCmnxRBdq/PnvWA2oNp+oSQwxbwSck9q3rY2RBnsv9WOMVg6hHjVSYh+7k7+lcEo+6eglKVkytHritqElnqcfmWsnGSOVNYviPSDp2Jo/ntpOUcVu32mrHb+aVyQM59ahtln1SzNtIjNCeOR933FPDz5Ze9sZVIyg7HAyugHBwa9BsLdJNAhIYSYGcr2ritd8K3dhcMAS0THKtV3wTfXNndNZTlmifoD2Ner7u6ORtm2iPOXWP5ZVPfuK7P4U6Uqapd3V98jqPkVjjNZqWiC4EwXa46elSz3ZsrO4vWmMPkoT8p61Nai5K8S1WcVZmJ8XdbFx4jFqhwkZywrzaKJnvmbd8pbNO1bxg+svKJoA8zMdrgc4rrPBfgq61Dy7zVlMEAOQmeWpU6LUTDmvK57R4Qvza+GbYhukYAFSx6jFPqX+lzZLHgZ6VjPcW9lbJbRHaFGBjtVaBRJN5jAk9mFCfKdcYOWp6RbWdtIQyBTkVZOm2xyTEufpXGWV1NAQY7k4HUE101hqTS4Zm3L3NZys9zTVbEyafFbksAAKztSutK8swXNxGpbj71bF1Kklu4BxkdfSvAvGC3FvrEvlys4DZHPSoUE3oVzytqdRrGgW7M7xpuTqHrmZbVUbCEccUmn+I79NP8rzPMXphjXL+I9burBXuRwvoO1axi0RdM6OS0EiHzQDjp7VYgv0sLMw8c+leWt8SrpbQxxJ8/wDeauj8CXereI55p7m23wxLknsaJxsrswkkzTvvFEcT7ACx7YrDnfVtWaSfzjDBHyB6119t4FF1cSXYU7mOQhHSpV0WHT45jdllTHzJUc0EYuKiYOoQtp3g3fenNxIuYz7V61+z7MZ/B8zsxJ3/AONcZc6DaXnhucXJeeJ4j5PqnFd78BdN/szwPJE2S/nHk+nNXh5qUnY0mrI9RpKWkNdpkRz72t3W3ZVlKnYT2NcXovjO+tvEknh/xfDHa3LnNrOrDZMv+NRav8NX1LVJr9/EuoWqPyY0bCr+teaX3gH/AIS7xpa2Hh7X7u7t9Ofdc3khPyHPQGuiEIuL1M22fRGKB0qG0gNrZxQFzJ5aBd7dWx3qeucsQ1yfiG2W78RW0M5byjHkgHFRyPfahr15FHdvDFF90A1FL4fmmuluZdQlMiDAOaJOKVrmbdy1/wAI9pp48p8D/bNH/CPaWf8Al3b/AL6qs+i3nbUZfzpBo17/ANBGX86zu+5BZ/4R3S/+fdv++qX/AIR3S/8An3b/AL6qv/Y95/0EJfzo/se8/wCghL+dF/MNSx/wjul/8+7f99Un/CO6X/z7t/31UH9j3n/QQl/Oj+xrxuP7RlH40fMNSx/wjul/8+7f99VQ1jRLC102WaCJ1dRwd3vRPBe6Xqdvm8eaN+CrGtDXTnR5vp/Wqs0BPpo/4ltvnklBzWdarjxReHPYVpaZ/wAgy3/3BWba/wDI0Xn0FRZAJr3/AB82P/XQVNqX/I6Wv/XMVDr/APx8WH/XQU3XL2Ky8W20jozDyx90ZNX0Ety1qX/Ias/+uorrq4g3w1TW7VbeGUBZAxLLjiu3qlsbx2MXxD4osPDMUcmo78SHA2jNeXeNfFuh3cia94fubiDWbUbhuBCOoHQ17Fd2FpfBVvLaOcLyPMUHFcH4w8NXuu30Wg6Zo1va6XJg3N9tCnHoK3pOC3B8xtfDzxza+PPDMeo2ytHIp2Sqwxhh1xXVk4rL0Dw9pvhrS47DSbdIYkHO0YLH1NabcispWv7oytf38GnWpnuThR+tcp4h1+K+06NLe3kdvMDYxxitfxaobTEyM/OKSKGJYYsQr9wdqlzUNyJXMxNeh8hf+JcoIHZaP7fi/wCfBf8AvmtTagH+pX8qMR/88V/KsXOLdzOzMv8At+L/AKB6/wDfNH9vxf8AQPX/AL5rUwn/ADxX8qMJ/wA8V/KhSiwsyjZ6xbXt4lp9nSKV+gxUVioTxjcIuP8AVnOKjdVPjWxKxhfk7CpbEf8AFa3mOoU1dhEWgf8AHze/9dDUNj/q9Z/GpvD5H2m93cfvDUdhjbrQHTnrTWuwbkVtxbaWP+mo/nXe964DRYb+/W0/0fbDDICG9a9ANWzaCsjP1q2vL3S5oNMuRa3LD5ZSM7a8+vvD3jLTrGa71DxnDHbxqS28YBGOnIr1CsfXvDWm+JoY4dWR5IY23CMNgE+9XCbixyjc8s+DPh7xFb+IL/WZ7wjSLhiFhxxIf7wFe1jvzUVraw2VqlvaxrFFGNqoowAKlPBqak+eVxoWuUnH/Fayf9ca6r0rlZ/+R0k/641D+FkzNADNB4oWiudEBn3pM+9FGKTVwE/5ZyfQ1h6X/wAivqf++a2+kb/Q/wAqxNK58L6n/vmt6SJe503h7/kA23+7WlWb4e/5ANt/u1p1o9zeOwlYniHxZp/hkRHUS4837u1c1uVWu9Os77aby2jn29PMXOKFa+ozxrxn4r0WW6XxN4cuLiLVbMbpFYEJIg7V6P4B8aWnjrwzFqlojRn7sisMYbviuf8AFXhu78RatHoNnotvbaMcNcXigKzewrttE0LT/DulxafpcCwQxjACjGfc1pKUWrJEJNM0aKKKyLCuS1tFl8WWyScr5XSusrltX58W23/XKmr20IkWPsVn3toyfUij7FadrWP/AL5qfkGjJ9a5uaXUzsiH7DaEY+yxj/gNY2s2lvBfWJiiVP3o+6K6AE1i67ze2P8A11FXCV2JqyJ9QvVsvGkTuu8GLGB16VrDX4P+eMg/Cs2aNX8cxeYuR5Xf6V0f2aE/8sl/KujSxcbsoDXrf/nm/wCVH9vW3dWH4Vf+yQf88l/Kj7Jb/wDPFPype6XZlH+3bTvu/Kl/t2y9W/Krn2O2P/LBPypPsNt/zwT8qPdDUqf29Z/36X+3bL/nrVn+z7Q/8u8f/fNH9nWn/PvH/wB80aBZkA1qxP8Ay2FD6xZFGAuFzjip/wCzrP8A59o/++aa+nWgjYrbR5wccUe6FmZuk6lFBasLu53NuJGfSr/9r2J/5eVqno+nrJaMb21RX3nAI7VfOl2Xa2j/ACoXIGo3+1bH/n5T86P7Usv+flPzoOk2Z626D8KQ6PZf88F/Kn7gajhqlkf+XlPzpf7Rsv8An6j/AO+qj/sey/54L+VH9iWP/PBaPcDUS51nT7W3aaS5TaoycGuKvdH0jx5fteRS740GAVPSur1HwzY31jJb+Xs8wYyO1ZXhjw9beF3msbVyyn5jmqcKThdbmU4Ko+WoroxP+FU6Rnktn61Pa/D7T9GvILu3ZjIj5FdmDkZrifipf+IbHwt5nhdA0+7Dsf4Qe9YKKFHCYem+aEdSz4u8Zbp00DRLhfts4xPcDpAp6/jUGgC18P27ad4RsXvrmTm41BlyGf3Neb+F/DHiPQnTU9fX7V9u+dpUyfwNetaYdcmsF/sg2dvAOkQA3VRuZHi3wNfa94cln1y6+0XUILokfAUelbXw4v4bvwykEcSxvbHy2AHP41K+neJZ43WS6jQOpUjdmvPPC2n63ovjy90P7Z5XmkuCDw1Az2meKOaB451DRsCGB6YryXS7eOK/8Q2erptgUMdOnduh5wAfyrovEWmarp/h+5uJdXkLkbFVSeSa5TxH4I1C68NaVpdvqTtqsp+0HnsOcUAdZ8K7ieXw6y6oAuohyHDH5mTsa534heFpfE/iNdQ8NsiXWkfvJSCAHIycVQv7K40XRF8R6fq0kVzFi2uY84IPTpXX+GvBKDQ5LlNUuTJqMW9mDeooAu+AvHln4u0V3aWNNQtCUuoNw3KR3xXhnxO8XT+JPFM0SyMLS2YoiA8cd64HxnYa58M/iHdfZ7mWOSRixdCQJFJ7461HpWptq8ElzKQJi2WA9ayrtxh7plO9i+qqjb4/lcc7hX0B8F/Gc2rabJpOpTb5rYZjdjyVr5/AyvJIHevSvg14bk1rWbm4lllht4Y9oaM9TWOHlJ7kQvc+ivMT++v50b1/vD8645/h1E7lhrN+M9t/Sk/4VxF/0Gr/AP77rrOg7Pcp/iH50m9R1cfnXHD4cxj/AJjWof8AfdB+HURYFtZvz7b6AOi1PStO1ZFF6iFlOVcNhh+NeZ+KotV+H083iASJeaIy4u4B3H0rsR4HtYIyTqt4PVmkrhfiZoWn6h4Pu9J0LUbq91IrkRLIXVvrjigDg/D/AO0Bqdxq1/YwQrBp0it9kU/eirkb+8uNSvZLm9laWaRslmNeeW5utH1TbcQPHLG210YYINd3E3mKH9RXLiXZIwndM0ND1m78P6pDe2MjI0bAlVP3hX1n4b1lNf8ADlpqSY/fR5YDse9fH+7LgBSSTwBX1T8NbKax8A2Ec6FZCu7aa0oybhqVC99TS8W2U2o+GLq1tV3yyrhV9a4vVdCvv7C0e3h0131a3IxcqOIx716UZUWQR7l3nkKTzRHPFK7rHIrMhwwBzg10qTSsW0mzFvNMvr3wZcWFxIpvJoSCw7muQuNE1XUfCuh2B09optNulMgYcMoPWvTCM9e1IzCNGdzhVGSfQUKbQcqOE8S+HNRvdd1G5togYprZUTA6sBWdqug3n9iabbx6Y7apEoC3KDhPrXpFrdwXsHm2sqypnG5TTL2+t9OgM15KI0Hc0e0drByIg0SG9g0a2j1Nla6VMSFema0KqWGp2mpwiWxnWVe+DyKt1BVrBRRRQBhXf/H3J/vUUXf/AB9yf71FAE9j/wAfx+hrxv4m3htfFVysEG+cjhq9ksP+P8/Q15L49uLc+MbkAZkXg5rixiTima0ld2MHRZblrNSkJD4JkX1ra0pYNQtzHMmH38e1XtFtLeLTI7syKd4wRnpWpp+kW8kwkhI65OK81ybR6dHTqUbnSYo1VJuR71cW0sbazARVBI6jvVnxJaMkUbpxx2rn4p5WZWblV6g1jJPoE23K5T1a0juo5I2XIA4rz54zZ6vFGi4k3c12+qa7Gt2yAYI7V59daqt/4xRwdoXjFejhlJWucNRp7HX3Oou4VE+XA5NZct491vtZHzG4wQe9Ur+4aNyckA96pTTgbXibLA9q9f2iSscnK5Gx4Z8F2NhdPd3SLNITmNT/AA12sty6wgIeF6D0Fcn4e1bzJxFIctjjNdPNEUiLE/eHNc0pts3jCyKlxfCTgcjvRBqcsPCHI96yrqQxMyp61UF2U5Y81HIaqTR1DX8zqWXg/WtjRdbeDaHJ9wa8/S7dpAfNb2Ga39LvS0qxyAbmOM1ElYqLuz0eS+keMGI7kYc+1eU/EC3k+3oYJ/KDH5h616WluEtogrEYHbvXOeNNKtp7QTFMsBWMXaZtJLkOE0u3ZYTxxjk+tcV4vuJJp1to/nLNjyx3rv8ARJYZfNtWysg4XPQ10/gv4cadZ30+r60yXVy3McRGdvvW9aoqauclzzHw94Ns21O0TxBbeRbSDJU8ZFetQ6fZaJaCLQoybInC4FM8Z6Qmr3FqEkS2RTjd0x7U4NfWtxZ6TCimNBlpD3FeZUmpu6Zm5W3Nia4i0+KCaN1L7cuo7VyWqTtfxz3Flb/a5M8xjoKtwWZ1KTUtsreerbUyeAaqnw9rvh/wpqCh8zSqW82Pms5U25XuEtVc09CkeDTzPdQhB5e0xkZwa734coi6HK0fRpM4rw/wl4x1Gy019P1uESS8hGfqa9s+G03n6HJIQAS3QdK9TC0pQ3Cck7WOzoooruMxksSTwvFKMo4ww9RVew0uz0uExafbxwKxy2wY3H1NW6KACg0UUAcjZ/8AIx6iP89a0jxis6z/AORk1H/PcVov2rnn8bMRxPApM0h+6KQUtAuLmjNFGKVkHMwzQfWjFKT8tFlbUOZmNrh/4mNn9asa5/yCZv8Ad/rUGt/8hCy+tWNd/wCQRN/uj+dbLdEt3J9M/wCQZbf7grOtRnxReAnHFaWmf8gy3/3BWdaAf8JTebuBil3AbrwLT2QUZ/eCtB1H/CaQB1H+q6ke1ZviO3N7NZW6ymMmQfMtben+GlstUF691LPIFwA5reNuVFRWptYAbhR+VPpKKk1QGjJooxQx3ClPSkFB6UAYfiv/AJBif74pUP7mL/cH8qb4r/5Bif74pU/1MX+4KzqbGb3AZpcGjHvSj61gIMGjBpc0Zpx3EYsmf+E1sf8AcqSwz/wml3j+6aZL/wAjrY/7lJa3MNv41ujcSKm5Tt3HGa6Y7kMd4f5ur3KZxIarado1xqeo6jtu/JjZ8FQM5pNG0Y6tPdzJdyQqJCPkPWuo0fRYtHSTy5HkaQ5ZmppcpcEXLK1WysorZORGuM+tT0UtBqJiloozQMKMZoopAIa5W4/5HOT/AK411RPNcbq1y9h4taZ7eWSNosAouadm1ZGc0bC0VjnxAijP2S5x/uUf8JCn/Pndf9+6w5JEp2NelxxWOfECf8+d1/37pR4hj2/8ed1/37o5JCuarD5W/wB01ythqJg0LUrZbZ5ZGc7SvetR9eTY3+iXPKkfcrT8Iw40XdJDtZnJ+Zea1gnHcFG7L3h9WXQbUSKUbZyp7VpUgGAABilq3qbLYKKKDUjCiiigAooopgJXLav/AMjZb/8AXKuqrnNd0vUJtUhvNOVGZF2kMaa2IkixRVDyNe7xQijyNe/55w1j7ORNmX6wfEyztPYfY/8AWecBj1q+YNexxFDTItK1i51K3lvkjWOFw3ymqpwcZXYONyzZWGpTeJBfXqiONE2gDvXSUUVo3c0SsFFFFIYUUUUAFFFFABTZCRGxHUA4p1NkO2Nj6AmkwKOjzzXFo0lyu195H4VoVnaTeNeWxdo/LO4jBrQ20IBaKQDFLTATJzS0YooAK5y7vobPW5PMB5XrXR1iPFHLrk3mRq/y9xRZAQDXLPb1P5VXutRtrzy7d/mjkO1h65rVFpb7f+PeP/vmq97BAiQEQIDu6gUAZmjD+wNal0G9bzLW6Bkt2c8D/Zq5e+DrZpjcaXczWVz1DK5I/Kn+KNGbUtISaA4u7X95G46nHOKu+H9XXWdIjuMbZR8siHqrCgDFXVdd0J9mqWz38AHNxH2rkfHOp2A1zSvEOmXX7xJBHKnQ4969bI3AhgCD2rjfHfgTTfEXhy5SOFba5jHmpJEMcjmgCfW5Rq2paJZr88UhE82DnjHejR0/tTxlfagw/dWg8mEjp6V5b4A1vxDZaNqWqSYvUjH2SJTy4I9K9K8N+JNJsvColuH+x3AXMqT8Mz/1oA53xxZLceObW1hTdYy/NfbRwnua6XRddj0yzubO4kVYYRixb/nouOn51a8OaUL3Rrq61AB5dSJLuOfk6DFeca6tx/wk0GiwHfFpsm9GB/gz3oA7/SPD1rrsEupeIrGK5nucgCRAdq1x/i/4H6bODd+FIls5+S8A+6/+Feq6ddQXthFNasDERgY7e1TyMkalpHVF7ljgUWT3JaufNmn/AAY8UXt35d3GttDuwXJ7V7x4S8L2fhHQ47CzXLcGSQ9XNbEdxDMcQzxyEdkcGpqEkthKNhPwpaOarXuo2unW7TXkyRKozyeT9BQWWaytW8Q2OkKVnk3zkfLCvLMaw5Nb1jxGxj8P25trXO17icYOPUVp6R4TstMbzp2a8uicmWbkg+1AGasWueKVzc/8SywJ5ixl3FXrq3sfCehSHT4Y1mYbY93LOxrosenSuPvA3iPxlFbLxa6ad7ns7UAFn4B0K+0djq2mQyXN2u+VyvzAn09K8r8U/BHV7O+LeHNtzaE/KnRlr6DxRj3pOKluJq54X4K+C98mpxXviNljiiIYRDqx969yRFiRY4wFRRhQOwpcUdKaSWiJseSfFDX7zQPFlnJZK7+cgRnU8Qg8bjW39obwrY6fY6U5vNT1lwxuHOVJPf8AWt3WPB9trWti8vcSQGPY8R71mDwFPHGTBelZLd91kzc+UPT2ro5oOKRLTuWNO8Qajb61d6NrDRmaKIOk44ByKzB4quv7evNImuUvIpLVn3qMeXxWifBM2oLe3Or3hN7dxCPdH0THpVXT/h/NDqCXFxNGvkQGBNn/AC0B7tVRdK2oWkUvDN5JYfD5BBdraO07kO3Oee1aWh+J4da8K319q1uLgac5BwP9Zj2qGX4eyxWlkLe5EslrIW2SH5GzV/RfBz6ToWpWQlVn1By7f3UJ7ColyPYauUPh9Yzz6jqGviBrOyvz+4tWP3QD1xXe1Q0exfTtJgs5GDGJcZHSr9YvctBRRRSGYV3/AMfcn+9RRd/8fcn+9RQBYsf+P4/SvKfiFoLP4suLuEnc6/d9a9Vsf+P4/SuE+Id2um3wmvZUUSHbGM8kVyYp2SRpTV7nmVvc6jZ3KW8qssfUg9K7PwDqU2qXc6o3EZxXLjxPBcav/Z1zanyiMLMB0rqvAtmmjajIIfmSU5D15tRJHVhIyV2dnqKefbNE/UCubghhfdbNgMehNdFrV4tliQjKsvNcBqmsIJldTtDNwQam12bVJWOf8Xac2lSSzznAOQDXN6HosdwTf3AxsOVb+9XY6vB/wlbRWsjlYYxlm9ag1m1/s7R0hhGI0GBivWpRSRwyOa1DbK5/u1Ugt41bcvNMlmEpAzg1ctodseauT1HErWMnk+JLbBwGYDFelam3lxjHTFeYG1nGtW1wgykbgkCvSbuRbm1R16FenpWfU06GDMyuGbvWVLExbNaFwhjufakcAjpkVaZJQVSvJOCOlMn1+DRbqCe6l4LAYFJqOoQ2cRZyBtGea5bS7ZfEN7PqV7/x5w/dUn9aym0kXBXPorR9Ui1DTo54HEiFQQah1hTNpswYbiRxXAfDHUtRuLu5gS2b+z4zhZSOK9JbZICrnAIqIJN3NZPSx4ze/abW8WQZXa+eK9U8LarDJqEKTqzyyRDAxwK8l8VXVzb+Pf7NODHIwwAOles+G4ZbS7tVRY8EDczdcUsbZRRxX1OY+IV/daX5scqvLETvDr/DUfhLxVJqWjvdXQOYl27vQAV1/iG60+S6ntp7fejcHcK5Sw0iHT2voLbb9luIzj2JFeR7t0upBe8MXA1aC9ntPuqxwR/Eai8TeMrrSdDSzkf96x5B54rivCHiG48HSajbz/PGzkRr6H1rn/EOpTX07XN7L8znuegr1cNhmp809hSlpYuWF1Pq/iBXd85PX2r6Z+G8Ih8PkIMJkYPrXzRoOt6HYxo0km6cDkgivpD4W65Drnhky2pBjRsDFdanKdS7JULanb0UUVuUFFFFAAaSlpKEByVn/wAjJqP+e4rTfoKzLP8A5GTUf89xWm/QVzz+IxEPQUCg9BQKQC0UUwuoJBbGOvtSAfTW6U4YYrhxtbpJ2pJFKnB//XRuBka3/wAhCy+tWNd/5BE3+6Kr63/yELL61Y13/kEzd/l/rW3YRPpv/ILtv9wVjNdfZPFVzmMvuA6DpWzpjf8AEstu3yCodG2P4q1AMobAHUdKajvcCi1w+o6varBbOvlsCxIruMUxVVT8qKPoKfV6bI1ihKWkpaBhRRRQMKQ9KWg9KAMHxZ/yC0/3xSxg+TF/uCk8WkrpAfaWCuCcVTi1q0NvHw3CgEYqZq6M3uXgDikINU/7bsx13D8KQ63Z/wC1+VRykMu80ozVD+2rT/a/KlGt2Y/vflRy6iM++u4bLxhZS3L7ECcnGafpVnZa74jvZp086JeUJyKLeS31PxlARCZI1hPLLkZ5rsYYIoc+TEiZ67VAroskioq7GWWn2unxmOziEak5IFWe1IaKg2FpM0tU9VE/9kXP2X/XeWdv5UwKtz4o0a0vhaT38azn+EZP61qK6uiupBVhkH1rzvwl/wAI0NFUakyfbfMbzBcffznt7VSvLqPVNXvBqWqS6ZFZt/xL4w2PO9PrWip3JcrHqROPpRkcc9a8jtDqvivW4NO1C7ntFAJPlnBYCrP9q3+iafqWryTyT2+lP5SIer4qvZeZPOeqHpVLUdStNMtluL51SNmChjzzXnM2oahdNp15e3clvpurrmSQHHk1RuJWW2g0mC6e/wBKiuhsumOcn0zTVF9w5z15NjorrjawyKZ5sHm+SXQS4zs3DP5V5uPEv2DSdei1C7aCVGVbZGPJHtVKxsoLnxjpOo6lqU9uzQZTLfLKcdKXsn3DnR6haXtvevKsBVjC21sdjVnaOwGK8kGq30Vxq9qpMVlJLtlnBx5a+uaS81GfS7a8sND1GW9sDACt0WztY9s0ey8w512PXAq9gKQlIxuYhRXnek2d1oOvaEEv5rhNQizOshyM4zx+danxDtPEF5pKR+HnCkOC/rio5dbD5jsWcKhZjhQMk+1ZEXi3Q5rwWseoRtKTgDnr9aZZx30Pg9hqrq1wtqdxX/dryizu4ZPDVvpqaNLDcT3BI1PbwDn1qo0+YTlY9x3Djnr0qE31uLv7MZV8/rszzXj17f8AiSbW7W1mvTaNaDbDk4E3vXQWt41t4ysJNcnWK6dcEscK3FN0bC5z0L7XB9q+zeavnYzszzikivrea5e3jlVpY/vKO1cffX1vY/EW3v55QtpLD5Ymz8m7GOvSjwowuvHGtXVvl4N2BIPutz2rNwsi+Y7iikpagoKKSgsFGWIA9zQAtFAIIyDke1FABRSMwRcucDuTUYuYWcKsqFj0AYGgCWik/SlzSAKKKKYBRRRQAUUUUAFMlA8ts9AM0+myY8tt3THNJgUtLuUvITJGu0KxGKv1S02e3nhZrVdqBsY96u0IAooopgFFFFABWN01ybP92tmuZvpJV1uTZ/doA1x92qmoEGOIdDuqj51xt4P0qKeS5862WY5JbrQB1UWTCu7riuQlz4X8YCUf8eOpnDDtE3rXYoMIo9qztd0pNa0ia0c7WYZR/wC6aANEHOCDkGs/XtQj03Rp55eRjYB6k8Vm+DtUku9Oayu/lubM+WQTywHQ1D4rnSa8tNOmx5UmZHz2I6UAeX+EbCfRfiR/YdzNiO8P2pIyeD3r0Hxtoth4k1Oy0R4CJH/eNLHxsA9cVxHim2lsGtPiCrMzabN5LJ6pXovg0vqUc3iG44W+UPDn+FKAMnXm17wXpSvpE32+LAihtmXkGs60js7vRHTVI2sNflG+VmB6emfSujsHk8SeKmvc/wDEvsTtiH95xW3rmk2+q6TdQSbI3liK+cQMp75oA8bT45aF4Kjn0+UG6aI4EUR6N9a5HxN8WtY8axIbVmsLI8qiHkj3rivGHw2t/CzXF9qOpGa2eU+Uy9ZDmotOkiOnRG3B2bRtB9KwrTcVoZVJWRv6T4p1nQ71bmyvptwOSrNkNX0x4I8XReKPDCajIQkkYxMDxtOK+UA/qK9a+DHh6fWo7uS5uJY7FG/1aHG8+lKjUctxQk2eq6h4seeb7J4ctzfTnhpACFT3plh4Rluplu/E9yb6cHcseSFT2rorLT7XToRFZwpGo9Byfqas10Gw1FWNQkahVXgADpS45o6n6UvegDN13U00nR5rmQ842oB3Y9KpeEtNlsNH827Gbq4O9z3IPSs/ViviDxXBpQ+e1th5kxXoG9K64KFUADgDAoAXtRQKKAEoPT3pcUYoEIOlFLijFACUDilxRigBKOtLijFIAooopjCiiigDCu/+PuT/AHqKLv8A4+5P96igCex/4/j9K8h+ImoadeeM307Vsq6Z8knpXr9iP9OP0rwr446BdzeJl1exXc0I+ZR1rmxEVJK5cb9Dm9jQai6ueM/KfUV1/gzV3h1GO3kbfGzcZ7VxOkaiuoxqsvEqDHPatHT7xbHV4JVfhZBn868ypBI9DDtRXL1PctR08alpzoB8xXg15Nd2lvJqAsrqRg0L8e9ezWFys9jFPEd6so6V5X45Npo3ieOQAFrjkj0qqa1uFXUsw20NtGPLxz1NZevDfYyKehHFT/ahJb5U4z0NUbs+fblXbtyK71KxyuJ5xclo7jB45rVsrvEeGOQKi1Ww+0ORApyp/Ol06wlXJm4A7etO47HQ6FE93OZBGML0B71qXdyYUKMAuf0rItb1UUQwt5cg71T1C8MZLTy7j35oGW7m6AGWbI9awtU8QQ2ULESAcetYmu+Ivs6ko45GAtcgI7nWJ97lhGTVWtqxMuXeoXniK88lZCsAPzH2rqtLsFnePSmuPslkEyZf7xrX8A+DLSPU4G1y2dbNucgdan+IUCQ6sbe2tzBbJ/qW9RXNKXtJcvQmTcFdHpvgu/s4dDi0+1CqkPBcfx+9WNf1G3020nuEkVgqkjHY15H4e8QyWMDRxbmbGPrW3DrFjfo9vPOTLIDuTPSojK07Fp3jc5O11j+1PEL3+pqFkV/kc+ma9QvtVSfTbR7O58uWPBbB5NedXngmO5nTypiFDbhg9a1bfSZ4Ndha9kK2MKAnB64rpxMW4po43PmdkddqWq/2mqOSAVXDe9cLf+ILuK7kgsZS2OuO1M1HXGuZLqK1Vo4gcL6kVX8K6RPLNLc3EZWB8j5upNVQo05L3lqTK8VcxftLXmolGYu2csa0LXTrLVtUSDVHZYVwDjvTdS05dG1aR1HyOM5pug34NxI8q5CHNTipSgtCE76nW+JPhJ4f0/SFudP1LE0qbljHavVfgPYwad4Okt4JPMYP8x9+a8v1LdL4VfVdzNHjaOegr074DbT4TmaM7lZ85/OnQbkrjjNt2PVKKKK6jUKDRRQAlFApaAORsv8AkZNR/wA9xWm3QVmWJz4k1LH+eRWk+PWsJ73MeoHoKBQQdoxSgGouADrSMsXnmGXZ57qSEzy1Ox7VyVz4FvL74lQ68+rMllFFhrZSeTTQyHwNL4ml1rWo9btwmnRSEQBug5PSuwLvIoZyCfUVw4udX199btop3XTY1aJWTgofUmtjwJoM/h3whBY3eonUnDs4uCc5B7fhRKyQMta0f+JlZDHerGvqTpE6jKllxn0qr4iE4ubP7KMyk/Lmpbyx169hMLrGquOTW/I7JkjtP8MXLabbsNWmGUBwB0/WtXR9BGl3E073DTyy9WYVo2MLW9hDC/LIgU4qer6mnKgxS0UUiwooooAKKKKACiig0AMeNJIykqhlPUEVXXTbNeBbJ+VW6QsoOCwB+tArIrHTbM9baP8AKj+zLL/n2j/KrVFAWRV/s2y/59o/yo/s2y/59o/yqd5EjXMjBR0yTSJPFJIUjdWdRkgHpQGg2K0t4G3QwojeoFS9DRn1opXGLRQDRTAKTPODS0UAZc3hrR57wXUthE0wOd+KdeaBpeoSxSXljFI8RyhI+7WlRRdisVksLSO4E6QIsoG0OByBTW0yye3lge2jaKY5kQjhj71axRii8gsVJtJsLjTxYzW0b2yjAjI4FRwaHpltYrZw2cSW6NuVAOAfWr9FO7CyM298O6TqEyy3tjFM69CwqSfRtOuUhSa0jYQHMXH3PpV7FGKV5dwsik2j6e1vNAbSMxz8Srj731plvoOl2tn9lt7KJIe6AcGtCii7FZFdrC2eWKRoVLQDER/u/Sp8Y96WlxRdjSILqIzWzxr0YYI9awm0S4ey+xuFNqG3LGBjafWujpOfWk1fW5rGq4K1jlrjwx9skhkvIxLJb/6p/Sk1Dwwupur30Hmuowjd1rqse9L+NHK+5f1h/wAqOTn8MfadNWyuIvMt0OVjPXPrmrumaRPpbJFZKIrc8sO9b+KMUuXzE6zfRCDNKKWiqMRK868dXCN4qsbW/wBSksbBo8yMhr0asTU/Cem6vrEOoX8fnPCu0Rt901cGk9SWmcTpviO60i4ubLTpXvreY7bOeXOAfxrRl8Y6t4fmXTteijlvJk3RPH0yfXFdTqnhuw1TTxZmIQIn3GiABQ+1Ztn4EsLeCRbuWS8lcbVmkPKj2rXnp22I5ZGFf69r+n2S2+vLEwvx+6eI8oKoadrE+mwzyqPNkhXcrOeTXT2ngCzt1P2m6nvCD+780/cHoKmbwLp7JKPMkAlGGGapVKaQuWRh2vinxBG1vqGoQp/Z8wydvakvPFmv3Om3+s6NDGbG06RucM1dR/wi1q2mQWDu7QwfdBNcJ4g8M6hcajNYWMc8UFxhTsyEApxdOSC0j0Xw7qUmseHbLUJkCPcRB2UdjWnWfoWm/wBk6DaWBbcYIghNaFcjNUFFFFIYUUUUwCmyY8ts9Mc06mS8xsPUc0mBV0wW32Ui0xt3HJHrV2qOlw20FuyWjbl3Ek+9XqFsACigUUwCiiigArnb1sa5J/u10VczfT+XrMnyFuKAJT0PFQ3KkSW+Dn5qab5Np/dtUUt0sskHylfmoA61PuL9KKSP/Vrj0FKKAOR8QQPofiK21+3BMLHyrpB0wf4qxdUvV1XVLoWreYHI+zv6+uK7fX/KbQbuKf7s0TIPqRXlnwxje616TT758LpRMkZ/v80AdN49sfN8Djw9axhri4jBZR69z+dYXhPxDNN4NTwrbs39r2p8ogDoua6rSZ4rvWNR8TXrGOC2DRJnsB3/AM+tcN4Qn/sv40Xb3lv5UGs7ntHYfe6kYoA9d0fTI9K0yK2jGCBlz6seprn9f1CbWtWTw9phOwkG6mT+Ad1rR8S622m2gt7T5765OyFV5257mn+GtBXRLA+Yd93Od88nq1AFPX/h74c8R6CulalYI8KD9238SH1z614z4o+B194fj8zw8zXlt/zz6MtfRdGamUVJaiaT3PlbRPht4j1e+WBrB4UJw0r9BX0d4S8M23hTQYtPtRyADI+PvNW0PTGKdSjFR2FGKQUGikqygFU9X1BdL0qe7f8A5ZqSB6ntV0Vx+vyPrnia10aAExQMJbk9iOOKALvg3T2ttNkvZvmmvn8056gHtXR02NFijVI1CqowAOwp1ABRRRQAUUUUAFFFFABRRRQAUUUUAFFFFABRRRQBhXf/AB9yf71FF3/x9yf71FAFmx/4/j9K8k8VawsfxEvrO5IdVQkKa9bsf+P4/Svm34n6jLZfG9RHkLKSrZ71z4jWNi6c3Fk15o2nPZvqmk7omaQ+ahGBVK5sxb26X0KNInGQK3re9jurW9sblRkLmPHFZtp4i+wQxWkkS7Q23kda8qXO1qdOkndPU9K8G+LrGLw6s1yrxJEv3HXqa8y8Uas/iPX7i9AxH0jB/hFdp4w1bTk8J2un2iIbuZQxKD7o4615zcYtrNmkOOOtaU04o2V3rITRfEFx/aD6dKN6qM7s1pvfEOWiI56gmuL0udoZJLgKfOZsLnuK9Ph8NWLabBc3weOSVckcjFW6qitTK6bOcnvol5baG74rNuL6Fh+6m/Wur1vwXZ2lm05lJj25D56V5XqYaUeRaKy5OC/rWlOoprQVjRutQ8s5EwB9jWLc6pcXEhjtzJK3vU1toUcMG6eRpJOvJp9vJLeX8enaUim4c7S+Pu1cnYb0KEGhvcXKSX++WaQ4SJRkZ969c8CfD0Lcrea3bCNYxlYCOK7LwR8NdH0XRFuLqdb3V2AbcxyEPsK7GDThGUMkigH7wx1rGVRz0I5ipa29pP4fvzJaqsSoRG4X7h5ryWGC28UPPYateJ9ptyfJHqter+MNdfw3pSi2sGl06Xi5YL0FeL+IofDzXK3fheSRZpOXLE5Ge1TyuxHNrY56/sG0LVd9qxkUHGK1bSTQtJsZ7+5x/aFwvCN0FQu6pCWujlgO4rmvEeq6TeRpAoLzKc7h/DXXD940iU0jS0/xLIt5hnJXPPtXRHxDbSRfPMrL3BNef6baT6vcJbWCMo/jk2nGPrXXR+DbRIQGZi/8RzW05qL5Uc0opO6HT6jZGUXMcAdF6qB1NT+G9Tnl1N5LogQsfki7AUG1tdNsGiwGIHU9q49tVks7/wAyGXcgbtWcPiuEpc0bHQ/EGfEsZg+6eCK5/T7waYyOU3h/vZ71q6pdLrVrDKByByK5+7LPdhAvAGAKJtTeo1G0bHW6n4oX/hDLnTYuBMN2R/D7V7J+zdN5vgKQYOFkxk9+tfPllpE32WV7k/uiOhHavpL4BxRQ+B3SBdqeZ0/OihHluCWp6nRRRXUWFFFFACUtJiloA4g3jad4kv8Azrdyr/dZV61ONehz81vKfT5a67Yp+8qn6ik8pP7i/wDfNP3exHIcj/wkMQ/5YS/980o8Qxf88Jf++a60RR/3F/IUeVH/AHF/KlaPYXIcl/wkMXH7iXr/AHKlt/EEDXnFvKTtIGV4rqPKj/uL+VHlR9kX8qfu9h8vmeR+FvEFloFx4gtLwTSG5lLEEHavUY/WrHhrXNQimuIZrJxpbD/Rygzg+teg3mhWFzHNAbWNRcHLsF6ms7wtol/pM90t06/ZidsaY6Ck+Vq1g5H3M5L+XVNZs0igcGHqzDGa7fmmIqDlUUY6ECpKfNdJDUbCDjrS0maWkUFFFFABRRRQAUUUUAFFFFACda8n1O6s5vGWrJqutXFsYY828MbHrXrNYMXg/So9cm1WWBZriYYJkGcVcZqJLTZyeleJddl0+y0qzCtfSgsk0/dRVmPxvqbOuiGKL+2zIY2b+Ae9dJrnhW11gRPG7Wk8IwkkXGB6VUTwJpyaYtuJJPtCtvF1n591a88Hq0RaRzGua7qj6NLpOslY7+OddssJ4YfhT28R3em3l3JaRrJLDbKAGP3jXQ2/gGwj0+WCeaWeaWTe07nLZqWXwRYTSSM7uDIgQ4PpVKdNboOWRjWnizW9LWI+IYYyLqAyxBDyD2FVLrxX4qsk02+lit3tb+byygIygzXW6n4dtLqOGR1Mj2sBijU9xivPYPCGr6j4gsYpIbi3srOUyfOflPNK9NoLSR64g+RT7U+kxgD2pRXMaiUCigUALRRRQAUUUUgCiiimAUUUUAFFFFABRRRQAUUUUAFFFFABRRRQAUUUUAFFFFABRRRSAKKKKACiiimAUUUUAFFFFABRRRQAU2QZjYDuMU6mScxsPUYpMCrplolnA0aNuyxJIq7WfpVlJZWrRtJvJYnJrQ9M0LYAFFAopgFFFFABWK6q2uSgjPy1tVjH/kOy/wC7QBJ5Ue0/ux+VVb2OMCDCD73pV7+GquoDCwf71DHY2U/1a/SlHekT/Vr9KUCgRx/xFv8AyNFFvG+2V2yMVyniPS5NG8F2mqaaHTVJ3VSE6sh61e16U+IvibZ6ZDlobc5n9AK15763m1m81O4QGy0pPs9vGeRI54yKAIGMesWem+HdLYGBo1lvpV/AkfXNZ3xjtl0bw9YeI7bCy6LIvkjv6AVL4FtJPCGqXsesPtTVGN1HK54Qf3c1c1TT/wDhYct7a3iuukW6ny1A/wBc/Y0AaHg61l1iG28Uan/x9XcAKxfwxj2rrd3zYrg/hPqM0vhuXS71/wDSbCVkCnqE7V3irigBaKKKACiiigApKU0UAVNTvo9N06a7lbCxqSM9z2rE8G2cxs5dUv1xdXjE8/3e1V/E1wdW1q18PxZKORJOw/hA7V1cMawwpEn3UUKPwoAfRRmigAooooAKKKKACiiigAooooAKKKKACiiigAooooAwrv8A4+5P96ii7/4+5P8AeooAsWZ/038K8j+Jnw11vxB46ttV0u1WSKNss2cGvWrP/j/Fa9ZVKSm9Rng+ofCvxE9yl9p+1JAuGTPWqjfC/wATNI1zLaoXxwnvX0HRU+wjYak0fOlt8NfGXntJc2yyf3cnoKh1P4XeL73YgtEEYOWwa+kaTNT9Xia+3kfN9r8I/E0d5bzSWqBIWB2Afer0G48Na7eXAmltFCIm1EFeoUlS8JB7mfOz5613wV8QdXlaGCJUtM/c9axX+EHi9Fylguf97/61fT9GTWioxirIftWj5Nk+EHxDmuFUWkaQk4Zu4FdTrnwP1Wy0+xuPC+BeKB9oc9Se9fROaWn7FClUcjyXwB4X8T6cANcUHb05613q6dMJfMeMNg9K3KKPYxDmscZ4tj1q+hjs7OySSzl+WZSucCvKtV+EmuWuok6HaCS3YbuTjB9K+iKWkqCTuTc+Stc+FPxIvZNttp6BOnynFZmnfALx20++7slTnJy2c19j5ozW3KrWQj500P4YeK9MjZBYRonoBya0P+FeeKCrf6GvPvXveaKx9jG9xNXPmy6+F3jKa7G2yQxHhsmoB8BtdZjII1UnnZX01RzWihFE8p8uXPwg8aQRlbOxQkd81Wtfgx4zZjLPYIH/AN7rX1ZmjNPkTK2Pl8/CTxy8ZVrZQnTZmvYvhH4c1Lwz4aktNWh8qTfkDNd/SHmmkkAuaTNA4pc0xhmuV8SeI7631a30bQoFlvZ1LFm6IK6quY8R6Be3OpQato0qxXkClSCPvj0px3E7jbXV9T0Wzlm8U+Wsa8RtHyXb0qOx8f2dykv2u2mtJEBZY5By49RVW78P63r9gP7WmEckTb4U7bh61Wk8K67rUq3euSQpcQIY4xH0I9a2UYdTO7Ltn8SLK6y7Wk0cRbajEfeNaU/jHT7fTPtjElQ21lHVapzeFp303RrZSgFlLvmGPvCqVt4GuF8ZanfXM4k0u9j2pbf3DjrRaAc0i+vj6wOqR2wtp/s0ibhd4+QH0rP0PxbIuoXA1Fi8U0+y3K1DH4W8QRwroglhOkBi3mfx49KVfAl5b26rDOpe3ffDnv8AWnywFeRs+IPGEeipNClu8tyi7lXHBrL/AOExmvdD0zUZ4ZLEzTbXQ0y08La9f6hPea1cRgsuI1A6elSXfhrWdV0W1sb5o1ME+5mXutHLALyLs/j+zi1R4EtZpbaMhXuVHygmo7/4h2Ntfy2tvbyXJgQPKyjhVqjL4U12NZ9ItZYf7LuHDl2HzKO4rQ0fwjLpd1qpEitFdQeVGD1zjqaVqdiryOhsdVt9Q0mLUYSfs8ibxkdKyPD/AI1sPEGp3dnb8PbttHvVzw9pUmm+Ho7C7IdlBDEdDmm6P4V0vRLye6sYNss5yx9Kz93UabMrxTrWsw+IbLSNEeGOS4XcXlHAqKw8aS2P9oQeI/LWeyHDRdJPpUfjHw7BreuW8lzfPbRLHsJj4YVht4SsRpt1YtfySlfmhmc5L+xrSHs2veK9nV3R0UPj+21LSLiWwRluo03iNx2rTj12eTwamrFFErJuI7dcVyOl6PbxaRcrK3kXjxbFOOtWNDe8OiDQ9UkxbqpXzgOTSl7NbAqdV9Dd1PxLPZeD7bVEjVpZmUEdhnNdDZTNcafBM+NzoGOPpXmkmn6jd2kGi3V+Bp9vKH80LyVB6V6VYvA1lGto2+NFCqfYVnJp7Fcko/EWaKBRUiCiiigANFFFABSUtFABRRRQAmPUUtFFACYpaKKACiiigAooooAKKKKACiiigAooooAKKKKACiiigAooooAKKKKACiiigAooooAKKKKACiiigAooooAKKKKACiiigAooooAKKKKACmyf6tscHHFOpkv+rbHXBxSewFLSbee2tmF1JvYsTnPatCs/SBc/ZWN6PnLHH0rQoWwAKKBRTAKKKKAEbpzxXlvxA8VXvh7XEFlt/eLyTXqRrw/4t/8AIehx/dqJNrY8jNq06NDmg9SmfifrX+zWjoXjzU9Y1u0tLjbsZwDXl89xIl/GmfkI5rqPBxz4qs/+ugrOEm3Zng4TG4l1oqcrpn0mOFHsKgvbtLLT57mQ4WJCxzU46D6VwnxY1V7bwuumWjYu9QkEaAdcZGa3PtTnvBs0iaXrHia4/wBbqMhghY9V963NDsG1S9gspP8AU2J3z+kpPSsi6KW1vpOh2Kl9sQEqKfuv611V3MfDGhw2NmBNqtyAqgDk+/4UAZPj+GXxSP7D0Pi4syJZJV6BR/CK6rwpeW934fgW3wGgURSrjkMODTvDeiLo2mhX+e5l+eZz1JPasW4P/CLeLxcAY0/UT+9PaN6AMiNB4X+MUryfu7TWIwE9N/H9a9JrifiZp5n0O21aHl9NmE4K9StdRoupLq+i2t/H92eMN9KAL1FFFABRRRQAHmoL27SysZrmX7kSljU9cl4umm1C8tNEsm+aVw04HZKAJPB9i0r3WtXPzSXj5jz/AArmuoxUdtbx2lrHBCMRxqFAqWgAooooAKKKKACiiigAooooAKKKKACiiigAooooAKKKKAMK7/4+5P8Aeoou/wDj7k/3qKAJrP8A4/xWvWRZ/wDH/WvQAUUUUAFJilooATFGKWilYBMUYpaKYCYpcUUUAGKMUUUAGKMUUUAGKMUUUAJilxRRQAmKXFFFIBMUuKKKYBijFFFABiiiigAooooAKQD3paKADFFFFABSY460tFABRiiigAoIz1oopAJijHpS0UWArzWcM7ZkiVj7jNRf2ZbYA8hMDkfLV2ilyotTkio2nW7sGaFSR3xQdOtyuDEuPTFW6KOVB7SXcqf2da7dpiTHptqeGCOBNkSBF9AKkop2S2E5Se4UUUUyQooooAKKKKACiiigAooooAKKKKACiiigAooooAKKKKACiiigAooooAKKKKACiiigAooooAKKKKACiiigAooooAKKKKACiiigAooooAKKKKACiiigAooooAKKKKACiiigApkv+rbHUDIp9Ml4iYjsM0mBS0qe4ubZnuFKtuIA9qvgYxVDSLx722aSRPLIYqFrQoWwAKKBRTAKKKKAEPSvHvifot9qOuRGxhaTavOO1exVz9zzrkoP92la5y4rCxxUOSR4I3g/WWcE2RJHcitvwt4c1Sy8SWc11bFIxIMk17CwHFMuTkQ+u6pULO5w0MnpUZqfNsdCOg+leT+Kb6PVfiKZZiFt/D6bznoW616hd3H2XTZrgEZjiLDPrjivB7eGfxDrX2WFuNRmJv3z9xQe9Wewdj4M2i31HxnqoISdibVD/F9K6bw1plxe3z+INWH76cfuYmH+qX2rPsNPi8QahBa2y+VomjERxIP+WzDv9K7ocAADAoAKz9c0qPWNJltZR1+ZT6MOlaFFAHKaLcnXNBu9F1T5LtUaN0Yfw9Aaq/De9k+wXukzDadOnMaL321N4lhl0TXLfxFaLmMkRXa9tnTNZ87Lo/xOs7y3YfYNVh5ZfulznmgDv6KTPNedZ8eN8QtZCY/sMWp+xZ/56Y4oA9Gorx+X/han/CDWTRlRrH2w+f8A9cs/4V6zY+f/AGfb/a/9f5S+Z/vY5/WgB9xOltbSTSkKqKSSa5bwjDNqV7da7eriSVjHGMdFFTeLrprhrbRbc/vbxvmI7KK6CztUs7KK3jACxqF470ATAUuKKKADFFFFABRRRQAUUUUAFFFFABRRRQAUUUUAFFFFABRRRQBhXf8Ax9yf71FF3/x9yf71FAEtl/yEK2KxbI/8TCtjNADqKTNGaAFopM0ZoAWikzRmgBaKTNGaAFopM0ZoAWikzRmgBaKTNGaAFopM0ZoAWikzRmgBaKTNGaAFopM0ZoAWikzRmgBaKTNGaAFopM0ZoAWikzRmgBaKTNGaAFopM0ZoAWikzRmgBaKTNGaAFopM0ZoAWikzRmgBaKTNGaAFopM0ZoAWikzRmgBaKTNGaAFopM0ZoAWikzRmgBaKTNGaAFopM0ZoAWikzRmgBaKTNGaAFopM0ZoAWikzRmgBaKTNGaAFopM0ZoAWikzRmgBaKTNGaAFopM0ZoAWikzRmgBaKTNGaAFopM0ZoAWikzRmgBaKTNGaAFopM0ZoAWikzRmgBaKTNGaAFopM0ZoAWikzRmgBaZKSImI7DP1p2abI2I2J6AUmBU0u8W9tzIkflqGIAxV6qGlXMN1bM9uu0biCKu5oWwDhRTQaXNMBaKTNGaAFrn7hT/bkrdttb+a526tTPrEmJihxQBNgkdO1Q3DZe34x81KNLk2/8fbVHNp7K0AE5Y7xQMyPixr6aD4K+WQLPOwSIZ+8fSuV8H6VNJaizto2W41EB7yUf8shXMfFLVLjxj8YtM8N6VumitgPMUchW55r3Pw3oEeg6akWRJcMP3kvr7UCNLT7GHTbGK1txhI1AB7n3NWOTSZozQA6ikzSZ5oAivbOHULGW0uV3RSrtYe1eY61BdR+GpNJkyNQ0248yybuYwf8ACvVM1zPjDR5Lu0a+sR/pccZQe60Aa2hammr6JbXkf8aAOPRh1/WtA8dBXnnwz1+2bSr3T5JlD2LFpMn7vrXM+Jvjq1rfPbaDaLKsbFWlc8H6Um0tyXJI9px2xxUcsyW9vJNMdscalifYV5T4M+NUOs6gthrkK2skhxHKv3SfSuy8Z3s32GDTbP5prxwpA/udzQCknsReGYH1TWrzXJhuidtttu/hGa63HOaq6bZR6bp0NpCMLEuPrVrNMoWikzRmgBaKTNGaAFopM0ZoAWikzRmgBaKTNGaAFopM0ZoAWikzRmgBaKTNGaAFopM0ZoAw7v8A4+5P96im3Z/0uT/eooAfZH/iYVs5rEsj/wATCtnNADs0ZpuaM0AOzRmm5ozQA7NGabmjNADs0ZpuaM0AOzRmm5ozQA7NGabmjNADs0ZpuaM0AOzRmm5ozQA7NGabmjNADs0ZpuaM0AOzRmm5ozQA7NGabmjNADs0ZpuaM0AOzRmm5ozQA7NGabmjNADs0ZpuaM0AOzRmm5ozQA7NGabmjNADs0ZpuaM0AOzRmm5ozQA7NGabmjNADs0ZpuaM0AOzRmm5ozQA7NGabmjNADs0ZpuaM0AOzRmm5ozQA7NGabmjNADs0ZpuaM0AOzRmm5ozQA7NGabmjNADs0ZpuaM0AOzRmm5ozQA7NGabmjNADs0ZpuaM0AOzRmm5ozQA7NGabmjNADs0ZpuaM0AOzRmm5ozQA7NGabmjNADs0ZpuaM0AOzRmm5ozQA7NGabmjNADs0ZpuaM0AOzRmm5ozQA7NGabmjNADs0ZpuaM0AOzRmm5ozQA7NGabmjNADs0yQ/u29Mc0uabJ9xs9Mc0mBV0trdrVvsnC7jnHrV3NUNMWBLci0IKbjn61ezQtgFBpc00GjNMB2aM03NGaAHZrFZh/bcuf7tbGaxbkvb6tJIYywZetAFwMMVg+NtVl0Hwbe6raQNcXECHy41HJNaAvTj/AFTflUM85vGihMO5WPzKw4oA8t+B9jp+nWl94r8S3CrrWpSltsg+aNPSvXP+Ev0T/n+Spv7B0plG7T7cnv8AJSf8I/pH/QOg/wC+KAIv+Eu0X/n+Sj/hLtF/5/kqb/hH9J/6B0H/AHzR/wAI/pP/AEDoP++aAIf+Eu0X/n+Sj/hLtF/5/kqb/hH9J/6B0H/fNH/CP6T/ANA6D/vmgCH/AIS7Rf8An+SsXxd460rT/CV/c294pdYyAR2NdB/wj+k/9A6D/vmqmq+ENE1bSZtOubCIQzDDbVwaAPjbw94qvtJ1bUp4LrzIdSJEkmTxk9/zrR3K6/uyCrc5Br1T4q/Ae2i8LLceCIDG9pl5LbP+tHt715Hp6S2tokF1GY7hRh0bgqa5cQtLmNSPUtA+WyuCQYyGBz3r6N+FtxfeI7GPXNWyTEghhyOoHevnuxsptUvorK1jMksrBQo619YeFNI/sHwxZ2BGHjjG/wCuK0oJ8uoU1Y280uaYDxS5rY2HZozTc0ZoAdmjNNzRmgB2aM03NGaAHZozTc0ZoAdmjNNzRmgB2aM03NGaAHZozTc0ZoAdmjNNzRmgB2aM03NGaAMO7P8Apcn+9RSXf/H3J/vUUAPsj/xMK2M1i2R/4mFbGaAHZozTc0ZoAdmjNNzRmgB2aM03NGaAHZozTc0ZoAdmjNNzRmgB2aM03NGaAHZozTc0ZoAdmjNNzRmgB2aM03NGaAHZozTc0ZoAdmjNNzRmgB2aM03NGaAHZozTc0ZoAdmjNNzRmgB2aM03NGaAHZozTc0ZoAdmjNNzRmgB2aM03NGaAHZozTc0ZoAdmjNNzRmgB2aM03NGaAHZozTc0ZoAdmjNNzRmgB2aM03NGaAHZozTc0ZoAdmjNNzRmgB2aM03NGaAHZozTc0ZoAdmjNNzRmgB2aM03NGaAHZozTc0ZoAdmjNNzRmgB2aM03NGaAHZozTc0ZoAdmjNNzRmgB2aM03NGaAHZozTc0ZoAdmjNNzRmgB2aM03NGaAHZozTc0ZoAdmjNNzRmgB2aM03NGaAHZozTc0ZoAdmjNNzRmgB2aM03NGaAHZozTc0ZoAdmjNNzRmgB2aM03NGaAHZpknMbA9xS5pkhzGwz1BpPYCppNvHaWpSFt6lic5rQzWbpFq1nalGffuYnNaGaS2AcDRmmg0ZqgHZozTc0ZoAdmkOD1GaTNGaAFwP7o/KgKo6KPypM0ZoAdmjNNzRmgB2aTn1NJmjNAC8+po59TSZozQAvPqaPxpM0ZoAU8jmuM8RfC3w94iuzdzQmCdvvPFxu+tdlmjNAmrnLeGvh9oXhabz7G3Lz9pX5IrqepzQeaKASsOzRmm5ozQMdmjNNzRmgB2aM03NGaAHZozTc0ZoAdmjNNzRmgB2aM03NGaAHZozTc0ZoAdmjNNzRmgB2aM03NGaAHZozTc0ZoAxLs/6VJ/vUUl2f8AS5P96igB1kf+JhWxmsWyP/EwrYzQA7NGabmjNADs0ZpuaM0AOzRmm5ozQA7NGabmjNADs0ZpuaM0AOzRmm5ozQA7NGabmjNADs0ZpuaM0AOzRmm5ozQA7NGabmjNADs0ZpuaM0AOzRmm5ozQA7NGabmjNADs0ZpuaM0AOzRmm5ozQA7NGabmjNADs0ZpuaM0AOzRmm5ozQA7NGabmjNADs0ZpuaM0AOzRmm5ozQA7NGabmjNADs0ZpuaM0AOzRmm5ozQA7NGabmjNADs0ZpuaM0AOzRmm5ozQA7NGabmjNADs0ZpuaM0AOzRmm5ozQA7NGabmjNADs0ZpuaM0AOzRmm5ozQA7NGabmjNADs0ZpuaM0AOzRmm5ozQA7NGabmjNADs0ZpuaM0AOzRmm5ozQA7NGabmjNADs0ZpuaM0AOzRmm5ozQA7NGabmjNADs0ZpuaM0AOzRmm5ozQA7NGabmjNADs0ZpuaM0AOzRmm5ozQA7NNk5jYDgkGjNNkP7tsdcHFJ7AU9JgntrMpcNvYsSDWhms3RhcJaMLskvvOPpWhmktgHA0ZpoNGaoB2aM03NGaAHZozTc0ZoAdmjNNzRmgB2aM03NGaAHZozTc0ZoAdmjNNzRmgB2aM03NGaAHZozTc0ZoAdmjNNzRmgB2aM03NGaAHZozTc0ZoAdmjNNzRmgB2aM03NGaAHZozTc0ZoAdmjNNzRmgB2aM03NGaAHZozTc0ZoAdmjNNzRmgB2aM03NGaAMW7P8Apcn+9RTbs/6XJ/vUUAPsj/xMK181jWR/4mFa+aAHZozTc0ZoAdmjNNzRmgB2aM03NGaAHZozTc0ZoAdmjNNzRmgB2aM03NGaAHZozTc0ZoAdmjNNzRmgB2aM03NGaAHZozTc0ZoAdmjNNzRmgB2aM03NGaAHZozTc0ZoAdmjNNzRmgB2aM03NGaAHZozTc0ZoAdmjNNzRmgB2aM03NGaAHZozTc0ZoAdmjNNzRmgB2aM03NGaAHZozTc0ZoAdmjNNzRmgB2aM03NGaAHZozTc0ZoAdmjNNzRmgB2aM03NGaAHZozTc0ZoAdmjNNzRmgB2aM03NGaAHZozTc0ZoAdmjNNzRmgB2aM03NGaAHZozTc0ZoAdmjNNzRmgB2aM03NGaAHZozTc0ZoAdmjNNzRmgB2aM03NGaAHZozTc0ZoAdmjNNzRmgB2aM03NGaAHZozTc0ZoAdmjNNzRmgB2aM03NGaAHZozTc0ZoAdmjNNzRmgB2aM03NGaAHZpsh/dtjrg4ozTZCfLbHXFJgU9Ilnks2a7G1wxA47VoZrP0q4nuLUtcJsYMQBjtV7NC2AcDRmm5ozTAdmjNNzRmgB2aM03NGaAHZozTc0ZoAdmjNNzRmgB2aM03NGaAHZozTc0ZoAdmjNNzRmgB2aM03NGaAHZozTc0ZoAdmjNNzRmgB2aM03NGaAHZozTc0ZoAdmjNNzRmgB2aM03NGaAHZozTc0ZoAdmjNNzRmgB2aM03NGaAHZozTc0ZoAdmjNNzRmgDGuj/pUn+9RTbo/wClSf71FADrI/8AEwrXzWNZn/iYVr5oAfmjNNzRmgB2aM03NGaAHZozTc0ZoAdmjNNzRmgB2aM03NGaAHZozTc0ZoAdmjNNzRmgB2aM03NGaAHZozTc0ZoAdmjNNzRmgB2aM03NGaAHZozTc0ZoAdmjNNzRmgB2aM03NGaAHZozTc0ZoAdmjNNzRmgB2aM03NGaAHZozTc0ZoAdmjNNzRmgB2aM03NGaAHZozTc0ZoAdmjNNzRmgB2aM03NGaAHZozTc0ZoAdmjNNzRmgB2aM03NGaAHZozTc0ZoAdmjNNzRmgB2aM03NGaAHZozTc0ZoAdmjNNzRmgB2aM03NGaAHZozTc0ZoAdmjNNzRmgB2aM03NGaAHZozTc0ZoAdmjNNzRmgB2aM03NGaAHZozTc0ZoAdmjNNzRmgB2aM03NGaAHZozTc0ZoAdmjNNzRmgB2aM03NGaAHZozTc0ZoAdmjNNzRmgB2aM03NGaAHZozTc0ZoAdmmSHEbH0GaXNMkOI2PoKTAraXem9tWkZNmGIxV3NUdNvIru2LwpsAYgjFXM0LYB+aM03NGaYDs0ZpuaM0AOzRmm5ozQA7NGabmjNADs0ZpuaM0AOzRmm5ozQA7NGabmjNADs0ZpuaM0AOzRmm5ozQA7NGabmjNADs0ZpuaM0AOzRmm5ozQA7NGabmjNADs0ZpuaM0AOzRmm5ozQA7NGabmjNADs0ZpuaM0AOzRmm5ozQA7NGabmjNADs0maTNJmgDGuj/pUn+9RTbo/wClSf71FADrM/8AEwrXzWPZn/T6180AOzRmm5ozQA7NGabmjNADs0ZpuaM0AOzRmm5ozQA7NGabmjNADs0ZpuaM0AOzRmm5ozQA7NGabmjNADs0ZpuaM0AOzRmm5ozQA7NGabmjNADs0ZpuaM0AOzRmm5ozQA7NGabmjNADs0ZpuaM0AOzRmm5ozQA7NGabmjNADs0ZpuaM0AOzRmm5ozQA7NGabmjNADs0ZpuaM0AOzRmm5ozQA7NGabmjNADs0ZpuaM0AOzRmm5ozQA7NGabmjNADs0ZpuaM0AOzRmm5ozQA7NGabmjNADs0ZpuaM0AOzRmm5ozQA7NGabmjNADs0ZpuaM0AOzRmm5ozQA7NGabmjNADs0ZpuaM0AOzRmm5ozQA7NGabmjNADs0ZpuaM0AOzRmm5ozQA7NGabmjNADs0ZpuaM0AOzRmm5ozQA7NGabmjNADs0ZpuaM0AOzRmm5ozQA7NGabmjNADs0ZpuaM0AOzTJD+7b0xzS5pkh/dt6Y5pMCvpstvJATaABNxz9au5qhpyW0cBFocpuJPPeruaFsA7NGabmjNMB2aM03NGaAHZozTc0ZoAdmjNNzRmgB2aM03NGaAHZozTc0ZoAdmjNNzRmgB2aM03NGaAHZozTc0ZoAdmjNNzRmgB2aM03NGaAHZozTc0ZoAdmjNNzRmgB2aM03NGaAHZozTc0ZoAdmjNNzRmgB2aM03NGaAHZozTc0ZoAdmjNNzRmgB2aTNJmjNAGLdH/AEqT/eopLo/6VJ/vUUAOsj/p9a+axrM/6fWvmgB2aM03NGaAHZozTc0ZoAdmjNNzRmgB2aM03NGaAHZozTc0ZoAdmjNNzRmgB2aM03NGaAHZozTc0ZoAdmjNNzRmgB2aM03NGaAHZozTc0ZoAdmjNNzRmgB2aM03NGaAHZozTc0ZoAdmjNNzRmgB2aM03NGaAHZozTc0ZoAdmjNNzRmgB2aM03NGaAHZozTc0ZoAdmjNNzRmgB2aM03NGaAHZozTc0ZoAdmjNNzRmgB2aM03NGaAHZozTc0ZoAdmjNNzRmgB2aM03NGaAHZozTc0ZoAdmjNNzRmgB2aM03NGaAHZozTc0ZoAdmjNNzRmgB2aM03NGaAHZozTc0ZoAdmjNNzRmgB2aM03NGaAHZozTc0ZoAdmjNNzRmgB2aM03NGaAHZozTc0ZoAdmjNNzRmgB2aM03NGaAHZozTc0ZoAdmjNNzRmgB2aM03NGaAHZozTc0ZoAdmjNNzRmgB2aZIf3bZ6Ypc0yQ5jIPcYpMCvpsENtblIH3gtkmrm7mqOm2Ysbcxq+8sxOauZpLYB+aM03NGaoB2aM03NGaAHZozTc0ZoAdmjNNzRmgB2aM03NGaAHZozTc0ZoAdmjNNzRmgB2aM03NGaAHZozTc0ZoAdmjNNzRmgB2aM03NGaAHZozTc0ZoAdmjNNzRmgB2aM03NGaAHZozTc0ZoAdmjNNzRmgB2aM03NGaAHZozTc0ZoAdmjNNzRmgB2aM03NGaAMa6P+lSfWim3R/0qT60UAPsz/p9a2ax7M/6fWtmgB2aM03NGaAHZozTc0ZoAdmjNNzRmgB2aM03NGaAHZozTc0ZoAdmjNNzRmgB2aM03NGaAHZozTc0ZoAdmjNNzRmgB2aM03NGaAHZozTc0ZoAdmjNNzRmgB2aM03NGaAHZozTc0ZoAdmjNNzRmgB2aM03NGaAHZozTc0ZoAdmjNNzRmgB2aM03NGaAHZozTc0ZoAdmjNNzRmgB2aM03NGaAHZozTc0ZoAdmjNNzRmgB2aM03NGaAHZozTc0ZoAdmjNNzRmgB2aM03NGaAHZozTc0ZoAdmjNNzRmgB2aM03NGaAHZozTc0ZoAdmjNNzRmgB2aM03NGaAHZozTc0ZoAdmjNNzRmgB2aM03NGaAHZozTc0ZoAdmjNNzRmgB2aM03NGaAHZozTc0ZoAdmjNNzRmgB2aM03NGaAHZozTc0ZoAdmjNNzRmgB2aM03NGaAHZozTc0ZoAdmjNNzRmgB2abJzGw6ZGKM02TmNh7cUnsBW022ltbdllcuS2RzVzNUNLW4jtmF0259xx9KvZpLYB2aM03NGaoB2aM03NGaAHZozTc0ZoAdmjNNzRmgB2aM03NGaAHZozTc0ZoAdmjNNzRmgB2aM03NGaAHZozTc0ZoAdmjNNzRmgB2aM03NGaAHZozTc0ZoAdmjNNzRmgB2aM03NGaAHZozTc0ZoAdmjNNzRmgB2aM03NGaAHZozTc0ZoAdmjNNzRmgB2aM03NGaAMa6P+lSfWikuj/pUn1ooAdZn/T61s1j2Z/0+tbNADs0ZpuaM0AOzRmm5ozQA7NGabmjNADs0ZpuaM0AOzRmm5ozQA7NGabmjNADs0ZpuaM0AOzRmm5ozQA7NGabmjNADs0ZpuaM0AOzRmm5ozQA7NGabmjNADs0ZpuaM0AOzRmm5ozQA7NGabmjNADs0ZpuaM0AOzRmm5ozQA7NGabmjNADs0ZpuaM0AOzRmm5ozQA7NGabmjNADs0ZpuaM0AOzRmm5ozQA7NGabmjNADs0ZpuaM0AOzRmm5ozQA7NGabmjNADs0ZpuaM0AOzRmm5ozQA7NGabmjNADs0ZpuaM0AOzRmm5ozQA7NGabmjNADs0ZpuaM0AOzRmm5ozQA7NGabmjNADs0ZpuaM0AOzRmm5ozQA7NGabmjNADs0ZpuaM0AOzRmm5ozQA7NGabmjNADs0ZpuaM0AOzRmm5ozQA7NGabmjNADs0ZpuaM0AOzRmm5ozQA7NGabmjNADs02XmNvpxRmmyH923fik9gK2mPcNbs119/ccfSrtZ2kzzT2rNcJtYMQB7VfzSWwDs0ZpuaM1QDs0ZpuaM0AOzRmm5ozQA7NGabmjNADs0ZpuaM0AOzRmm5ozQA7NGabmjNADs0ZpuaM0AOzRmm5ozQA7NGabmjNADs0ZpuaM0AOzRmm5ozQA7NGabmjNADs0ZpuaM0AOzRmm5ozQA7NGabmjNADs0ZpuaM0AOzRmm5ozQA7NGabmjNADs0ZpuaM0AY9yf9Kk+tFJcn/SpPrRQA6zP+nVq5rIsz/p1auaAHZozTc0ZoAdmjNNzRmgB2aM03NGaAHZozTc0ZoAdmjNNzRmgB2aM03NGaAHZozTc0ZoAdmjNNzRmgB2aM03NGaAHZozTc0ZoAdmjNNzRmgB2aM03NGaAHZozTc0ZoAdmjNNzRmgB2aM03NGaAHZozTc0ZoAdmjNNzRmgB2aM03NGaAHZozTc0ZoAdmjNNzRmgB2aM03NGaAHZozTc0ZoAdmjNNzRmgB2aM03NGaAHZozTc0ZoAdmjNNzRmgB2aM03NGaAHZozTc0ZoAdmjNNzRmgB2aM03NGaAHZozTc0ZoAdmjNNzRmgB2aM03NGaAHZozTc0ZoAdmjNNzRmgB2aM03NGaAHZozTc0ZoAdmjNNzRmgB2aM03NGaAHZozTc0ZoAdmjNNzRmgB2aM03NGaAHZozTc0ZoAdmjNNzRmgB2aM03NGaAHZozTc0ZoAdmjNNzRmgB2aM03NGaAHZpspIjYg8gZozTZCPLbPQDNJgV9OuPtMJfyzFg42kVczVDTboXcBkUYwxFXc0lsA7NGabmjNUA7NGabmjNADs0ZpuaM0AOzRmm5ozQA7NGabmjNADs0ZpuaM0AOzRmm5ozQA7NGabmjNADs0ZpuaM0AOzRmm5ozQA7NGabmjNADs0ZpuaM0AOzRmm5ozQA7NGabmjNADs0ZpuaM0AOzRmm5ozQA7NGabmjNADs0ZpuaM0AOzRmm5ozQA7NGabmjNAGRdH/SpPrRTbo/6VJ9aKAHWZ/06tXNZFmf9OrWzQA7NGabmjNADs0ZpuaM0AOzRmm5ozQA7NGabmjNADs0ZpuaM0AOzRmm5ozQA7NGabmjNADs0ZpuaM0AOzRmm5ozQA7NGabmjNADs0ZpuaM0AOzRmm5ozQA7NGabmjNADs0ZpuaM0AOzRmm5ozQA7NGabmjNADs0ZpuaM0AOzRmm5ozQA7NGabmjNADs0ZpuaM0AOzRmm5ozQA7NGabmjNADs0ZpuaM0AOzRmm5ozQA7NGabmjNADs0ZpuaM0AOzRmm5ozQA7NGabmjNADs0ZpuaM0AOzRmm5ozQA7NGabmjNADs0ZpuaM0AOzRmm5ozQA7NGabmjNADs0ZpuaM0AOzRmm5ozQA7NGabmjNADs0ZpuaM0AOzRmm5ozQA7NGabmjNADs0ZpuaM0AOzRmm5ozQA7NGabmjNADs0ZpuaM0AOzRmm5ozQA7NGabmjNADs0ZpuaM0AOzRmm5ozQA7NNc4jY+1GaZJzGQTgY5pMCtplxBPbE26bVDEH61ezVKwNsYW+y/dzzj1q1mhbAPzRmmZozTAfmjNMzRuoAfmjNM3UZoAdmlzTM0ZoAfmjNM3UbqAH5ozTN1G6gB+aM0zdRuoAfmjNM3UuaAHZozTc0ZoAdmjNMzRn3oAfmjNMz70uaAHZozTc0ZoAdmjNNzRmgB2aM03NJmgB2aM02igB+aM0zNLmgB2aM03NGaAFzRmm5oz70AOzRmm596M+9ADs0ZpM0ZoAx7o/6VJ9aKS5P+kyfWigB1of9OrVzWRaH/Tq1M0APzRmmZozQA/NGaZmjNAD80ZpmaM0APzRmmZozQA/NGaZmjNAD80ZpmaM0APzRmmZozRoA/NGaZmjNGgD80ZpmaM0aAPzRmmZozRoA/NGaZmjNGgD80ZpmaM0aAPzRmmZozSugH5ozTM0ZougH5ozTM0ZougH5ozTM0ZougH5ozTM0ZougH5ozTM0ZougH5ozTM0ZougH5ozTM0ZougH5ozTM0Z96LoB+aM0zPvRn3p3QD80ZpmfejPvRdAPzRmmZ96M+9F0A/NGaZn3o3D1pXQD80Zpm4etG73ougH5ozTN3vRu96LoB+aM0zd70bvei6AfmjNM3D1o3e9F0A/NGaZu96N3vRdAPzRmmbvejcPWi6AfmjNM3D1o3e9F0A/NGaZuHqKTev94UXQEmaM1HvX+8KN4/vCi6AkzRmo94/vCjeP7wougJM0ZqPeP7wo3j+8PzougJM0ZqPeP7w/OjeP7w/Oi6AkzRmo94/vD86N4/vD86LoCTNGaj3j+8KN4/vCi6AkzRmo94/vCjeP7wougJM0ZqPeP7wo3r/eH50XQEmaM1HvX+8Pzo8xP74/Oi6AkzRmo/MT++Pzo8xP74/Oi67gSZozUfmJ/fH50eYn98fnRddwJM0ZqPzE/vj86PMT++Pzouu4EmaM1H5if3x+dHmJ/fH50XXcCTNGaj8xP74/OjzE/vj86LruBJmjNR+Yn98fnR5if3x+dF0BJmmSHMZHtzSCRTxuBP1oYhlYe1DAr6fHBFCRatlSf1q5mqOnWwtLdlDBssTnNWfNQ/xr780logJM0bqZ5iH+IfnRuX+8Pzp3Qaj80Zpm5f7w/Ol3D1oug1HZo/Gm5HrRn3ougHfjR+NNz70ZougHZozSZpM0XQh2aM03NGRRdAOzRmm5o3Ci6GOzRn3puR60ZFF0A7PvRmm5HrRmi6AfmkpuaM0wH5ozTM0Zo0AfmjNMzRmjQB+aTNNooAfmjNMzRmgB+aM0zNGaAH5ozTM0ZoAfmjNMzRmgB2aM02igQ7J9qMn2ptFAxwNLmm5ozQBkXJ/wBJf60U25P+kv8AWigB9o3+m1S1PRtWu75pbTVWt4z0QDpVq0P+nVq5qJQUtxptHJ/8I3rv/Qdf8jR/wjeu/wDQdf8AI11maSo9jErmZyn/AAjeu/8AQdf8jR/wjeu/9B1/yNdXRR7GIczOU/4RvXf+g6/5Gj/hG9d/6Dr/AJGuroo9jEOZnKf8I3rv/Qdf8jR/wjeu/wDQdf8AI11dFHsYhzM5T/hG9d/6Dr/kaP8AhG9d/wCg6/5Guroo9jEOZnKf8I3rn/Qdf8jTv+Eb1vvrj/ka6mjNHsYhzM5b/hG9a/6Dcn5Gj/hG9a/6Dcn5GupzRmj2MQ5mct/wjetf9BuT8jR/wjetf9BuT8jXU5ozR7GIczOW/wCEb1r/AKDcn5Gj/hG9a/6Dcn5GupzRmj2MQ5mct/wjetf9BuT8jR/wjetf9BuT8jXU5ozR7GIczOW/4RvWv+g3J+Ro/wCEb1r/AKDcn5GupzRmj2MQ5mct/wAI3rX/AEG5PyNJ/wAI3rX/AEG5Pyrqs0UexiHMzlv+Ea1k9dbk/Kj/AIRjV/8AoNSfka6rNGaPYxDmZyn/AAjGr/8AQak/I0f8Ixq//Qak/I11eaM0exiLmZyn/CMav/0GpPyNH/CMav8A9BqT8jXV5ozR7GI+ZnKf8Ixq/wD0GpPyNH/CMav/ANBqT8jXV5ozR7GIczOU/wCEY1f/AKDUn5Uv/CMav/0GpPyrqs0m70o9jEOZnLf8Ixq//Qak/Kk/4RjV/wDoNSfka6h5kiTdK6oo7scVX/taw/5/bf8A7+Cj2URc7Of/AOEY1f8A6DUn5Gj/AIRjV/8AoNSfka6hJkljDxOrqehU5Bp+6j2MQ52cp/wjGr/9BqT8jR/wjGr/APQak/I11W6lzR7GIczOU/4RjV/+g1J+Ro/4RfVf+g1J+Rrq93pijNHsYj5mcp/wi+q/9BqT8jR/wi+q/wDQak/I11WaXNHsYhzs5T/hF9V/6DUn5Gj/AIRfVf8AoNSfka6rdS5o9jEOZnKf8Ivqv/Qak/I0f8Ivqv8A0GpPyNdXmq8t/aQPtmuoY29GcCj2MRc7Oc/4RbVD11mT8jS/8IrqX/QYk/I10Ueo2c0ojiuoZHPRVcE1Puo9jEOdnLf8IpqP/QYk/Kj/AIRTUf8AoMSflXVbqN1HsYBzs5X/AIRTUf8AoMSflR/wimo/9BiT8q6rNG6j2MA5mcr/AMIpqP8A0GJPyo/4RTUf+gxJ+VdVmjNHsYBzM5UeFNR76xJ+VL/wimof9BmX8q6ndzUVxdQ2kDT3MqxRL1ZjgCj2MA5mc3/wimof9BmX8qP+EU1D/oMy/lXR211DeQia2kWWJvuupyDU1HsYBzM5b/hFNQ/6DMv5Uf8ACKah/wBBmX8q6ilo9jAOZnLHwrf/APQZlz9Kb/wiuo/9BmX8jXVZoo9hAfMzlh4T1A9dZl/Wj/hEr3/oMS/ka6rNGaPYwFzM5X/hEb7/AKDEv60f8Ije/wDQYl/WuqzRml7CAc7OV/4RG9/6DEv60f8ACI3v/QYl/WuqzRmj2EB8zOV/4RG9/wCgxL+tL/wiV7/0GJa6nNGafsIBzM5b/hEr3/oMS0f8Ile/9BiWupzRmj2MBczOW/4RK9/6DEtJ/wAIle/9BiX9a6rNGaPYQHzM5X/hEb3/AKDEv60f8Ije/wDQYl/WuqzRml7CAczOV/4RG9/6DEv60f8ACI3v/QYl/WuqzRmj2EA5mcr/AMIjed9Xmo/4Q+7/AOgvNXVZoo9hAOZnK/8ACH3X/QXmpf8AhD7n/oLzV1OaSj2EA5mcv/wh9z/0F5vyo/4Q+5/6C835V1FFHsIC5mcv/wAIfc/9Beb8qP8AhD7n/oLzflXUUUewgHMzl/8AhD7n/oLzflR/wh9z/wBBeb8q6iij2EA5mcv/AMIfc/8AQXm/Kj/hD7n/AKC835V1FFHsIBzM5f8A4Q+5/wCgvN+VH/CH3P8A0F5vyrqKKPYQDmZy/wDwh9z/ANBeb8qP+EPuO+rTV1FFP2MA5mYOm+GZrG+WeTUZZlX+Bu9b0n3Gx6UUjn5CB1xgVaikhXbKtnZtDZPC8pbeSQ3pmsN/CE7SOw1WYBjnHpW3p0M8MBS5bc24kGruaTpxktQuct/wh9wOmrTCk/4RC7/6C83611OaM1PsID52cv8A8Ihdjpq8360f8InfjprEv5V1GaM0exgPnZy3/CLakOmsy/lR/wAIxqo6a1J+VdTn3oz70exgHOzlv+EZ1b/oNSfkaX/hGtZHTW5PyrqM+9Gfej2MQ52ct/wjmudtcf8AKj/hHte7a6/5V1OfejPvR7GIc7OW/wCEe8Qf9B1v++aP+Ef8Q9teb/vmupzS5o9jEOdnK/2B4iH/ADHf/HaP7D8SD/mN/pXU596RmCglmwB1JNHsYhzs5f8AsXxL/wBBkflS/wBjeJf+gwPyrp0kWRd0bhl9Qc0uaPYxDnZy39k+Jh01ZT+FH9meKB/zE1P4V1OfejNHsV3DmZyv9n+KR/zEENH2HxV/z/JXVZ+lMa4iSQI8iBz0UtyaXsV3DmZzH2LxUP8Al9Q0fZvFY/5eoz+VdLPd29soNzNHECcDewGaFuoHkCJNGzkZChgTR7HzDnOa8rxYP+W0Z/KjZ4s/56R/pXVbqN1HsfMOc5XHi3+9F+lGfFo/55n8q6rfijdT9i+4c5yvmeLB/BGfypPP8Wf88Y/0rqXlSNN0jKijuxwKVZFdQyEMp6EHINL2T7hznK/avFg/5YJS/a/FY/5dk/SuqzRmj2T7hznK/bvFQ/5c0NL/AGj4pH/Lghrqc0ZFHsn3Dm8jlv7U8UD/AJhq0f2t4o/6Bi11OaM0eyl3DmXY5b+1/E466Up/Gj+2/Eo/5g4P411OaMj0o9nLuHMuxy39veIx/wAwT9aP+Eg8Rj/mB/8Aj1dTx6Cj8KPZz7hzLsYOm6trN3eKl9pZt4j1fPSuhzTM0ua2SsiTIuT/AKS/1optyf8ASX+tFMQ+0P8Ap1amaybQ/wCm1qZoAdmjNNzRmgB2aM03NGaAHZozTc0ZoAdmjNNzRmgB2aM03NGaAHZozTc0ZoAdmjNNzRmgB2aM03NGaAHZozTc0ZoAdmjNNzRmgB2aM03NGaAHZozTc0ZoAdmjNNzRmgB2aM03NGaAHZozTc0ZoAdmjNNzRmgB2aQDFJmjdQByPxMkdPCLGN2QmRQSp7VBpnhbw9LpNrJLcAyPEpYmXqcVJ8Tm/wCKRZTzulUcU3SfAujy6TZTOJy/lqx/ed8VD3EaWo6tZ+FdPgs7NfOmk4hiZuv41UtvFt7bXsMPiKyisY7g4icPnNc/4901o/EOmXMqyfYIxsaReTHSHRfDeoahaQPq82oMzbkUt9w1PMxHX61rWqW16ltpGnrdMy53s+BUGi+LX1FrqynthFqlspJgDZDfjXNatNPceLE07Vb19NsLYYjmU438cc1B4NjtY/iZerZSvPEsZHnN/FxTuwuyXwx4k8Sz69cxNZefG0pDqT/qhXXDxKP+EqGjGHB25Mme/pXO+H9SttJ8W6lFqUgtWlkPl7xjfzUerXI0f4jW2oXYItLgcSgcD3pc2gHWa5r/APY95ZRGPeLmQJ9Ky9e8byaR4gXSILBrq4kUNHtPXNYXinxDZ6p4q0e1sH89VlBaRBlRWnGgk+KsjsuWSEYJHTiquO5rah4nbTNNia5t1GoTcLbFu/1qlbeLr+1vooPEdjFZJN/q3D5zWH4/sNniG21C8D/Y+FZ0/gPrUc2i+HdSu7aBtWm1FmYMilvu0XYanpoYFQVOQeQa8nRNLvPHupR+IbiRVUny1DECvU4o1hiSME4VQBXmFg+j/wDCfaodcdYyGITeODRIWp1Oh6V4cW7M+hyNJcoMgFialsvGMMhvotTj+yXFoTiM/wAY9ql0m98Nw3Bj0u5h8xuSFPNcT4ohuPFuvfa9FhIi0tsztjHm47e9S20M1fEPizWLjwi97ptiYY5H2iUnleetbPhTWNZudHMmsWYiWGHcsoP+twKp6nqcWufDmeXT4SNoCtCByhB9KuaPrNheeE3trW5WWeG2IePuvFO7uIraN46utd1DyLHS2MaMVlkJ4WreoeINbW+kh0vSUmRBkvI+M1B8P18rw9KyIAzOTnHU1zcN0dX1y6PiPVH0wwsRHChxvFDbsB2uh+KbfVNMnuJwIJLXPnpnIXFY3/CdajeCS50bR2ubGI4aUkjP0rl/DVi2o6D4gs9OZ2IkJRm6uM10/hjxVpVn4Zjt7wrZz2wKvARy5oTbC7KPjDxTqz6PZXGkwGGOSQb3PUH+7W2NSvLzwjeXHiPTRGkcefLDf6wetZvjC7TVPCMF/ZwMkK3CsRt5x61oanq9lqvgS8On3KzeXCA4Xqp9KNQ1JLfxHpui+Dra+WLyYpBiGAckn0ql/wAJzqFmkd1q+jtbWMh4lBPArCv7aUeF9C1IQma3t3DSRAZwPWtvxP4r0q+8Ly29mVvJrpQqW4HKmjULs0vE3jODQNLs76OI3EV2wCbfes2Xx1qNi8dxqejNBp8hAWfJzzWRrNjJaaD4ZtLwbm85cqRnb7V1PjsJ/wAIXch1DAbcDHTmmrjudHBOlzbxzRHKSKGU+1SZrJ8OE/8ACNWOeT5QrUB4qhjs0ZpuaSmIfmjNNzRmgY7NGabmjNADs0ZpuaM0AOzRmm5ozQA7NGabmjNADs0ZpuaM0AOzRmm5ozQA7NGabmjNADs0ZpuaM0AOzRmm5ozQA7NGabmjNADs0ZpuaM0AOzRmm5ozQA7NGabmjNADs0ZpuaM0AOzTZP8AVtj0ozTZD+7b6cUgK2mCdbdvtR+bccfSruaoaZLNLbFrldrbiAD6VdzQtgHZozTc0ZpgOzRTc0ZoAdRn2puaM0AOz7UmaTNFAC5ozSUUALmsfxRry+H9Ge6275CQsaepNa/Fcp8QLC4u9CWa0TzXt5A5THUUmBQsPDOuaxAt/qmsy27zjesUY+4D071cOn6rpPhfUo9SvzdKFJifuBV/QvFOl3+lQkXccciRhZI3OCpA5pmq6zY6r4b1IWFys3lRkPtqbIRW8PatHpXgOG9ut8gBPTksc0628eWst3HDd2s1osx2xySDg1gvrM+i/DOxktYld7iTYGcfLHk9TWV4rivk0vT5b/V7W73TqUiixkVPM0K56Brfiqz0SeO2KPcXUgysUYycetJpfi201KKdpYJbTyBlxKMVh6no8U2sWeo6bqcFrqawDKzn7wxUNlrcmr3t/wCHtdaFgY+buDG0fjT52FzQX4iWkky+Vp9zJAW2iZVyPrU+ptZSeK7GWSRxOY9yRdmFc293qHhHw+stjqNjf6fFMF8rALHJq/eXgvvHPh+62FPOi3bT2pczC5h6vq76143MF7DJ9nt3AWEZ5966rTI9Pj8ZeXDJJ9p8rd5Z6AYqtZBT8ULslV+56VEA7fFDUVi4la1/dn3209dwua2qeO7Gxvns7WGS8ni/1gjGQtXdP8U2Oo6XLexCQLCP3iFeQa5nwBeafaR6jBfNHDfrKxl80gFhk+tamteI7Oy0G4udDSGVz8rFFG0H1NO7sAsXj61M6/arOaC3dtqTMODVLxv4tu9IurGLTVYrKdxcdHHpXN66uozeDY7u91i0kjlIIgTGR7CtbxE4Xwt4dmkGQjLucjoOKnmkwNy61aHWvB0lzqEUtpGCA3rV+HVtO0Xwtb3U0xFttAQnq1UfFl3b3PgqVraWOVWUY2EEVzeu4j03wxcXSlrCMjzQRkfjVXYHQ23xBsZLhVureW2ikOI5XHDVo654qsfDywNeFmS45Rl71keNNT0WbwjLGskEzyqBbJHgkN2xjpWFqFpI0fha01Rd7gZZW9KG2Fzo7f4g2T3scN3byW6TECKRxw1daCGUEcgjINch8QLWA+G0by1BhcbMD7v0rf0SQvodmzHJMQqk9bFGjRmm5opgOoptFADqT8aSjigB1JnmkpM80AZVyf8ASX+tFJcn/SX+tFAC2h/06tTNFFABmjNFFABmjNFFABmjNFFABmjNFFABmjNFFABmjNFFABmjNFFABmjNFFABmjNFFABmjNFFABmjNFFABmjNFFABmjNFFABmjNFFABmjNFFABmjNFFABSA84oooQEN3ZwXsXl3USyoDnawzUqKsaKiKFVRgAdqKKQDZ7eG6haG4jWWNuqsMiqVp4f0qxm820sIYn/vKtFFMCS/0fT9TZTf2kc5X7pYcinW2lWNlJvtbWOJumVXBoopWQDLzRdO1C4Se8tI5ZU+67DkVJdadZ3sAhuraOWMDADDOKKKm2gEFvoGlWm37PYwoUOVIXoatfYrcXZuhEonIx5mOcUUU7AOnt4bqJormNZY26q4yKo2nh/SdPn860sYY5P7wWiimBp571mXPh3SbyZprmxikkbqxXk0UUAJB4c0i1k3wWMSN6gc1dt7K2tI3S2hSNXOWCjrRRRYBsFha2ocW8CIJfvgDg1DaaHptjNLLaWccTzDDlR96iimBZgtobSPy7aNY1JzhRVS60DS767W5u7KKWZejsOaKKALFpp9pY7jaW8cO772wYzVa48O6TdXX2i4sIXl/vFaKKQF02sDWv2cwp5OMbMcVVttE02zglhtbOOKOb/WKo4aiigCylrBHbfZkhUQ4xsxxiqdt4e0m0uPPt7GFJM5DBelFFAFyezt7oobiFZDGcpuGdppZ7eK7hMVxGskZ6qw4NFFMB0cSQxrHEoRF4CjtT6KKADNGaKKADNGaKKADNGaKKADNGaKKADNGaKKADNGaKKADNGaKKADNGaKKADNGaKKADNGaKKADNGaKKADNGaKKADNGaKKADNGaKKADNGaKKADNGaKKADNI5+Q+wzRRQBW0+5a6hLuACGxxVrNFFABmjNFFABmjNFFABmjNFFABmiiigAooooAKCMjB5B6g96KKAOeuvBOi3Nw0/2fync5bYcA1etfD2mWVjJaWtsscUow+OrfWiilZAPbQ7CTSf7NkgVrX+4azIvAmgxAYtSxVtylmziiiiyAt6l4X0vVmR7qE+ZGu1XU4IFLZeGNLsLeSG3thiUYcnkt+NFFKysBTj8C6HHMHW3bAOdhbjNar6RZyX0N40K+dbjEZH8Ioop2QCrpVpHqL6gsWLhx8zetINJtE1VtTWPF0y7S/tRRSAp6j4T0nVLj7RPbhZj1dOCfrVi28P6baWD2UNqggkHzqf4qKKLIDNXwFoAyDalgTnDOSBWtNpFlc6aLCeFXt1GAp7UUUWQFS18MadZ6e1jHGTA5yVY5q7JpdnLpy2EsCvbAYCEdKKKLAZlr4L0W0ufOS23MDlQ5yBWjd6VaXtzDc3EYaWD/Vn0oop2AkvbC31O18m8jEkZOcVNBDHbwpDEu1IxhR6CiimBJRRRQAUUUUAFFFFABRnmiigDIuT/pL/AFooooA//9k=)"
      ],
      "metadata": {
        "id": "fVtSWUUdStw4"
      }
    },
    {
      "cell_type": "code",
      "source": [
        "# here 32 is the number of filter (train and error) and Kernel_size is filter size 3X3\n",
        "cnn = keras.Sequential([\n",
        "    keras.layers.Conv2D(filters=32, kernel_size=(3, 3), activation='relu', input_shape=(32, 32, 3)),\n",
        "    keras.layers.MaxPooling2D((2, 2)),\n",
        "    \n",
        "    keras.layers.Conv2D(filters=64, kernel_size=(3, 3), activation='relu'),\n",
        "    keras.layers.MaxPooling2D((2, 2)),\n",
        "    \n",
        "    keras.layers.Flatten(),\n",
        "    keras.layers.Dense(64, activation='relu'),\n",
        "    keras.layers.Dense(10, activation='softmax')\n",
        "])\n",
        "\n",
        "cnn.compile(optimizer='SGD',\n",
        "              loss='categorical_crossentropy',\n",
        "              metrics=['accuracy'])\n",
        "cnn.fit(X_train_scaled, y_train_categorical, epochs=50)"
      ],
      "metadata": {
        "colab": {
          "base_uri": "https://localhost:8080/"
        },
        "id": "Fgt140FCTGZS",
        "outputId": "df3a4536-b708-4387-bb30-c4b25825d45f"
      },
      "execution_count": 19,
      "outputs": [
        {
          "output_type": "stream",
          "name": "stdout",
          "text": [
            "Epoch 1/50\n",
            "1563/1563 [==============================] - 19s 4ms/step - loss: 2.0215 - accuracy: 0.2578\n",
            "Epoch 2/50\n",
            "1563/1563 [==============================] - 6s 4ms/step - loss: 1.6301 - accuracy: 0.4155\n",
            "Epoch 3/50\n",
            "1563/1563 [==============================] - 6s 4ms/step - loss: 1.4343 - accuracy: 0.4892\n",
            "Epoch 4/50\n",
            "1563/1563 [==============================] - 6s 4ms/step - loss: 1.3311 - accuracy: 0.5320\n",
            "Epoch 5/50\n",
            "1563/1563 [==============================] - 6s 4ms/step - loss: 1.2502 - accuracy: 0.5616\n",
            "Epoch 6/50\n",
            "1563/1563 [==============================] - 6s 4ms/step - loss: 1.1798 - accuracy: 0.5860\n",
            "Epoch 7/50\n",
            "1563/1563 [==============================] - 6s 4ms/step - loss: 1.1196 - accuracy: 0.6098\n",
            "Epoch 8/50\n",
            "1563/1563 [==============================] - 6s 4ms/step - loss: 1.0678 - accuracy: 0.6283\n",
            "Epoch 9/50\n",
            "1563/1563 [==============================] - 6s 4ms/step - loss: 1.0224 - accuracy: 0.6421\n",
            "Epoch 10/50\n",
            "1563/1563 [==============================] - 6s 4ms/step - loss: 0.9826 - accuracy: 0.6602\n",
            "Epoch 11/50\n",
            "1563/1563 [==============================] - 6s 4ms/step - loss: 0.9422 - accuracy: 0.6741\n",
            "Epoch 12/50\n",
            "1563/1563 [==============================] - 6s 4ms/step - loss: 0.9061 - accuracy: 0.6872\n",
            "Epoch 13/50\n",
            "1563/1563 [==============================] - 6s 4ms/step - loss: 0.8752 - accuracy: 0.6970\n",
            "Epoch 14/50\n",
            "1563/1563 [==============================] - 6s 4ms/step - loss: 0.8445 - accuracy: 0.7064\n",
            "Epoch 15/50\n",
            "1563/1563 [==============================] - 6s 4ms/step - loss: 0.8123 - accuracy: 0.7197\n",
            "Epoch 16/50\n",
            "1563/1563 [==============================] - 6s 4ms/step - loss: 0.7836 - accuracy: 0.7292\n",
            "Epoch 17/50\n",
            "1563/1563 [==============================] - 6s 4ms/step - loss: 0.7558 - accuracy: 0.7421\n",
            "Epoch 18/50\n",
            "1563/1563 [==============================] - 6s 4ms/step - loss: 0.7297 - accuracy: 0.7481\n",
            "Epoch 19/50\n",
            "1563/1563 [==============================] - 6s 4ms/step - loss: 0.7020 - accuracy: 0.7584\n",
            "Epoch 20/50\n",
            "1563/1563 [==============================] - 6s 4ms/step - loss: 0.6780 - accuracy: 0.7662\n",
            "Epoch 21/50\n",
            "1563/1563 [==============================] - 6s 4ms/step - loss: 0.6543 - accuracy: 0.7736\n",
            "Epoch 22/50\n",
            "1563/1563 [==============================] - 6s 4ms/step - loss: 0.6296 - accuracy: 0.7836\n",
            "Epoch 23/50\n",
            "1563/1563 [==============================] - 6s 4ms/step - loss: 0.6052 - accuracy: 0.7919\n",
            "Epoch 24/50\n",
            "1563/1563 [==============================] - 6s 4ms/step - loss: 0.5821 - accuracy: 0.7991\n",
            "Epoch 25/50\n",
            "1563/1563 [==============================] - 6s 4ms/step - loss: 0.5577 - accuracy: 0.8077\n",
            "Epoch 26/50\n",
            "1563/1563 [==============================] - 6s 4ms/step - loss: 0.5350 - accuracy: 0.8169\n",
            "Epoch 27/50\n",
            "1563/1563 [==============================] - 6s 4ms/step - loss: 0.5149 - accuracy: 0.8244\n",
            "Epoch 28/50\n",
            "1563/1563 [==============================] - 6s 4ms/step - loss: 0.4914 - accuracy: 0.8315\n",
            "Epoch 29/50\n",
            "1563/1563 [==============================] - 6s 4ms/step - loss: 0.4688 - accuracy: 0.8392\n",
            "Epoch 30/50\n",
            "1563/1563 [==============================] - 6s 4ms/step - loss: 0.4500 - accuracy: 0.8443\n",
            "Epoch 31/50\n",
            "1563/1563 [==============================] - 6s 4ms/step - loss: 0.4281 - accuracy: 0.8534\n",
            "Epoch 32/50\n",
            "1563/1563 [==============================] - 6s 4ms/step - loss: 0.4090 - accuracy: 0.8603\n",
            "Epoch 33/50\n",
            "1563/1563 [==============================] - 6s 4ms/step - loss: 0.3862 - accuracy: 0.8673\n",
            "Epoch 34/50\n",
            "1563/1563 [==============================] - 6s 4ms/step - loss: 0.3694 - accuracy: 0.8736\n",
            "Epoch 35/50\n",
            "1563/1563 [==============================] - 6s 4ms/step - loss: 0.3489 - accuracy: 0.8804\n",
            "Epoch 36/50\n",
            "1563/1563 [==============================] - 6s 4ms/step - loss: 0.3305 - accuracy: 0.8878\n",
            "Epoch 37/50\n",
            "1563/1563 [==============================] - 6s 4ms/step - loss: 0.3123 - accuracy: 0.8931\n",
            "Epoch 38/50\n",
            "1563/1563 [==============================] - 6s 4ms/step - loss: 0.2928 - accuracy: 0.9016\n",
            "Epoch 39/50\n",
            "1563/1563 [==============================] - 6s 4ms/step - loss: 0.2775 - accuracy: 0.9057\n",
            "Epoch 40/50\n",
            "1563/1563 [==============================] - 6s 4ms/step - loss: 0.2627 - accuracy: 0.9111\n",
            "Epoch 41/50\n",
            "1563/1563 [==============================] - 6s 4ms/step - loss: 0.2429 - accuracy: 0.9186\n",
            "Epoch 42/50\n",
            "1563/1563 [==============================] - 6s 4ms/step - loss: 0.2281 - accuracy: 0.9237\n",
            "Epoch 43/50\n",
            "1563/1563 [==============================] - 6s 4ms/step - loss: 0.2113 - accuracy: 0.9300\n",
            "Epoch 44/50\n",
            "1563/1563 [==============================] - 6s 4ms/step - loss: 0.1943 - accuracy: 0.9361\n",
            "Epoch 45/50\n",
            "1563/1563 [==============================] - 6s 4ms/step - loss: 0.1784 - accuracy: 0.9412\n",
            "Epoch 46/50\n",
            "1563/1563 [==============================] - 6s 4ms/step - loss: 0.1666 - accuracy: 0.9463\n",
            "Epoch 47/50\n",
            "1563/1563 [==============================] - 6s 4ms/step - loss: 0.1580 - accuracy: 0.9490\n",
            "Epoch 48/50\n",
            "1563/1563 [==============================] - 6s 4ms/step - loss: 0.1415 - accuracy: 0.9555\n",
            "Epoch 49/50\n",
            "1563/1563 [==============================] - 6s 4ms/step - loss: 0.1256 - accuracy: 0.9617\n",
            "Epoch 50/50\n",
            "1563/1563 [==============================] - 6s 4ms/step - loss: 0.1144 - accuracy: 0.9660\n"
          ]
        },
        {
          "output_type": "execute_result",
          "data": {
            "text/plain": [
              "<keras.callbacks.History at 0x7f67d6435250>"
            ]
          },
          "metadata": {},
          "execution_count": 19
        }
      ]
    },
    {
      "cell_type": "code",
      "source": [
        "cnn.evaluate(X_test_scaled,y_test_categorical)"
      ],
      "metadata": {
        "colab": {
          "base_uri": "https://localhost:8080/"
        },
        "id": "3LJJ1lFCgQFs",
        "outputId": "be71f5ee-4130-455d-c067-f7e150908de3"
      },
      "execution_count": 20,
      "outputs": [
        {
          "output_type": "stream",
          "name": "stdout",
          "text": [
            "313/313 [==============================] - 1s 3ms/step - loss: 2.0300 - accuracy: 0.6511\n"
          ]
        },
        {
          "output_type": "execute_result",
          "data": {
            "text/plain": [
              "[2.0300168991088867, 0.6510999798774719]"
            ]
          },
          "metadata": {},
          "execution_count": 20
        }
      ]
    },
    {
      "cell_type": "code",
      "source": [
        "y_pred = cnn.predict(X_test_scaled)\n",
        "y_pred[:5]"
      ],
      "metadata": {
        "colab": {
          "base_uri": "https://localhost:8080/"
        },
        "id": "mgEED9UkgsCo",
        "outputId": "d269ab5b-9091-4ff9-dfdc-d2ce71cd943b"
      },
      "execution_count": 21,
      "outputs": [
        {
          "output_type": "execute_result",
          "data": {
            "text/plain": [
              "array([[1.9572440e-07, 8.0900328e-08, 5.6321657e-08, 9.9899310e-01,\n",
              "        1.9750232e-07, 2.0095586e-05, 9.8241062e-04, 7.5331052e-12,\n",
              "        3.9606275e-06, 4.1667397e-10],\n",
              "       [1.6554337e-02, 3.1288441e-02, 6.9674114e-11, 1.9472844e-13,\n",
              "        9.0244821e-15, 6.6131361e-16, 2.3484388e-13, 6.4744840e-13,\n",
              "        9.5215720e-01, 2.8727571e-08],\n",
              "       [1.9008834e-02, 1.8113644e-05, 7.9902208e-08, 3.8373926e-08,\n",
              "        1.0835932e-07, 3.2855060e-10, 2.4673533e-13, 1.0073721e-08,\n",
              "        9.8097265e-01, 2.5711284e-07],\n",
              "       [9.9767405e-01, 2.1221686e-06, 1.6329448e-08, 4.7194335e-04,\n",
              "        9.2329770e-09, 1.4652117e-12, 2.2718095e-06, 5.2014877e-12,\n",
              "        1.8491880e-03, 4.9292163e-07],\n",
              "       [4.2663723e-16, 1.0078657e-10, 4.0780606e-07, 4.7865533e-06,\n",
              "        9.7215921e-01, 1.3823552e-07, 2.7835526e-02, 1.7872707e-14,\n",
              "        3.8429045e-11, 8.7642038e-12]], dtype=float32)"
            ]
          },
          "metadata": {},
          "execution_count": 21
        }
      ]
    },
    {
      "cell_type": "code",
      "source": [
        "y_classes = [np.argmax(element) for element in y_pred]\n",
        "y_classes[:5]"
      ],
      "metadata": {
        "colab": {
          "base_uri": "https://localhost:8080/"
        },
        "id": "7WVfomfQhFKo",
        "outputId": "638a0bd5-44b4-4467-a532-d26fe849a6d8"
      },
      "execution_count": 22,
      "outputs": [
        {
          "output_type": "execute_result",
          "data": {
            "text/plain": [
              "[3, 8, 8, 0, 4]"
            ]
          },
          "metadata": {},
          "execution_count": 22
        }
      ]
    },
    {
      "cell_type": "code",
      "source": [
        "y_test=y_test.reshape(-1,)"
      ],
      "metadata": {
        "id": "DfSGIGNao0_h"
      },
      "execution_count": 23,
      "outputs": []
    },
    {
      "cell_type": "code",
      "source": [
        "y_test[:5]"
      ],
      "metadata": {
        "colab": {
          "base_uri": "https://localhost:8080/"
        },
        "id": "9zWd05MLqlzO",
        "outputId": "a4a5797b-ea34-408d-ce85-128c7826cb59"
      },
      "execution_count": 24,
      "outputs": [
        {
          "output_type": "execute_result",
          "data": {
            "text/plain": [
              "array([3, 8, 8, 0, 6], dtype=uint8)"
            ]
          },
          "metadata": {},
          "execution_count": 24
        }
      ]
    },
    {
      "cell_type": "code",
      "source": [
        "def plot_sample(x,y,index):\n",
        "    plt.figure(figsize = (15,2))\n",
        "    plt.imshow(X_test[index])\n",
        "    plt.xlabel(classes[y[index]]), \n"
      ],
      "metadata": {
        "id": "ofhKgRCNhQRt"
      },
      "execution_count": 25,
      "outputs": []
    },
    {
      "cell_type": "code",
      "source": [
        "plot_sample(X_test, y_test,4)"
      ],
      "metadata": {
        "colab": {
          "base_uri": "https://localhost:8080/",
          "height": 173
        },
        "id": "fupug7ykhIsf",
        "outputId": "8d33fe9c-2710-4725-cab3-a56ce80ca76d"
      },
      "execution_count": 26,
      "outputs": [
        {
          "output_type": "display_data",
          "data": {
            "text/plain": [
              "<Figure size 1080x144 with 1 Axes>"
            ],
            "image/png": "[encoded data removed]"
          },
          "metadata": {
            "needs_background": "light"
          }
        }
      ]
    },
    {
      "cell_type": "code",
      "source": [
        "classes[y_classes[2]]"
      ],
      "metadata": {
        "colab": {
          "base_uri": "https://localhost:8080/",
          "height": 35
        },
        "id": "VZhk6AX5qT7i",
        "outputId": "79d65906-195d-4512-bb35-4ddad28b225b"
      },
      "execution_count": 27,
      "outputs": [
        {
          "output_type": "execute_result",
          "data": {
            "text/plain": [
              "'ship'"
            ],
            "application/vnd.google.colaboratory.intrinsic+json": {
              "type": "string"
            }
          },
          "metadata": {},
          "execution_count": 27
        }
      ]
    },
    {
      "cell_type": "code",
      "source": [
        "#Improve Test Accuracy Using Data Augmentation, Since the model training is 96% and perdition is 66% model tends to over fit.\n",
        "data_augmentation = keras.Sequential(\n",
        "  [\n",
        "    keras.layers.experimental.preprocessing.RandomFlip(\"horizontal\", \n",
        "                                                 input_shape=(32, \n",
        "                                                              32,\n",
        "                                                              3)),\n",
        "    keras.layers.experimental.preprocessing.RandomRotation(0.1),\n",
        "    keras.layers.experimental.preprocessing.RandomZoom(0.1),\n",
        "  ]\n",
        ")\n",
        "\n"
      ],
      "metadata": {
        "id": "6qX3kXq1X-sQ"
      },
      "execution_count": 28,
      "outputs": []
    },
    {
      "cell_type": "code",
      "source": [
        "plt.axis('off')\n",
        "#plt.figure(figsize = (15,2))\n",
        "plt.imshow(data_augmentation(X_test)[0].numpy().astype(\"uint8\"))"
      ],
      "metadata": {
        "id": "kGBtPowcveQ5",
        "outputId": "2a455474-2b63-4639-fe1f-8aa4a2627bce",
        "colab": {
          "base_uri": "https://localhost:8080/",
          "height": 265
        }
      },
      "execution_count": 31,
      "outputs": [
        {
          "output_type": "execute_result",
          "data": {
            "text/plain": [
              "<matplotlib.image.AxesImage at 0x7f96585b9ad0>"
            ]
          },
          "metadata": {},
          "execution_count": 31
        },
        {
          "output_type": "display_data",
          "data": {
            "text/plain": [
              "<Figure size 432x288 with 1 Axes>"
            ],
            "image/png": "[encoded data removed]"
          },
          "metadata": {
            "needs_background": "light"
          }
        }
      ]
    },
    {
      "cell_type": "code",
      "source": [
        "cnn = keras.Sequential([\n",
        "    data_augmentation,\n",
        "    keras.layers.Conv2D(filters=32, kernel_size=(3, 3), activation='relu', input_shape=(32, 32, 3)),\n",
        "    keras.layers.MaxPooling2D((2, 2)),\n",
        "    \n",
        "    keras.layers.Conv2D(filters=64, kernel_size=(3, 3), activation='relu'),\n",
        "    keras.layers.MaxPooling2D((2, 2)),\n",
        "    keras.layers.Dropout(0.2),\n",
        "    keras.layers.Flatten(),\n",
        "    keras.layers.Dense(64, activation='relu'),\n",
        "    keras.layers.Dense(10, activation='softmax')\n",
        "])\n",
        "\n",
        "cnn.compile(optimizer='SGD',\n",
        "              loss='categorical_crossentropy',\n",
        "              metrics=['accuracy'])\n",
        "cnn.fit(X_train_scaled, y_train_categorical, epochs=500,batch_size=50)"
      ],
      "metadata": {
        "colab": {
          "base_uri": "https://localhost:8080/"
        },
        "id": "2irWK9OnYoHz",
        "outputId": "2fb40654-5fec-4b35-d4ac-54471d4be853"
      },
      "execution_count": 19,
      "outputs": [
        {
          "output_type": "stream",
          "name": "stdout",
          "text": [
            "Epoch 1/500\n",
            "1000/1000 [==============================] - 5s 5ms/step - loss: 2.1869 - accuracy: 0.1888\n",
            "Epoch 2/500\n",
            "1000/1000 [==============================] - 4s 4ms/step - loss: 1.9060 - accuracy: 0.3137\n",
            "Epoch 3/500\n",
            "1000/1000 [==============================] - 4s 4ms/step - loss: 1.7097 - accuracy: 0.3876\n",
            "Epoch 4/500\n",
            "1000/1000 [==============================] - 4s 4ms/step - loss: 1.5991 - accuracy: 0.4259\n",
            "Epoch 5/500\n",
            "1000/1000 [==============================] - 4s 4ms/step - loss: 1.5378 - accuracy: 0.4488\n",
            "Epoch 6/500\n",
            "1000/1000 [==============================] - 4s 4ms/step - loss: 1.4953 - accuracy: 0.4619\n",
            "Epoch 7/500\n",
            "1000/1000 [==============================] - 4s 4ms/step - loss: 1.4622 - accuracy: 0.4781\n",
            "Epoch 8/500\n",
            "1000/1000 [==============================] - 4s 4ms/step - loss: 1.4341 - accuracy: 0.4900\n",
            "Epoch 9/500\n",
            "1000/1000 [==============================] - 4s 4ms/step - loss: 1.4030 - accuracy: 0.5040\n",
            "Epoch 10/500\n",
            "1000/1000 [==============================] - 5s 5ms/step - loss: 1.3766 - accuracy: 0.5116\n",
            "Epoch 11/500\n",
            "1000/1000 [==============================] - 4s 4ms/step - loss: 1.3488 - accuracy: 0.5213\n",
            "Epoch 12/500\n",
            "1000/1000 [==============================] - 4s 4ms/step - loss: 1.3274 - accuracy: 0.5298\n",
            "Epoch 13/500\n",
            "1000/1000 [==============================] - 4s 4ms/step - loss: 1.3052 - accuracy: 0.5384\n",
            "Epoch 14/500\n",
            "1000/1000 [==============================] - 4s 4ms/step - loss: 1.2883 - accuracy: 0.5443\n",
            "Epoch 15/500\n",
            "1000/1000 [==============================] - 4s 4ms/step - loss: 1.2648 - accuracy: 0.5540\n",
            "Epoch 16/500\n",
            "1000/1000 [==============================] - 4s 4ms/step - loss: 1.2459 - accuracy: 0.5606\n",
            "Epoch 17/500\n",
            "1000/1000 [==============================] - 4s 4ms/step - loss: 1.2292 - accuracy: 0.5648\n",
            "Epoch 18/500\n",
            "1000/1000 [==============================] - 4s 4ms/step - loss: 1.2166 - accuracy: 0.5735\n",
            "Epoch 19/500\n",
            "1000/1000 [==============================] - 4s 4ms/step - loss: 1.1987 - accuracy: 0.5756\n",
            "Epoch 20/500\n",
            "1000/1000 [==============================] - 4s 4ms/step - loss: 1.1873 - accuracy: 0.5804\n",
            "Epoch 21/500\n",
            "1000/1000 [==============================] - 4s 4ms/step - loss: 1.1768 - accuracy: 0.5881\n",
            "Epoch 22/500\n",
            "1000/1000 [==============================] - 4s 4ms/step - loss: 1.1619 - accuracy: 0.5906\n",
            "Epoch 23/500\n",
            "1000/1000 [==============================] - 4s 4ms/step - loss: 1.1534 - accuracy: 0.5959\n",
            "Epoch 24/500\n",
            "1000/1000 [==============================] - 4s 4ms/step - loss: 1.1434 - accuracy: 0.5973\n",
            "Epoch 25/500\n",
            "1000/1000 [==============================] - 4s 4ms/step - loss: 1.1311 - accuracy: 0.6025\n",
            "Epoch 26/500\n",
            "1000/1000 [==============================] - 4s 4ms/step - loss: 1.1212 - accuracy: 0.6060\n",
            "Epoch 27/500\n",
            "1000/1000 [==============================] - 4s 4ms/step - loss: 1.1085 - accuracy: 0.6132\n",
            "Epoch 28/500\n",
            "1000/1000 [==============================] - 4s 4ms/step - loss: 1.1034 - accuracy: 0.6134\n",
            "Epoch 29/500\n",
            "1000/1000 [==============================] - 5s 5ms/step - loss: 1.0956 - accuracy: 0.6171\n",
            "Epoch 30/500\n",
            "1000/1000 [==============================] - 4s 4ms/step - loss: 1.0839 - accuracy: 0.6210\n",
            "Epoch 31/500\n",
            "1000/1000 [==============================] - 4s 4ms/step - loss: 1.0817 - accuracy: 0.6214\n",
            "Epoch 32/500\n",
            "1000/1000 [==============================] - 4s 4ms/step - loss: 1.0734 - accuracy: 0.6232\n",
            "Epoch 33/500\n",
            "1000/1000 [==============================] - 4s 4ms/step - loss: 1.0678 - accuracy: 0.6284\n",
            "Epoch 34/500\n",
            "1000/1000 [==============================] - 4s 4ms/step - loss: 1.0575 - accuracy: 0.6308\n",
            "Epoch 35/500\n",
            "1000/1000 [==============================] - 5s 5ms/step - loss: 1.0540 - accuracy: 0.6315\n",
            "Epoch 36/500\n",
            "1000/1000 [==============================] - 5s 5ms/step - loss: 1.0459 - accuracy: 0.6355\n",
            "Epoch 37/500\n",
            "1000/1000 [==============================] - 5s 5ms/step - loss: 1.0395 - accuracy: 0.6382\n",
            "Epoch 38/500\n",
            "1000/1000 [==============================] - 5s 5ms/step - loss: 1.0329 - accuracy: 0.6389\n",
            "Epoch 39/500\n",
            "1000/1000 [==============================] - 5s 5ms/step - loss: 1.0233 - accuracy: 0.6399\n",
            "Epoch 40/500\n",
            "1000/1000 [==============================] - 5s 5ms/step - loss: 1.0227 - accuracy: 0.6413\n",
            "Epoch 41/500\n",
            "1000/1000 [==============================] - 5s 5ms/step - loss: 1.0217 - accuracy: 0.6444\n",
            "Epoch 42/500\n",
            "1000/1000 [==============================] - 5s 5ms/step - loss: 1.0086 - accuracy: 0.6502\n",
            "Epoch 43/500\n",
            "1000/1000 [==============================] - 5s 5ms/step - loss: 1.0071 - accuracy: 0.6480\n",
            "Epoch 44/500\n",
            "1000/1000 [==============================] - 4s 4ms/step - loss: 0.9981 - accuracy: 0.6541\n",
            "Epoch 45/500\n",
            "1000/1000 [==============================] - 4s 4ms/step - loss: 0.9972 - accuracy: 0.6511\n",
            "Epoch 46/500\n",
            "1000/1000 [==============================] - 5s 5ms/step - loss: 0.9920 - accuracy: 0.6533\n",
            "Epoch 47/500\n",
            "1000/1000 [==============================] - 5s 5ms/step - loss: 0.9876 - accuracy: 0.6554\n",
            "Epoch 48/500\n",
            "1000/1000 [==============================] - 4s 4ms/step - loss: 0.9802 - accuracy: 0.6588\n",
            "Epoch 49/500\n",
            "1000/1000 [==============================] - 5s 5ms/step - loss: 0.9851 - accuracy: 0.6566\n",
            "Epoch 50/500\n",
            "1000/1000 [==============================] - 4s 4ms/step - loss: 0.9712 - accuracy: 0.6612\n",
            "Epoch 51/500\n",
            "1000/1000 [==============================] - 4s 4ms/step - loss: 0.9717 - accuracy: 0.6604\n",
            "Epoch 52/500\n",
            "1000/1000 [==============================] - 4s 4ms/step - loss: 0.9649 - accuracy: 0.6652\n",
            "Epoch 53/500\n",
            "1000/1000 [==============================] - 4s 4ms/step - loss: 0.9604 - accuracy: 0.6646\n",
            "Epoch 54/500\n",
            "1000/1000 [==============================] - 4s 4ms/step - loss: 0.9610 - accuracy: 0.6659\n",
            "Epoch 55/500\n",
            "1000/1000 [==============================] - 4s 4ms/step - loss: 0.9548 - accuracy: 0.6680\n",
            "Epoch 56/500\n",
            "1000/1000 [==============================] - 5s 5ms/step - loss: 0.9451 - accuracy: 0.6680\n",
            "Epoch 57/500\n",
            "1000/1000 [==============================] - 5s 5ms/step - loss: 0.9511 - accuracy: 0.6686\n",
            "Epoch 58/500\n",
            "1000/1000 [==============================] - 5s 5ms/step - loss: 0.9460 - accuracy: 0.6716\n",
            "Epoch 59/500\n",
            "1000/1000 [==============================] - 5s 5ms/step - loss: 0.9457 - accuracy: 0.6710\n",
            "Epoch 60/500\n",
            "1000/1000 [==============================] - 5s 5ms/step - loss: 0.9379 - accuracy: 0.6732\n",
            "Epoch 61/500\n",
            "1000/1000 [==============================] - 5s 5ms/step - loss: 0.9314 - accuracy: 0.6766\n",
            "Epoch 62/500\n",
            "1000/1000 [==============================] - 5s 5ms/step - loss: 0.9292 - accuracy: 0.6743\n",
            "Epoch 63/500\n",
            "1000/1000 [==============================] - 5s 5ms/step - loss: 0.9303 - accuracy: 0.6753\n",
            "Epoch 64/500\n",
            "1000/1000 [==============================] - 5s 5ms/step - loss: 0.9242 - accuracy: 0.6775\n",
            "Epoch 65/500\n",
            "1000/1000 [==============================] - 4s 4ms/step - loss: 0.9261 - accuracy: 0.6757\n",
            "Epoch 66/500\n",
            "1000/1000 [==============================] - 4s 4ms/step - loss: 0.9189 - accuracy: 0.6791\n",
            "Epoch 67/500\n",
            "1000/1000 [==============================] - 4s 4ms/step - loss: 0.9131 - accuracy: 0.6823\n",
            "Epoch 68/500\n",
            "1000/1000 [==============================] - 5s 5ms/step - loss: 0.9060 - accuracy: 0.6814\n",
            "Epoch 69/500\n",
            "1000/1000 [==============================] - 5s 4ms/step - loss: 0.9049 - accuracy: 0.6846\n",
            "Epoch 70/500\n",
            "1000/1000 [==============================] - 5s 5ms/step - loss: 0.9043 - accuracy: 0.6847\n",
            "Epoch 71/500\n",
            "1000/1000 [==============================] - 5s 5ms/step - loss: 0.8978 - accuracy: 0.6867\n",
            "Epoch 72/500\n",
            "1000/1000 [==============================] - 5s 4ms/step - loss: 0.8990 - accuracy: 0.6848\n",
            "Epoch 73/500\n",
            "1000/1000 [==============================] - 4s 4ms/step - loss: 0.8978 - accuracy: 0.6875\n",
            "Epoch 74/500\n",
            "1000/1000 [==============================] - 5s 5ms/step - loss: 0.8956 - accuracy: 0.6874\n",
            "Epoch 75/500\n",
            "1000/1000 [==============================] - 5s 5ms/step - loss: 0.8866 - accuracy: 0.6900\n",
            "Epoch 76/500\n",
            "1000/1000 [==============================] - 4s 4ms/step - loss: 0.8865 - accuracy: 0.6912\n",
            "Epoch 77/500\n",
            "1000/1000 [==============================] - 4s 4ms/step - loss: 0.8801 - accuracy: 0.6936\n",
            "Epoch 78/500\n",
            "1000/1000 [==============================] - 4s 4ms/step - loss: 0.8819 - accuracy: 0.6911\n",
            "Epoch 79/500\n",
            "1000/1000 [==============================] - 4s 4ms/step - loss: 0.8783 - accuracy: 0.6941\n",
            "Epoch 80/500\n",
            "1000/1000 [==============================] - 4s 4ms/step - loss: 0.8760 - accuracy: 0.6966\n",
            "Epoch 81/500\n",
            "1000/1000 [==============================] - 4s 4ms/step - loss: 0.8764 - accuracy: 0.6954\n",
            "Epoch 82/500\n",
            "1000/1000 [==============================] - 4s 4ms/step - loss: 0.8679 - accuracy: 0.6982\n",
            "Epoch 83/500\n",
            "1000/1000 [==============================] - 4s 4ms/step - loss: 0.8664 - accuracy: 0.6972\n",
            "Epoch 84/500\n",
            "1000/1000 [==============================] - 4s 4ms/step - loss: 0.8648 - accuracy: 0.6970\n",
            "Epoch 85/500\n",
            "1000/1000 [==============================] - 4s 4ms/step - loss: 0.8600 - accuracy: 0.6987\n",
            "Epoch 86/500\n",
            "1000/1000 [==============================] - 5s 5ms/step - loss: 0.8639 - accuracy: 0.6992\n",
            "Epoch 87/500\n",
            "1000/1000 [==============================] - 5s 5ms/step - loss: 0.8611 - accuracy: 0.7007\n",
            "Epoch 88/500\n",
            "1000/1000 [==============================] - 4s 4ms/step - loss: 0.8532 - accuracy: 0.7024\n",
            "Epoch 89/500\n",
            "1000/1000 [==============================] - 5s 5ms/step - loss: 0.8532 - accuracy: 0.7021\n",
            "Epoch 90/500\n",
            "1000/1000 [==============================] - 5s 5ms/step - loss: 0.8480 - accuracy: 0.7034\n",
            "Epoch 91/500\n",
            "1000/1000 [==============================] - 4s 4ms/step - loss: 0.8516 - accuracy: 0.7024\n",
            "Epoch 92/500\n",
            "1000/1000 [==============================] - 4s 4ms/step - loss: 0.8475 - accuracy: 0.7052\n",
            "Epoch 93/500\n",
            "1000/1000 [==============================] - 4s 4ms/step - loss: 0.8454 - accuracy: 0.7049\n",
            "Epoch 94/500\n",
            "1000/1000 [==============================] - 4s 4ms/step - loss: 0.8427 - accuracy: 0.7056\n",
            "Epoch 95/500\n",
            "1000/1000 [==============================] - 4s 4ms/step - loss: 0.8416 - accuracy: 0.7080\n",
            "Epoch 96/500\n",
            "1000/1000 [==============================] - 5s 5ms/step - loss: 0.8327 - accuracy: 0.7104\n",
            "Epoch 97/500\n",
            "1000/1000 [==============================] - 4s 4ms/step - loss: 0.8380 - accuracy: 0.7084\n",
            "Epoch 98/500\n",
            "1000/1000 [==============================] - 4s 4ms/step - loss: 0.8338 - accuracy: 0.7059\n",
            "Epoch 99/500\n",
            "1000/1000 [==============================] - 5s 5ms/step - loss: 0.8361 - accuracy: 0.7081\n",
            "Epoch 100/500\n",
            "1000/1000 [==============================] - 4s 4ms/step - loss: 0.8271 - accuracy: 0.7120\n",
            "Epoch 101/500\n",
            "1000/1000 [==============================] - 4s 4ms/step - loss: 0.8300 - accuracy: 0.7112\n",
            "Epoch 102/500\n",
            "1000/1000 [==============================] - 4s 4ms/step - loss: 0.8235 - accuracy: 0.7139\n",
            "Epoch 103/500\n",
            "1000/1000 [==============================] - 5s 4ms/step - loss: 0.8214 - accuracy: 0.7141\n",
            "Epoch 104/500\n",
            "1000/1000 [==============================] - 5s 5ms/step - loss: 0.8180 - accuracy: 0.7145\n",
            "Epoch 105/500\n",
            "1000/1000 [==============================] - 5s 5ms/step - loss: 0.8167 - accuracy: 0.7150\n",
            "Epoch 106/500\n",
            "1000/1000 [==============================] - 4s 4ms/step - loss: 0.8167 - accuracy: 0.7143\n",
            "Epoch 107/500\n",
            "1000/1000 [==============================] - 5s 5ms/step - loss: 0.8161 - accuracy: 0.7170\n",
            "Epoch 108/500\n",
            "1000/1000 [==============================] - 5s 5ms/step - loss: 0.8137 - accuracy: 0.7161\n",
            "Epoch 109/500\n",
            "1000/1000 [==============================] - 5s 5ms/step - loss: 0.8116 - accuracy: 0.7176\n",
            "Epoch 110/500\n",
            "1000/1000 [==============================] - 5s 5ms/step - loss: 0.8137 - accuracy: 0.7160\n",
            "Epoch 111/500\n",
            "1000/1000 [==============================] - 5s 5ms/step - loss: 0.8105 - accuracy: 0.7181\n",
            "Epoch 112/500\n",
            "1000/1000 [==============================] - 5s 5ms/step - loss: 0.8075 - accuracy: 0.7178\n",
            "Epoch 113/500\n",
            "1000/1000 [==============================] - 4s 4ms/step - loss: 0.7981 - accuracy: 0.7238\n",
            "Epoch 114/500\n",
            "1000/1000 [==============================] - 4s 4ms/step - loss: 0.8040 - accuracy: 0.7200\n",
            "Epoch 115/500\n",
            "1000/1000 [==============================] - 4s 4ms/step - loss: 0.8005 - accuracy: 0.7206\n",
            "Epoch 116/500\n",
            "1000/1000 [==============================] - 4s 4ms/step - loss: 0.8000 - accuracy: 0.7216\n",
            "Epoch 117/500\n",
            "1000/1000 [==============================] - 4s 4ms/step - loss: 0.7958 - accuracy: 0.7244\n",
            "Epoch 118/500\n",
            "1000/1000 [==============================] - 4s 4ms/step - loss: 0.7987 - accuracy: 0.7228\n",
            "Epoch 119/500\n",
            "1000/1000 [==============================] - 4s 4ms/step - loss: 0.7949 - accuracy: 0.7220\n",
            "Epoch 120/500\n",
            "1000/1000 [==============================] - 4s 4ms/step - loss: 0.7917 - accuracy: 0.7235\n",
            "Epoch 121/500\n",
            "1000/1000 [==============================] - 4s 4ms/step - loss: 0.7906 - accuracy: 0.7251\n",
            "Epoch 122/500\n",
            "1000/1000 [==============================] - 5s 5ms/step - loss: 0.7908 - accuracy: 0.7253\n",
            "Epoch 123/500\n",
            "1000/1000 [==============================] - 4s 4ms/step - loss: 0.7883 - accuracy: 0.7244\n",
            "Epoch 124/500\n",
            "1000/1000 [==============================] - 4s 4ms/step - loss: 0.7817 - accuracy: 0.7280\n",
            "Epoch 125/500\n",
            "1000/1000 [==============================] - 4s 4ms/step - loss: 0.7831 - accuracy: 0.7260\n",
            "Epoch 126/500\n",
            "1000/1000 [==============================] - 5s 5ms/step - loss: 0.7821 - accuracy: 0.7252\n",
            "Epoch 127/500\n",
            "1000/1000 [==============================] - 5s 5ms/step - loss: 0.7831 - accuracy: 0.7286\n",
            "Epoch 128/500\n",
            "1000/1000 [==============================] - 4s 4ms/step - loss: 0.7817 - accuracy: 0.7273\n",
            "Epoch 129/500\n",
            "1000/1000 [==============================] - 5s 5ms/step - loss: 0.7810 - accuracy: 0.7274\n",
            "Epoch 130/500\n",
            "1000/1000 [==============================] - 4s 4ms/step - loss: 0.7748 - accuracy: 0.7316\n",
            "Epoch 131/500\n",
            "1000/1000 [==============================] - 4s 4ms/step - loss: 0.7790 - accuracy: 0.7271\n",
            "Epoch 132/500\n",
            "1000/1000 [==============================] - 5s 5ms/step - loss: 0.7695 - accuracy: 0.7310\n",
            "Epoch 133/500\n",
            "1000/1000 [==============================] - 5s 5ms/step - loss: 0.7748 - accuracy: 0.7301\n",
            "Epoch 134/500\n",
            "1000/1000 [==============================] - 5s 5ms/step - loss: 0.7703 - accuracy: 0.7299\n",
            "Epoch 135/500\n",
            "1000/1000 [==============================] - 5s 5ms/step - loss: 0.7645 - accuracy: 0.7345\n",
            "Epoch 136/500\n",
            "1000/1000 [==============================] - 4s 4ms/step - loss: 0.7716 - accuracy: 0.7299\n",
            "Epoch 137/500\n",
            "1000/1000 [==============================] - 5s 5ms/step - loss: 0.7691 - accuracy: 0.7310\n",
            "Epoch 138/500\n",
            "1000/1000 [==============================] - 4s 4ms/step - loss: 0.7643 - accuracy: 0.7327\n",
            "Epoch 139/500\n",
            "1000/1000 [==============================] - 4s 4ms/step - loss: 0.7617 - accuracy: 0.7347\n",
            "Epoch 140/500\n",
            "1000/1000 [==============================] - 4s 4ms/step - loss: 0.7683 - accuracy: 0.7306\n",
            "Epoch 141/500\n",
            "1000/1000 [==============================] - 4s 4ms/step - loss: 0.7629 - accuracy: 0.7333\n",
            "Epoch 142/500\n",
            "1000/1000 [==============================] - 5s 5ms/step - loss: 0.7579 - accuracy: 0.7357\n",
            "Epoch 143/500\n",
            "1000/1000 [==============================] - 5s 4ms/step - loss: 0.7593 - accuracy: 0.7345\n",
            "Epoch 144/500\n",
            "1000/1000 [==============================] - 4s 4ms/step - loss: 0.7544 - accuracy: 0.7372\n",
            "Epoch 145/500\n",
            "1000/1000 [==============================] - 4s 4ms/step - loss: 0.7582 - accuracy: 0.7332\n",
            "Epoch 146/500\n",
            "1000/1000 [==============================] - 4s 4ms/step - loss: 0.7565 - accuracy: 0.7362\n",
            "Epoch 147/500\n",
            "1000/1000 [==============================] - 4s 4ms/step - loss: 0.7517 - accuracy: 0.7388\n",
            "Epoch 148/500\n",
            "1000/1000 [==============================] - 4s 4ms/step - loss: 0.7527 - accuracy: 0.7357\n",
            "Epoch 149/500\n",
            "1000/1000 [==============================] - 4s 4ms/step - loss: 0.7488 - accuracy: 0.7385\n",
            "Epoch 150/500\n",
            "1000/1000 [==============================] - 4s 4ms/step - loss: 0.7488 - accuracy: 0.7366\n",
            "Epoch 151/500\n",
            "1000/1000 [==============================] - 4s 4ms/step - loss: 0.7487 - accuracy: 0.7373\n",
            "Epoch 152/500\n",
            "1000/1000 [==============================] - 5s 5ms/step - loss: 0.7459 - accuracy: 0.7399\n",
            "Epoch 153/500\n",
            "1000/1000 [==============================] - 4s 4ms/step - loss: 0.7457 - accuracy: 0.7390\n",
            "Epoch 154/500\n",
            "1000/1000 [==============================] - 5s 5ms/step - loss: 0.7459 - accuracy: 0.7382\n",
            "Epoch 155/500\n",
            "1000/1000 [==============================] - 4s 4ms/step - loss: 0.7404 - accuracy: 0.7406\n",
            "Epoch 156/500\n",
            "1000/1000 [==============================] - 5s 5ms/step - loss: 0.7370 - accuracy: 0.7423\n",
            "Epoch 157/500\n",
            "1000/1000 [==============================] - 5s 4ms/step - loss: 0.7368 - accuracy: 0.7421\n",
            "Epoch 158/500\n",
            "1000/1000 [==============================] - 4s 4ms/step - loss: 0.7373 - accuracy: 0.7402\n",
            "Epoch 159/500\n",
            "1000/1000 [==============================] - 5s 5ms/step - loss: 0.7356 - accuracy: 0.7436\n",
            "Epoch 160/500\n",
            "1000/1000 [==============================] - 4s 4ms/step - loss: 0.7408 - accuracy: 0.7416\n",
            "Epoch 161/500\n",
            "1000/1000 [==============================] - 5s 5ms/step - loss: 0.7314 - accuracy: 0.7425\n",
            "Epoch 162/500\n",
            "1000/1000 [==============================] - 5s 5ms/step - loss: 0.7363 - accuracy: 0.7402\n",
            "Epoch 163/500\n",
            "1000/1000 [==============================] - 5s 5ms/step - loss: 0.7334 - accuracy: 0.7447\n",
            "Epoch 164/500\n",
            "1000/1000 [==============================] - 5s 5ms/step - loss: 0.7337 - accuracy: 0.7439\n",
            "Epoch 165/500\n",
            "1000/1000 [==============================] - 4s 4ms/step - loss: 0.7273 - accuracy: 0.7456\n",
            "Epoch 166/500\n",
            "1000/1000 [==============================] - 5s 5ms/step - loss: 0.7305 - accuracy: 0.7428\n",
            "Epoch 167/500\n",
            "1000/1000 [==============================] - 4s 4ms/step - loss: 0.7280 - accuracy: 0.7436\n",
            "Epoch 168/500\n",
            "1000/1000 [==============================] - 4s 4ms/step - loss: 0.7241 - accuracy: 0.7474\n",
            "Epoch 169/500\n",
            "1000/1000 [==============================] - 4s 4ms/step - loss: 0.7265 - accuracy: 0.7440\n",
            "Epoch 170/500\n",
            "1000/1000 [==============================] - 4s 4ms/step - loss: 0.7224 - accuracy: 0.7458\n",
            "Epoch 171/500\n",
            "1000/1000 [==============================] - 4s 4ms/step - loss: 0.7192 - accuracy: 0.7495\n",
            "Epoch 172/500\n",
            "1000/1000 [==============================] - 4s 4ms/step - loss: 0.7227 - accuracy: 0.7452\n",
            "Epoch 173/500\n",
            "1000/1000 [==============================] - 4s 4ms/step - loss: 0.7231 - accuracy: 0.7472\n",
            "Epoch 174/500\n",
            "1000/1000 [==============================] - 4s 4ms/step - loss: 0.7215 - accuracy: 0.7458\n",
            "Epoch 175/500\n",
            "1000/1000 [==============================] - 4s 4ms/step - loss: 0.7205 - accuracy: 0.7482\n",
            "Epoch 176/500\n",
            "1000/1000 [==============================] - 4s 4ms/step - loss: 0.7190 - accuracy: 0.7485\n",
            "Epoch 177/500\n",
            "1000/1000 [==============================] - 5s 5ms/step - loss: 0.7153 - accuracy: 0.7486\n",
            "Epoch 178/500\n",
            "1000/1000 [==============================] - 5s 5ms/step - loss: 0.7142 - accuracy: 0.7501\n",
            "Epoch 179/500\n",
            "1000/1000 [==============================] - 4s 4ms/step - loss: 0.7169 - accuracy: 0.7495\n",
            "Epoch 180/500\n",
            "1000/1000 [==============================] - 4s 4ms/step - loss: 0.7185 - accuracy: 0.7502\n",
            "Epoch 181/500\n",
            "1000/1000 [==============================] - 4s 4ms/step - loss: 0.7169 - accuracy: 0.7500\n",
            "Epoch 182/500\n",
            "1000/1000 [==============================] - 4s 4ms/step - loss: 0.7152 - accuracy: 0.7488\n",
            "Epoch 183/500\n",
            "1000/1000 [==============================] - 4s 4ms/step - loss: 0.7143 - accuracy: 0.7489\n",
            "Epoch 184/500\n",
            "1000/1000 [==============================] - 4s 4ms/step - loss: 0.7104 - accuracy: 0.7534\n",
            "Epoch 185/500\n",
            "1000/1000 [==============================] - 4s 4ms/step - loss: 0.7127 - accuracy: 0.7493\n",
            "Epoch 186/500\n",
            "1000/1000 [==============================] - 4s 4ms/step - loss: 0.7058 - accuracy: 0.7528\n",
            "Epoch 187/500\n",
            "1000/1000 [==============================] - 4s 4ms/step - loss: 0.7069 - accuracy: 0.7530\n",
            "Epoch 188/500\n",
            "1000/1000 [==============================] - 4s 4ms/step - loss: 0.7089 - accuracy: 0.7517\n",
            "Epoch 189/500\n",
            "1000/1000 [==============================] - 5s 5ms/step - loss: 0.7080 - accuracy: 0.7529\n",
            "Epoch 190/500\n",
            "1000/1000 [==============================] - 4s 4ms/step - loss: 0.7013 - accuracy: 0.7529\n",
            "Epoch 191/500\n",
            "1000/1000 [==============================] - 4s 4ms/step - loss: 0.7017 - accuracy: 0.7536\n",
            "Epoch 192/500\n",
            "1000/1000 [==============================] - 4s 4ms/step - loss: 0.7061 - accuracy: 0.7525\n",
            "Epoch 193/500\n",
            "1000/1000 [==============================] - 4s 4ms/step - loss: 0.7031 - accuracy: 0.7541\n",
            "Epoch 194/500\n",
            "1000/1000 [==============================] - 4s 4ms/step - loss: 0.7034 - accuracy: 0.7528\n",
            "Epoch 195/500\n",
            "1000/1000 [==============================] - 5s 5ms/step - loss: 0.6992 - accuracy: 0.7547\n",
            "Epoch 196/500\n",
            "1000/1000 [==============================] - 5s 5ms/step - loss: 0.7021 - accuracy: 0.7552\n",
            "Epoch 197/500\n",
            "1000/1000 [==============================] - 5s 5ms/step - loss: 0.6956 - accuracy: 0.7563\n",
            "Epoch 198/500\n",
            "1000/1000 [==============================] - 5s 5ms/step - loss: 0.6973 - accuracy: 0.7562\n",
            "Epoch 199/500\n",
            "1000/1000 [==============================] - 5s 5ms/step - loss: 0.6983 - accuracy: 0.7567\n",
            "Epoch 200/500\n",
            "1000/1000 [==============================] - 5s 5ms/step - loss: 0.6948 - accuracy: 0.7559\n",
            "Epoch 201/500\n",
            "1000/1000 [==============================] - 5s 5ms/step - loss: 0.6955 - accuracy: 0.7588\n",
            "Epoch 202/500\n",
            "1000/1000 [==============================] - 5s 5ms/step - loss: 0.6954 - accuracy: 0.7556\n",
            "Epoch 203/500\n",
            "1000/1000 [==============================] - 4s 4ms/step - loss: 0.6903 - accuracy: 0.7568\n",
            "Epoch 204/500\n",
            "1000/1000 [==============================] - 5s 5ms/step - loss: 0.6944 - accuracy: 0.7558\n",
            "Epoch 205/500\n",
            "1000/1000 [==============================] - 4s 4ms/step - loss: 0.6913 - accuracy: 0.7578\n",
            "Epoch 206/500\n",
            "1000/1000 [==============================] - 5s 5ms/step - loss: 0.6884 - accuracy: 0.7572\n",
            "Epoch 207/500\n",
            "1000/1000 [==============================] - 5s 4ms/step - loss: 0.6925 - accuracy: 0.7583\n",
            "Epoch 208/500\n",
            "1000/1000 [==============================] - 4s 4ms/step - loss: 0.6853 - accuracy: 0.7604\n",
            "Epoch 209/500\n",
            "1000/1000 [==============================] - 5s 5ms/step - loss: 0.6850 - accuracy: 0.7606\n",
            "Epoch 210/500\n",
            "1000/1000 [==============================] - 5s 5ms/step - loss: 0.6823 - accuracy: 0.7608\n",
            "Epoch 211/500\n",
            "1000/1000 [==============================] - 5s 5ms/step - loss: 0.6888 - accuracy: 0.7607\n",
            "Epoch 212/500\n",
            "1000/1000 [==============================] - 5s 5ms/step - loss: 0.6810 - accuracy: 0.7612\n",
            "Epoch 213/500\n",
            "1000/1000 [==============================] - 5s 5ms/step - loss: 0.6827 - accuracy: 0.7629\n",
            "Epoch 214/500\n",
            "1000/1000 [==============================] - 5s 5ms/step - loss: 0.6840 - accuracy: 0.7592\n",
            "Epoch 215/500\n",
            "1000/1000 [==============================] - 5s 5ms/step - loss: 0.6828 - accuracy: 0.7610\n",
            "Epoch 216/500\n",
            "1000/1000 [==============================] - 5s 5ms/step - loss: 0.6821 - accuracy: 0.7603\n",
            "Epoch 217/500\n",
            "1000/1000 [==============================] - 5s 5ms/step - loss: 0.6780 - accuracy: 0.7641\n",
            "Epoch 218/500\n",
            "1000/1000 [==============================] - 5s 5ms/step - loss: 0.6813 - accuracy: 0.7590\n",
            "Epoch 219/500\n",
            "1000/1000 [==============================] - 5s 5ms/step - loss: 0.6825 - accuracy: 0.7620\n",
            "Epoch 220/500\n",
            "1000/1000 [==============================] - 5s 5ms/step - loss: 0.6796 - accuracy: 0.7634\n",
            "Epoch 221/500\n",
            "1000/1000 [==============================] - 4s 4ms/step - loss: 0.6781 - accuracy: 0.7620\n",
            "Epoch 222/500\n",
            "1000/1000 [==============================] - 4s 4ms/step - loss: 0.6760 - accuracy: 0.7629\n",
            "Epoch 223/500\n",
            "1000/1000 [==============================] - 5s 5ms/step - loss: 0.6787 - accuracy: 0.7599\n",
            "Epoch 224/500\n",
            "1000/1000 [==============================] - 5s 5ms/step - loss: 0.6743 - accuracy: 0.7632\n",
            "Epoch 225/500\n",
            "1000/1000 [==============================] - 5s 5ms/step - loss: 0.6722 - accuracy: 0.7650\n",
            "Epoch 226/500\n",
            "1000/1000 [==============================] - 4s 4ms/step - loss: 0.6750 - accuracy: 0.7637\n",
            "Epoch 227/500\n",
            "1000/1000 [==============================] - 5s 5ms/step - loss: 0.6675 - accuracy: 0.7644\n",
            "Epoch 228/500\n",
            "1000/1000 [==============================] - 4s 4ms/step - loss: 0.6716 - accuracy: 0.7644\n",
            "Epoch 229/500\n",
            "1000/1000 [==============================] - 5s 5ms/step - loss: 0.6713 - accuracy: 0.7632\n",
            "Epoch 230/500\n",
            "1000/1000 [==============================] - 5s 5ms/step - loss: 0.6711 - accuracy: 0.7629\n",
            "Epoch 231/500\n",
            "1000/1000 [==============================] - 4s 4ms/step - loss: 0.6667 - accuracy: 0.7653\n",
            "Epoch 232/500\n",
            "1000/1000 [==============================] - 5s 5ms/step - loss: 0.6700 - accuracy: 0.7647\n",
            "Epoch 233/500\n",
            "1000/1000 [==============================] - 5s 5ms/step - loss: 0.6681 - accuracy: 0.7647\n",
            "Epoch 234/500\n",
            "1000/1000 [==============================] - 5s 5ms/step - loss: 0.6665 - accuracy: 0.7673\n",
            "Epoch 235/500\n",
            "1000/1000 [==============================] - 5s 5ms/step - loss: 0.6667 - accuracy: 0.7663\n",
            "Epoch 236/500\n",
            "1000/1000 [==============================] - 4s 4ms/step - loss: 0.6685 - accuracy: 0.7663\n",
            "Epoch 237/500\n",
            "1000/1000 [==============================] - 5s 5ms/step - loss: 0.6666 - accuracy: 0.7679\n",
            "Epoch 238/500\n",
            "1000/1000 [==============================] - 5s 5ms/step - loss: 0.6661 - accuracy: 0.7654\n",
            "Epoch 239/500\n",
            "1000/1000 [==============================] - 5s 5ms/step - loss: 0.6673 - accuracy: 0.7662\n",
            "Epoch 240/500\n",
            "1000/1000 [==============================] - 5s 5ms/step - loss: 0.6603 - accuracy: 0.7668\n",
            "Epoch 241/500\n",
            "1000/1000 [==============================] - 5s 5ms/step - loss: 0.6628 - accuracy: 0.7671\n",
            "Epoch 242/500\n",
            "1000/1000 [==============================] - 5s 5ms/step - loss: 0.6655 - accuracy: 0.7647\n",
            "Epoch 243/500\n",
            "1000/1000 [==============================] - 5s 5ms/step - loss: 0.6659 - accuracy: 0.7658\n",
            "Epoch 244/500\n",
            "1000/1000 [==============================] - 4s 4ms/step - loss: 0.6589 - accuracy: 0.7666\n",
            "Epoch 245/500\n",
            "1000/1000 [==============================] - 5s 5ms/step - loss: 0.6626 - accuracy: 0.7670\n",
            "Epoch 246/500\n",
            "1000/1000 [==============================] - 5s 5ms/step - loss: 0.6571 - accuracy: 0.7672\n",
            "Epoch 247/500\n",
            "1000/1000 [==============================] - 5s 5ms/step - loss: 0.6589 - accuracy: 0.7677\n",
            "Epoch 248/500\n",
            "1000/1000 [==============================] - 5s 5ms/step - loss: 0.6597 - accuracy: 0.7694\n",
            "Epoch 249/500\n",
            "1000/1000 [==============================] - 5s 5ms/step - loss: 0.6536 - accuracy: 0.7727\n",
            "Epoch 250/500\n",
            "1000/1000 [==============================] - 5s 5ms/step - loss: 0.6587 - accuracy: 0.7667\n",
            "Epoch 251/500\n",
            "1000/1000 [==============================] - 5s 5ms/step - loss: 0.6551 - accuracy: 0.7698\n",
            "Epoch 252/500\n",
            "1000/1000 [==============================] - 5s 5ms/step - loss: 0.6544 - accuracy: 0.7717\n",
            "Epoch 253/500\n",
            "1000/1000 [==============================] - 5s 5ms/step - loss: 0.6555 - accuracy: 0.7713\n",
            "Epoch 254/500\n",
            "1000/1000 [==============================] - 5s 5ms/step - loss: 0.6530 - accuracy: 0.7686\n",
            "Epoch 255/500\n",
            "1000/1000 [==============================] - 5s 5ms/step - loss: 0.6567 - accuracy: 0.7703\n",
            "Epoch 256/500\n",
            "1000/1000 [==============================] - 5s 5ms/step - loss: 0.6470 - accuracy: 0.7712\n",
            "Epoch 257/500\n",
            "1000/1000 [==============================] - 5s 5ms/step - loss: 0.6517 - accuracy: 0.7706\n",
            "Epoch 258/500\n",
            "1000/1000 [==============================] - 5s 5ms/step - loss: 0.6545 - accuracy: 0.7698\n",
            "Epoch 259/500\n",
            "1000/1000 [==============================] - 5s 5ms/step - loss: 0.6457 - accuracy: 0.7716\n",
            "Epoch 260/500\n",
            "1000/1000 [==============================] - 5s 5ms/step - loss: 0.6540 - accuracy: 0.7690\n",
            "Epoch 261/500\n",
            "1000/1000 [==============================] - 5s 5ms/step - loss: 0.6541 - accuracy: 0.7702\n",
            "Epoch 262/500\n",
            "1000/1000 [==============================] - 5s 5ms/step - loss: 0.6578 - accuracy: 0.7697\n",
            "Epoch 263/500\n",
            "1000/1000 [==============================] - 5s 5ms/step - loss: 0.6516 - accuracy: 0.7709\n",
            "Epoch 264/500\n",
            "1000/1000 [==============================] - 5s 5ms/step - loss: 0.6503 - accuracy: 0.7704\n",
            "Epoch 265/500\n",
            "1000/1000 [==============================] - 5s 5ms/step - loss: 0.6485 - accuracy: 0.7710\n",
            "Epoch 266/500\n",
            "1000/1000 [==============================] - 5s 5ms/step - loss: 0.6507 - accuracy: 0.7719\n",
            "Epoch 267/500\n",
            "1000/1000 [==============================] - 5s 5ms/step - loss: 0.6489 - accuracy: 0.7716\n",
            "Epoch 268/500\n",
            "1000/1000 [==============================] - 5s 5ms/step - loss: 0.6459 - accuracy: 0.7733\n",
            "Epoch 269/500\n",
            "1000/1000 [==============================] - 5s 5ms/step - loss: 0.6486 - accuracy: 0.7715\n",
            "Epoch 270/500\n",
            "1000/1000 [==============================] - 5s 5ms/step - loss: 0.6428 - accuracy: 0.7734\n",
            "Epoch 271/500\n",
            "1000/1000 [==============================] - 5s 5ms/step - loss: 0.6437 - accuracy: 0.7730\n",
            "Epoch 272/500\n",
            "1000/1000 [==============================] - 5s 5ms/step - loss: 0.6493 - accuracy: 0.7713\n",
            "Epoch 273/500\n",
            "1000/1000 [==============================] - 5s 5ms/step - loss: 0.6414 - accuracy: 0.7760\n",
            "Epoch 274/500\n",
            "1000/1000 [==============================] - 5s 5ms/step - loss: 0.6451 - accuracy: 0.7730\n",
            "Epoch 275/500\n",
            "1000/1000 [==============================] - 5s 5ms/step - loss: 0.6435 - accuracy: 0.7727\n",
            "Epoch 276/500\n",
            "1000/1000 [==============================] - 5s 5ms/step - loss: 0.6400 - accuracy: 0.7749\n",
            "Epoch 277/500\n",
            "1000/1000 [==============================] - 5s 5ms/step - loss: 0.6387 - accuracy: 0.7745\n",
            "Epoch 278/500\n",
            "1000/1000 [==============================] - 5s 5ms/step - loss: 0.6391 - accuracy: 0.7747\n",
            "Epoch 279/500\n",
            "1000/1000 [==============================] - 5s 5ms/step - loss: 0.6422 - accuracy: 0.7745\n",
            "Epoch 280/500\n",
            "1000/1000 [==============================] - 5s 5ms/step - loss: 0.6376 - accuracy: 0.7754\n",
            "Epoch 281/500\n",
            "1000/1000 [==============================] - 5s 5ms/step - loss: 0.6403 - accuracy: 0.7729\n",
            "Epoch 282/500\n",
            "1000/1000 [==============================] - 5s 5ms/step - loss: 0.6382 - accuracy: 0.7773\n",
            "Epoch 283/500\n",
            "1000/1000 [==============================] - 5s 5ms/step - loss: 0.6330 - accuracy: 0.7768\n",
            "Epoch 284/500\n",
            "1000/1000 [==============================] - 5s 5ms/step - loss: 0.6408 - accuracy: 0.7738\n",
            "Epoch 285/500\n",
            "1000/1000 [==============================] - 5s 5ms/step - loss: 0.6392 - accuracy: 0.7758\n",
            "Epoch 286/500\n",
            "1000/1000 [==============================] - 5s 5ms/step - loss: 0.6346 - accuracy: 0.7771\n",
            "Epoch 287/500\n",
            "1000/1000 [==============================] - 5s 5ms/step - loss: 0.6400 - accuracy: 0.7756\n",
            "Epoch 288/500\n",
            "1000/1000 [==============================] - 5s 5ms/step - loss: 0.6381 - accuracy: 0.7761\n",
            "Epoch 289/500\n",
            "1000/1000 [==============================] - 5s 5ms/step - loss: 0.6347 - accuracy: 0.7759\n",
            "Epoch 290/500\n",
            "1000/1000 [==============================] - 5s 5ms/step - loss: 0.6331 - accuracy: 0.7776\n",
            "Epoch 291/500\n",
            "1000/1000 [==============================] - 5s 5ms/step - loss: 0.6297 - accuracy: 0.7788\n",
            "Epoch 292/500\n",
            "1000/1000 [==============================] - 5s 5ms/step - loss: 0.6302 - accuracy: 0.7768\n",
            "Epoch 293/500\n",
            "1000/1000 [==============================] - 5s 5ms/step - loss: 0.6288 - accuracy: 0.7798\n",
            "Epoch 294/500\n",
            "1000/1000 [==============================] - 5s 5ms/step - loss: 0.6350 - accuracy: 0.7752\n",
            "Epoch 295/500\n",
            "1000/1000 [==============================] - 5s 5ms/step - loss: 0.6353 - accuracy: 0.7752\n",
            "Epoch 296/500\n",
            "1000/1000 [==============================] - 5s 5ms/step - loss: 0.6363 - accuracy: 0.7775\n",
            "Epoch 297/500\n",
            "1000/1000 [==============================] - 5s 5ms/step - loss: 0.6294 - accuracy: 0.7788\n",
            "Epoch 298/500\n",
            "1000/1000 [==============================] - 5s 5ms/step - loss: 0.6296 - accuracy: 0.7810\n",
            "Epoch 299/500\n",
            "1000/1000 [==============================] - 5s 5ms/step - loss: 0.6253 - accuracy: 0.7786\n",
            "Epoch 300/500\n",
            "1000/1000 [==============================] - 5s 5ms/step - loss: 0.6315 - accuracy: 0.7784\n",
            "Epoch 301/500\n",
            "1000/1000 [==============================] - 5s 5ms/step - loss: 0.6240 - accuracy: 0.7806\n",
            "Epoch 302/500\n",
            "1000/1000 [==============================] - 5s 5ms/step - loss: 0.6278 - accuracy: 0.7775\n",
            "Epoch 303/500\n",
            "1000/1000 [==============================] - 5s 5ms/step - loss: 0.6224 - accuracy: 0.7791\n",
            "Epoch 304/500\n",
            "1000/1000 [==============================] - 5s 5ms/step - loss: 0.6290 - accuracy: 0.7785\n",
            "Epoch 305/500\n",
            "1000/1000 [==============================] - 5s 5ms/step - loss: 0.6238 - accuracy: 0.7802\n",
            "Epoch 306/500\n",
            "1000/1000 [==============================] - 5s 5ms/step - loss: 0.6213 - accuracy: 0.7819\n",
            "Epoch 307/500\n",
            "1000/1000 [==============================] - 5s 5ms/step - loss: 0.6222 - accuracy: 0.7820\n",
            "Epoch 308/500\n",
            "1000/1000 [==============================] - 5s 5ms/step - loss: 0.6254 - accuracy: 0.7788\n",
            "Epoch 309/500\n",
            "1000/1000 [==============================] - 5s 5ms/step - loss: 0.6226 - accuracy: 0.7802\n",
            "Epoch 310/500\n",
            "1000/1000 [==============================] - 5s 5ms/step - loss: 0.6277 - accuracy: 0.7780\n",
            "Epoch 311/500\n",
            "1000/1000 [==============================] - 5s 5ms/step - loss: 0.6274 - accuracy: 0.7790\n",
            "Epoch 312/500\n",
            "1000/1000 [==============================] - 5s 5ms/step - loss: 0.6252 - accuracy: 0.7812\n",
            "Epoch 313/500\n",
            "1000/1000 [==============================] - 5s 5ms/step - loss: 0.6226 - accuracy: 0.7819\n",
            "Epoch 314/500\n",
            "1000/1000 [==============================] - 5s 5ms/step - loss: 0.6203 - accuracy: 0.7823\n",
            "Epoch 315/500\n",
            "1000/1000 [==============================] - 5s 5ms/step - loss: 0.6247 - accuracy: 0.7790\n",
            "Epoch 316/500\n",
            "1000/1000 [==============================] - 5s 5ms/step - loss: 0.6213 - accuracy: 0.7829\n",
            "Epoch 317/500\n",
            "1000/1000 [==============================] - 5s 5ms/step - loss: 0.6192 - accuracy: 0.7817\n",
            "Epoch 318/500\n",
            "1000/1000 [==============================] - 5s 5ms/step - loss: 0.6224 - accuracy: 0.7815\n",
            "Epoch 319/500\n",
            "1000/1000 [==============================] - 5s 5ms/step - loss: 0.6206 - accuracy: 0.7814\n",
            "Epoch 320/500\n",
            "1000/1000 [==============================] - 5s 5ms/step - loss: 0.6166 - accuracy: 0.7841\n",
            "Epoch 321/500\n",
            "1000/1000 [==============================] - 5s 5ms/step - loss: 0.6233 - accuracy: 0.7806\n",
            "Epoch 322/500\n",
            "1000/1000 [==============================] - 5s 5ms/step - loss: 0.6196 - accuracy: 0.7814\n",
            "Epoch 323/500\n",
            "1000/1000 [==============================] - 5s 5ms/step - loss: 0.6192 - accuracy: 0.7812\n",
            "Epoch 324/500\n",
            "1000/1000 [==============================] - 5s 5ms/step - loss: 0.6214 - accuracy: 0.7808\n",
            "Epoch 325/500\n",
            "1000/1000 [==============================] - 5s 5ms/step - loss: 0.6187 - accuracy: 0.7853\n",
            "Epoch 326/500\n",
            "1000/1000 [==============================] - 5s 5ms/step - loss: 0.6171 - accuracy: 0.7836\n",
            "Epoch 327/500\n",
            "1000/1000 [==============================] - 5s 5ms/step - loss: 0.6179 - accuracy: 0.7825\n",
            "Epoch 328/500\n",
            "1000/1000 [==============================] - 5s 5ms/step - loss: 0.6201 - accuracy: 0.7805\n",
            "Epoch 329/500\n",
            "1000/1000 [==============================] - 5s 5ms/step - loss: 0.6188 - accuracy: 0.7818\n",
            "Epoch 330/500\n",
            "1000/1000 [==============================] - 5s 5ms/step - loss: 0.6202 - accuracy: 0.7818\n",
            "Epoch 331/500\n",
            "1000/1000 [==============================] - 5s 5ms/step - loss: 0.6198 - accuracy: 0.7807\n",
            "Epoch 332/500\n",
            "1000/1000 [==============================] - 5s 5ms/step - loss: 0.6148 - accuracy: 0.7849\n",
            "Epoch 333/500\n",
            "1000/1000 [==============================] - 5s 5ms/step - loss: 0.6093 - accuracy: 0.7848\n",
            "Epoch 334/500\n",
            "1000/1000 [==============================] - 5s 5ms/step - loss: 0.6150 - accuracy: 0.7840\n",
            "Epoch 335/500\n",
            "1000/1000 [==============================] - 5s 5ms/step - loss: 0.6186 - accuracy: 0.7812\n",
            "Epoch 336/500\n",
            "1000/1000 [==============================] - 5s 5ms/step - loss: 0.6117 - accuracy: 0.7844\n",
            "Epoch 337/500\n",
            "1000/1000 [==============================] - 5s 5ms/step - loss: 0.6120 - accuracy: 0.7835\n",
            "Epoch 338/500\n",
            "1000/1000 [==============================] - 5s 5ms/step - loss: 0.6096 - accuracy: 0.7853\n",
            "Epoch 339/500\n",
            "1000/1000 [==============================] - 5s 5ms/step - loss: 0.6090 - accuracy: 0.7859\n",
            "Epoch 340/500\n",
            "1000/1000 [==============================] - 5s 5ms/step - loss: 0.6115 - accuracy: 0.7848\n",
            "Epoch 341/500\n",
            "1000/1000 [==============================] - 5s 5ms/step - loss: 0.6116 - accuracy: 0.7854\n",
            "Epoch 342/500\n",
            "1000/1000 [==============================] - 5s 5ms/step - loss: 0.6079 - accuracy: 0.7846\n",
            "Epoch 343/500\n",
            "1000/1000 [==============================] - 5s 5ms/step - loss: 0.6061 - accuracy: 0.7853\n",
            "Epoch 344/500\n",
            "1000/1000 [==============================] - 5s 5ms/step - loss: 0.6061 - accuracy: 0.7851\n",
            "Epoch 345/500\n",
            "1000/1000 [==============================] - 5s 5ms/step - loss: 0.6094 - accuracy: 0.7846\n",
            "Epoch 346/500\n",
            "1000/1000 [==============================] - 5s 5ms/step - loss: 0.6075 - accuracy: 0.7862\n",
            "Epoch 347/500\n",
            "1000/1000 [==============================] - 5s 5ms/step - loss: 0.6043 - accuracy: 0.7868\n",
            "Epoch 348/500\n",
            "1000/1000 [==============================] - 5s 5ms/step - loss: 0.6037 - accuracy: 0.7896\n",
            "Epoch 349/500\n",
            "1000/1000 [==============================] - 5s 5ms/step - loss: 0.6023 - accuracy: 0.7889\n",
            "Epoch 350/500\n",
            "1000/1000 [==============================] - 5s 5ms/step - loss: 0.6076 - accuracy: 0.7847\n",
            "Epoch 351/500\n",
            "1000/1000 [==============================] - 5s 5ms/step - loss: 0.6058 - accuracy: 0.7886\n",
            "Epoch 352/500\n",
            "1000/1000 [==============================] - 5s 5ms/step - loss: 0.6043 - accuracy: 0.7867\n",
            "Epoch 353/500\n",
            "1000/1000 [==============================] - 5s 5ms/step - loss: 0.6117 - accuracy: 0.7822\n",
            "Epoch 354/500\n",
            "1000/1000 [==============================] - 5s 5ms/step - loss: 0.6049 - accuracy: 0.7864\n",
            "Epoch 355/500\n",
            "1000/1000 [==============================] - 5s 5ms/step - loss: 0.6055 - accuracy: 0.7866\n",
            "Epoch 356/500\n",
            "1000/1000 [==============================] - 5s 5ms/step - loss: 0.6057 - accuracy: 0.7874\n",
            "Epoch 357/500\n",
            "1000/1000 [==============================] - 5s 5ms/step - loss: 0.6021 - accuracy: 0.7890\n",
            "Epoch 358/500\n",
            "1000/1000 [==============================] - 5s 5ms/step - loss: 0.6069 - accuracy: 0.7877\n",
            "Epoch 359/500\n",
            "1000/1000 [==============================] - 5s 5ms/step - loss: 0.6060 - accuracy: 0.7857\n",
            "Epoch 360/500\n",
            "1000/1000 [==============================] - 5s 5ms/step - loss: 0.6061 - accuracy: 0.7865\n",
            "Epoch 361/500\n",
            "1000/1000 [==============================] - 5s 5ms/step - loss: 0.5999 - accuracy: 0.7888\n",
            "Epoch 362/500\n",
            "1000/1000 [==============================] - 5s 5ms/step - loss: 0.6053 - accuracy: 0.7848\n",
            "Epoch 363/500\n",
            "1000/1000 [==============================] - 5s 5ms/step - loss: 0.6036 - accuracy: 0.7855\n",
            "Epoch 364/500\n",
            "1000/1000 [==============================] - 5s 5ms/step - loss: 0.6020 - accuracy: 0.7870\n",
            "Epoch 365/500\n",
            "1000/1000 [==============================] - 5s 5ms/step - loss: 0.6073 - accuracy: 0.7852\n",
            "Epoch 366/500\n",
            "1000/1000 [==============================] - 5s 5ms/step - loss: 0.6040 - accuracy: 0.7872\n",
            "Epoch 367/500\n",
            "1000/1000 [==============================] - 5s 5ms/step - loss: 0.5991 - accuracy: 0.7879\n",
            "Epoch 368/500\n",
            "1000/1000 [==============================] - 5s 5ms/step - loss: 0.6031 - accuracy: 0.7875\n",
            "Epoch 369/500\n",
            "1000/1000 [==============================] - 5s 5ms/step - loss: 0.5975 - accuracy: 0.7873\n",
            "Epoch 370/500\n",
            "1000/1000 [==============================] - 5s 5ms/step - loss: 0.6059 - accuracy: 0.7847\n",
            "Epoch 371/500\n",
            "1000/1000 [==============================] - 5s 5ms/step - loss: 0.6025 - accuracy: 0.7861\n",
            "Epoch 372/500\n",
            "1000/1000 [==============================] - 5s 5ms/step - loss: 0.6029 - accuracy: 0.7874\n",
            "Epoch 373/500\n",
            "1000/1000 [==============================] - 5s 5ms/step - loss: 0.5961 - accuracy: 0.7879\n",
            "Epoch 374/500\n",
            "1000/1000 [==============================] - 5s 5ms/step - loss: 0.6035 - accuracy: 0.7883\n",
            "Epoch 375/500\n",
            "1000/1000 [==============================] - 5s 5ms/step - loss: 0.5987 - accuracy: 0.7882\n",
            "Epoch 376/500\n",
            "1000/1000 [==============================] - 5s 5ms/step - loss: 0.6000 - accuracy: 0.7879\n",
            "Epoch 377/500\n",
            "1000/1000 [==============================] - 5s 5ms/step - loss: 0.5952 - accuracy: 0.7898\n",
            "Epoch 378/500\n",
            "1000/1000 [==============================] - 5s 5ms/step - loss: 0.5998 - accuracy: 0.7876\n",
            "Epoch 379/500\n",
            "1000/1000 [==============================] - 5s 5ms/step - loss: 0.6003 - accuracy: 0.7884\n",
            "Epoch 380/500\n",
            "1000/1000 [==============================] - 5s 5ms/step - loss: 0.5944 - accuracy: 0.7885\n",
            "Epoch 381/500\n",
            "1000/1000 [==============================] - 5s 5ms/step - loss: 0.6016 - accuracy: 0.7891\n",
            "Epoch 382/500\n",
            "1000/1000 [==============================] - 5s 5ms/step - loss: 0.5998 - accuracy: 0.7895\n",
            "Epoch 383/500\n",
            "1000/1000 [==============================] - 5s 5ms/step - loss: 0.5977 - accuracy: 0.7888\n",
            "Epoch 384/500\n",
            "1000/1000 [==============================] - 5s 5ms/step - loss: 0.6010 - accuracy: 0.7878\n",
            "Epoch 385/500\n",
            "1000/1000 [==============================] - 5s 5ms/step - loss: 0.5978 - accuracy: 0.7878\n",
            "Epoch 386/500\n",
            "1000/1000 [==============================] - 5s 5ms/step - loss: 0.5915 - accuracy: 0.7898\n",
            "Epoch 387/500\n",
            "1000/1000 [==============================] - 5s 5ms/step - loss: 0.5968 - accuracy: 0.7891\n",
            "Epoch 388/500\n",
            "1000/1000 [==============================] - 5s 5ms/step - loss: 0.5989 - accuracy: 0.7888\n",
            "Epoch 389/500\n",
            "1000/1000 [==============================] - 5s 5ms/step - loss: 0.5907 - accuracy: 0.7905\n",
            "Epoch 390/500\n",
            "1000/1000 [==============================] - 5s 5ms/step - loss: 0.5956 - accuracy: 0.7894\n",
            "Epoch 391/500\n",
            "1000/1000 [==============================] - 5s 5ms/step - loss: 0.5948 - accuracy: 0.7882\n",
            "Epoch 392/500\n",
            "1000/1000 [==============================] - 5s 5ms/step - loss: 0.5926 - accuracy: 0.7888\n",
            "Epoch 393/500\n",
            "1000/1000 [==============================] - 5s 5ms/step - loss: 0.5920 - accuracy: 0.7906\n",
            "Epoch 394/500\n",
            "1000/1000 [==============================] - 5s 5ms/step - loss: 0.5963 - accuracy: 0.7895\n",
            "Epoch 395/500\n",
            "1000/1000 [==============================] - 5s 5ms/step - loss: 0.5897 - accuracy: 0.7905\n",
            "Epoch 396/500\n",
            "1000/1000 [==============================] - 5s 5ms/step - loss: 0.5951 - accuracy: 0.7910\n",
            "Epoch 397/500\n",
            "1000/1000 [==============================] - 5s 5ms/step - loss: 0.5932 - accuracy: 0.7893\n",
            "Epoch 398/500\n",
            "1000/1000 [==============================] - 5s 5ms/step - loss: 0.5917 - accuracy: 0.7889\n",
            "Epoch 399/500\n",
            "1000/1000 [==============================] - 5s 5ms/step - loss: 0.5923 - accuracy: 0.7924\n",
            "Epoch 400/500\n",
            "1000/1000 [==============================] - 5s 5ms/step - loss: 0.5930 - accuracy: 0.7909\n",
            "Epoch 401/500\n",
            "1000/1000 [==============================] - 5s 5ms/step - loss: 0.5928 - accuracy: 0.7906\n",
            "Epoch 402/500\n",
            "1000/1000 [==============================] - 5s 5ms/step - loss: 0.5873 - accuracy: 0.7936\n",
            "Epoch 403/500\n",
            "1000/1000 [==============================] - 5s 5ms/step - loss: 0.5935 - accuracy: 0.7905\n",
            "Epoch 404/500\n",
            "1000/1000 [==============================] - 5s 5ms/step - loss: 0.5942 - accuracy: 0.7888\n",
            "Epoch 405/500\n",
            "1000/1000 [==============================] - 5s 5ms/step - loss: 0.5928 - accuracy: 0.7902\n",
            "Epoch 406/500\n",
            "1000/1000 [==============================] - 5s 5ms/step - loss: 0.5911 - accuracy: 0.7890\n",
            "Epoch 407/500\n",
            "1000/1000 [==============================] - 5s 5ms/step - loss: 0.5895 - accuracy: 0.7915\n",
            "Epoch 408/500\n",
            "1000/1000 [==============================] - 5s 5ms/step - loss: 0.5880 - accuracy: 0.7921\n",
            "Epoch 409/500\n",
            "1000/1000 [==============================] - 5s 5ms/step - loss: 0.5840 - accuracy: 0.7927\n",
            "Epoch 410/500\n",
            "1000/1000 [==============================] - 5s 5ms/step - loss: 0.5879 - accuracy: 0.7936\n",
            "Epoch 411/500\n",
            "1000/1000 [==============================] - 5s 5ms/step - loss: 0.5858 - accuracy: 0.7918\n",
            "Epoch 412/500\n",
            "1000/1000 [==============================] - 5s 5ms/step - loss: 0.5860 - accuracy: 0.7931\n",
            "Epoch 413/500\n",
            "1000/1000 [==============================] - 5s 5ms/step - loss: 0.5880 - accuracy: 0.7932\n",
            "Epoch 414/500\n",
            "1000/1000 [==============================] - 5s 5ms/step - loss: 0.5884 - accuracy: 0.7912\n",
            "Epoch 415/500\n",
            "1000/1000 [==============================] - 5s 5ms/step - loss: 0.5891 - accuracy: 0.7939\n",
            "Epoch 416/500\n",
            "1000/1000 [==============================] - 5s 5ms/step - loss: 0.5889 - accuracy: 0.7932\n",
            "Epoch 417/500\n",
            "1000/1000 [==============================] - 5s 5ms/step - loss: 0.5854 - accuracy: 0.7941\n",
            "Epoch 418/500\n",
            "1000/1000 [==============================] - 5s 5ms/step - loss: 0.5875 - accuracy: 0.7919\n",
            "Epoch 419/500\n",
            "1000/1000 [==============================] - 5s 5ms/step - loss: 0.5881 - accuracy: 0.7923\n",
            "Epoch 420/500\n",
            "1000/1000 [==============================] - 5s 5ms/step - loss: 0.5869 - accuracy: 0.7937\n",
            "Epoch 421/500\n",
            "1000/1000 [==============================] - 5s 5ms/step - loss: 0.5826 - accuracy: 0.7947\n",
            "Epoch 422/500\n",
            "1000/1000 [==============================] - 5s 5ms/step - loss: 0.5844 - accuracy: 0.7931\n",
            "Epoch 423/500\n",
            "1000/1000 [==============================] - 5s 5ms/step - loss: 0.5828 - accuracy: 0.7940\n",
            "Epoch 424/500\n",
            "1000/1000 [==============================] - 5s 5ms/step - loss: 0.5860 - accuracy: 0.7935\n",
            "Epoch 425/500\n",
            "1000/1000 [==============================] - 5s 5ms/step - loss: 0.5845 - accuracy: 0.7923\n",
            "Epoch 426/500\n",
            "1000/1000 [==============================] - 5s 5ms/step - loss: 0.5827 - accuracy: 0.7924\n",
            "Epoch 427/500\n",
            "1000/1000 [==============================] - 5s 5ms/step - loss: 0.5790 - accuracy: 0.7959\n",
            "Epoch 428/500\n",
            "1000/1000 [==============================] - 5s 5ms/step - loss: 0.5821 - accuracy: 0.7944\n",
            "Epoch 429/500\n",
            "1000/1000 [==============================] - 5s 5ms/step - loss: 0.5796 - accuracy: 0.7938\n",
            "Epoch 430/500\n",
            "1000/1000 [==============================] - 5s 5ms/step - loss: 0.5816 - accuracy: 0.7946\n",
            "Epoch 431/500\n",
            "1000/1000 [==============================] - 5s 5ms/step - loss: 0.5843 - accuracy: 0.7927\n",
            "Epoch 432/500\n",
            "1000/1000 [==============================] - 5s 5ms/step - loss: 0.5843 - accuracy: 0.7945\n",
            "Epoch 433/500\n",
            "1000/1000 [==============================] - 5s 5ms/step - loss: 0.5868 - accuracy: 0.7929\n",
            "Epoch 434/500\n",
            "1000/1000 [==============================] - 5s 5ms/step - loss: 0.5834 - accuracy: 0.7930\n",
            "Epoch 435/500\n",
            "1000/1000 [==============================] - 5s 5ms/step - loss: 0.5797 - accuracy: 0.7940\n",
            "Epoch 436/500\n",
            "1000/1000 [==============================] - 5s 5ms/step - loss: 0.5840 - accuracy: 0.7924\n",
            "Epoch 437/500\n",
            "1000/1000 [==============================] - 5s 5ms/step - loss: 0.5810 - accuracy: 0.7949\n",
            "Epoch 438/500\n",
            "1000/1000 [==============================] - 5s 5ms/step - loss: 0.5797 - accuracy: 0.7956\n",
            "Epoch 439/500\n",
            "1000/1000 [==============================] - 5s 5ms/step - loss: 0.5789 - accuracy: 0.7944\n",
            "Epoch 440/500\n",
            "1000/1000 [==============================] - 5s 5ms/step - loss: 0.5850 - accuracy: 0.7935\n",
            "Epoch 441/500\n",
            "1000/1000 [==============================] - 5s 5ms/step - loss: 0.5836 - accuracy: 0.7927\n",
            "Epoch 442/500\n",
            "1000/1000 [==============================] - 5s 5ms/step - loss: 0.5815 - accuracy: 0.7943\n",
            "Epoch 443/500\n",
            "1000/1000 [==============================] - 5s 5ms/step - loss: 0.5752 - accuracy: 0.7958\n",
            "Epoch 444/500\n",
            "1000/1000 [==============================] - 5s 5ms/step - loss: 0.5809 - accuracy: 0.7942\n",
            "Epoch 445/500\n",
            "1000/1000 [==============================] - 5s 5ms/step - loss: 0.5814 - accuracy: 0.7954\n",
            "Epoch 446/500\n",
            "1000/1000 [==============================] - 5s 5ms/step - loss: 0.5766 - accuracy: 0.7972\n",
            "Epoch 447/500\n",
            "1000/1000 [==============================] - 5s 5ms/step - loss: 0.5795 - accuracy: 0.7934\n",
            "Epoch 448/500\n",
            "1000/1000 [==============================] - 5s 5ms/step - loss: 0.5775 - accuracy: 0.7960\n",
            "Epoch 449/500\n",
            "1000/1000 [==============================] - 5s 5ms/step - loss: 0.5751 - accuracy: 0.7965\n",
            "Epoch 450/500\n",
            "1000/1000 [==============================] - 5s 5ms/step - loss: 0.5828 - accuracy: 0.7933\n",
            "Epoch 451/500\n",
            "1000/1000 [==============================] - 5s 5ms/step - loss: 0.5753 - accuracy: 0.7973\n",
            "Epoch 452/500\n",
            "1000/1000 [==============================] - 5s 5ms/step - loss: 0.5763 - accuracy: 0.7978\n",
            "Epoch 453/500\n",
            "1000/1000 [==============================] - 5s 5ms/step - loss: 0.5733 - accuracy: 0.7975\n",
            "Epoch 454/500\n",
            "1000/1000 [==============================] - 5s 5ms/step - loss: 0.5765 - accuracy: 0.7945\n",
            "Epoch 455/500\n",
            "1000/1000 [==============================] - 5s 5ms/step - loss: 0.5739 - accuracy: 0.7971\n",
            "Epoch 456/500\n",
            "1000/1000 [==============================] - 6s 6ms/step - loss: 0.5745 - accuracy: 0.7966\n",
            "Epoch 457/500\n",
            "1000/1000 [==============================] - 5s 5ms/step - loss: 0.5776 - accuracy: 0.7950\n",
            "Epoch 458/500\n",
            "1000/1000 [==============================] - 5s 5ms/step - loss: 0.5808 - accuracy: 0.7957\n",
            "Epoch 459/500\n",
            "1000/1000 [==============================] - 5s 5ms/step - loss: 0.5758 - accuracy: 0.7963\n",
            "Epoch 460/500\n",
            "1000/1000 [==============================] - 5s 5ms/step - loss: 0.5738 - accuracy: 0.7963\n",
            "Epoch 461/500\n",
            "1000/1000 [==============================] - 5s 5ms/step - loss: 0.5740 - accuracy: 0.7969\n",
            "Epoch 462/500\n",
            "1000/1000 [==============================] - 5s 5ms/step - loss: 0.5741 - accuracy: 0.7975\n",
            "Epoch 463/500\n",
            "1000/1000 [==============================] - 5s 5ms/step - loss: 0.5727 - accuracy: 0.7976\n",
            "Epoch 464/500\n",
            "1000/1000 [==============================] - 5s 5ms/step - loss: 0.5760 - accuracy: 0.7959\n",
            "Epoch 465/500\n",
            "1000/1000 [==============================] - 5s 5ms/step - loss: 0.5708 - accuracy: 0.7996\n",
            "Epoch 466/500\n",
            "1000/1000 [==============================] - 5s 5ms/step - loss: 0.5759 - accuracy: 0.7981\n",
            "Epoch 467/500\n",
            "1000/1000 [==============================] - 5s 5ms/step - loss: 0.5756 - accuracy: 0.7966\n",
            "Epoch 468/500\n",
            "1000/1000 [==============================] - 5s 5ms/step - loss: 0.5792 - accuracy: 0.7948\n",
            "Epoch 469/500\n",
            "1000/1000 [==============================] - 5s 5ms/step - loss: 0.5702 - accuracy: 0.7977\n",
            "Epoch 470/500\n",
            "1000/1000 [==============================] - 5s 5ms/step - loss: 0.5763 - accuracy: 0.7948\n",
            "Epoch 471/500\n",
            "1000/1000 [==============================] - 5s 5ms/step - loss: 0.5733 - accuracy: 0.7971\n",
            "Epoch 472/500\n",
            "1000/1000 [==============================] - 5s 5ms/step - loss: 0.5731 - accuracy: 0.7984\n",
            "Epoch 473/500\n",
            "1000/1000 [==============================] - 5s 5ms/step - loss: 0.5709 - accuracy: 0.7977\n",
            "Epoch 474/500\n",
            "1000/1000 [==============================] - 5s 5ms/step - loss: 0.5697 - accuracy: 0.7980\n",
            "Epoch 475/500\n",
            "1000/1000 [==============================] - 5s 5ms/step - loss: 0.5726 - accuracy: 0.7978\n",
            "Epoch 476/500\n",
            "1000/1000 [==============================] - 5s 5ms/step - loss: 0.5740 - accuracy: 0.7970\n",
            "Epoch 477/500\n",
            "1000/1000 [==============================] - 5s 5ms/step - loss: 0.5762 - accuracy: 0.7973\n",
            "Epoch 478/500\n",
            "1000/1000 [==============================] - 5s 5ms/step - loss: 0.5716 - accuracy: 0.7969\n",
            "Epoch 479/500\n",
            "1000/1000 [==============================] - 5s 5ms/step - loss: 0.5702 - accuracy: 0.7995\n",
            "Epoch 480/500\n",
            "1000/1000 [==============================] - 5s 5ms/step - loss: 0.5664 - accuracy: 0.7996\n",
            "Epoch 481/500\n",
            "1000/1000 [==============================] - 5s 5ms/step - loss: 0.5698 - accuracy: 0.7993\n",
            "Epoch 482/500\n",
            "1000/1000 [==============================] - 5s 5ms/step - loss: 0.5714 - accuracy: 0.7980\n",
            "Epoch 483/500\n",
            "1000/1000 [==============================] - 5s 5ms/step - loss: 0.5713 - accuracy: 0.7956\n",
            "Epoch 484/500\n",
            "1000/1000 [==============================] - 5s 5ms/step - loss: 0.5741 - accuracy: 0.7985\n",
            "Epoch 485/500\n",
            "1000/1000 [==============================] - 5s 5ms/step - loss: 0.5723 - accuracy: 0.7984\n",
            "Epoch 486/500\n",
            "1000/1000 [==============================] - 5s 5ms/step - loss: 0.5678 - accuracy: 0.8001\n",
            "Epoch 487/500\n",
            "1000/1000 [==============================] - 5s 5ms/step - loss: 0.5679 - accuracy: 0.7998\n",
            "Epoch 488/500\n",
            "1000/1000 [==============================] - 5s 5ms/step - loss: 0.5700 - accuracy: 0.7981\n",
            "Epoch 489/500\n",
            "1000/1000 [==============================] - 5s 5ms/step - loss: 0.5645 - accuracy: 0.8004\n",
            "Epoch 490/500\n",
            "1000/1000 [==============================] - 5s 5ms/step - loss: 0.5722 - accuracy: 0.7994\n",
            "Epoch 491/500\n",
            "1000/1000 [==============================] - 5s 5ms/step - loss: 0.5679 - accuracy: 0.7984\n",
            "Epoch 492/500\n",
            "1000/1000 [==============================] - 5s 5ms/step - loss: 0.5737 - accuracy: 0.7964\n",
            "Epoch 493/500\n",
            "1000/1000 [==============================] - 5s 5ms/step - loss: 0.5652 - accuracy: 0.8003\n",
            "Epoch 494/500\n",
            "1000/1000 [==============================] - 5s 5ms/step - loss: 0.5685 - accuracy: 0.7999\n",
            "Epoch 495/500\n",
            "1000/1000 [==============================] - 5s 5ms/step - loss: 0.5648 - accuracy: 0.8008\n",
            "Epoch 496/500\n",
            "1000/1000 [==============================] - 5s 5ms/step - loss: 0.5641 - accuracy: 0.8008\n",
            "Epoch 497/500\n",
            "1000/1000 [==============================] - 5s 5ms/step - loss: 0.5680 - accuracy: 0.7991\n",
            "Epoch 498/500\n",
            "1000/1000 [==============================] - 5s 5ms/step - loss: 0.5655 - accuracy: 0.8005\n",
            "Epoch 499/500\n",
            "1000/1000 [==============================] - 5s 5ms/step - loss: 0.5681 - accuracy: 0.7988\n",
            "Epoch 500/500\n",
            "1000/1000 [==============================] - 5s 5ms/step - loss: 0.5661 - accuracy: 0.7980\n"
          ]
        },
        {
          "output_type": "execute_result",
          "data": {
            "text/plain": [
              "<keras.callbacks.History at 0x7f96bc166710>"
            ]
          },
          "metadata": {},
          "execution_count": 19
        }
      ]
    },
    {
      "cell_type": "code",
      "source": [
        "cnn.evaluate(X_test_scaled,y_test_categorical)"
      ],
      "metadata": {
        "id": "toFHsgfgvIXt",
        "outputId": "b4abaf4a-b584-43c2-d546-8c03b921b66e",
        "colab": {
          "base_uri": "https://localhost:8080/"
        }
      },
      "execution_count": 20,
      "outputs": [
        {
          "output_type": "stream",
          "name": "stdout",
          "text": [
            "313/313 [==============================] - 1s 3ms/step - loss: 0.7685 - accuracy: 0.7643\n"
          ]
        },
        {
          "output_type": "execute_result",
          "data": {
            "text/plain": [
              "[0.7685364484786987, 0.7642999887466431]"
            ]
          },
          "metadata": {},
          "execution_count": 20
        }
      ]
    }
  ]
}